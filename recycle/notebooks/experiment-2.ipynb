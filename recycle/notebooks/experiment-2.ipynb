{
 "cells": [
  {
   "cell_type": "code",
   "execution_count": 1,
   "id": "dad70ad7-2272-4679-991a-c6cd648b83da",
   "metadata": {},
   "outputs": [],
   "source": [
    "import sys\n",
    "sys.path.append(\"D:/Python/siemens-rag-bot/siemens-energy/\")"
   ]
  },
  {
   "cell_type": "code",
   "execution_count": 2,
   "id": "09416ec5-34de-47c1-b1fc-e4d9148e7695",
   "metadata": {},
   "outputs": [],
   "source": [
    "import os, re\n",
    "import torch\n",
    "import shutil\n",
    "import random\n",
    "import pandas as pd\n",
    "from PIL import Image\n",
    "from pathlib import Path\n",
    "from itertools import islice\n",
    "from torchvision import transforms as T\n",
    "from torch.utils.data import Dataset, DataLoader\n",
    "from datasets import load_dataset\n",
    "from collections import defaultdict\n",
    "from diffusers import StableDiffusionPipeline\n",
    "from huggingface_hub import hf_hub_download\n",
    "\n",
    "import matplotlib.pyplot as plt\n",
    "\n",
    "%matplotlib inline"
   ]
  },
  {
   "cell_type": "code",
   "execution_count": 3,
   "id": "856db4c0-bef3-42a1-b21a-af413be3aeb5",
   "metadata": {},
   "outputs": [
    {
     "name": "stdout",
     "output_type": "stream",
     "text": [
      "df.shape=(917, 3)\n",
      "bottle_df.shape=(63, 3)\n"
     ]
    },
    {
     "name": "stderr",
     "output_type": "stream",
     "text": [
      "D:\\Python\\siemens-rag-bot\\env\\lib\\site-packages\\openpyxl\\worksheet\\header_footer.py:48: UserWarning: Cannot parse header or footer so it will be ignored\n",
      "  warn(\"\"\"Cannot parse header or footer so it will be ignored\"\"\")\n"
     ]
    }
   ],
   "source": [
    "excel_path = '../dataset/captions.xlsx'  # change this\n",
    "df = pd.read_excel(excel_path)\n",
    "print(f\"{df.shape=}\")\n",
    "\n",
    "bottle_df = df[df['Path'].str.contains('bottle')]\n",
    "print(f\"{bottle_df.shape=}\")"
   ]
  },
  {
   "cell_type": "code",
   "execution_count": 4,
   "id": "007cf7ca-d6b7-490f-9d6b-d396c5d1b811",
   "metadata": {},
   "outputs": [
    {
     "data": {
      "text/html": [
       "<div>\n",
       "<style scoped>\n",
       "    .dataframe tbody tr th:only-of-type {\n",
       "        vertical-align: middle;\n",
       "    }\n",
       "\n",
       "    .dataframe tbody tr th {\n",
       "        vertical-align: top;\n",
       "    }\n",
       "\n",
       "    .dataframe thead th {\n",
       "        text-align: right;\n",
       "    }\n",
       "</style>\n",
       "<table border=\"1\" class=\"dataframe\">\n",
       "  <thead>\n",
       "    <tr style=\"text-align: right;\">\n",
       "      <th></th>\n",
       "      <th>Path</th>\n",
       "      <th>object description</th>\n",
       "      <th>defect description</th>\n",
       "    </tr>\n",
       "  </thead>\n",
       "  <tbody>\n",
       "    <tr>\n",
       "      <th>373</th>\n",
       "      <td>bottle/broken_large/000.png</td>\n",
       "      <td>The image shows a top-down view of a bottle, l...</td>\n",
       "      <td>The bottom right corner has a large breakage d...</td>\n",
       "    </tr>\n",
       "    <tr>\n",
       "      <th>374</th>\n",
       "      <td>bottle/broken_large/001.png</td>\n",
       "      <td>The image shows a top-down view of a bottle, l...</td>\n",
       "      <td>The lower half has a large breakage defect, sh...</td>\n",
       "    </tr>\n",
       "    <tr>\n",
       "      <th>375</th>\n",
       "      <td>bottle/broken_large/002.png</td>\n",
       "      <td>The image shows a top-down view of a bottle, l...</td>\n",
       "      <td>The upper half has a large breakage defect, sh...</td>\n",
       "    </tr>\n",
       "    <tr>\n",
       "      <th>376</th>\n",
       "      <td>bottle/broken_large/003.png</td>\n",
       "      <td>The image shows a top-down view of a bottle, l...</td>\n",
       "      <td>The left half has a large breakage defect, sha...</td>\n",
       "    </tr>\n",
       "    <tr>\n",
       "      <th>377</th>\n",
       "      <td>bottle/broken_large/004.png</td>\n",
       "      <td>The image shows a top-down view of a bottle, l...</td>\n",
       "      <td>The upper left corner has a small breakage def...</td>\n",
       "    </tr>\n",
       "    <tr>\n",
       "      <th>...</th>\n",
       "      <td>...</td>\n",
       "      <td>...</td>\n",
       "      <td>...</td>\n",
       "    </tr>\n",
       "    <tr>\n",
       "      <th>431</th>\n",
       "      <td>bottle/contamination/016.png</td>\n",
       "      <td>The image shows a top-down view of a bottle, l...</td>\n",
       "      <td>Inside the bottle, there is a larger circular ...</td>\n",
       "    </tr>\n",
       "    <tr>\n",
       "      <th>432</th>\n",
       "      <td>bottle/contamination/017.png</td>\n",
       "      <td>The image shows a top-down view of a bottle, l...</td>\n",
       "      <td>Extending to the upper left inside the bottle,...</td>\n",
       "    </tr>\n",
       "    <tr>\n",
       "      <th>433</th>\n",
       "      <td>bottle/contamination/018.png</td>\n",
       "      <td>The image shows a top-down view of a bottle, l...</td>\n",
       "      <td>Extending to the upper right inside the bottle...</td>\n",
       "    </tr>\n",
       "    <tr>\n",
       "      <th>434</th>\n",
       "      <td>bottle/contamination/019.png</td>\n",
       "      <td>The image shows a top-down view of a bottle, l...</td>\n",
       "      <td>The lower right corner has a large breakage de...</td>\n",
       "    </tr>\n",
       "    <tr>\n",
       "      <th>435</th>\n",
       "      <td>bottle/contamination/020.png</td>\n",
       "      <td>The image shows a top-down view of a bottle, l...</td>\n",
       "      <td>Inside the bottle, there is a larger circular ...</td>\n",
       "    </tr>\n",
       "  </tbody>\n",
       "</table>\n",
       "<p>63 rows × 3 columns</p>\n",
       "</div>"
      ],
      "text/plain": [
       "                             Path  \\\n",
       "373   bottle/broken_large/000.png   \n",
       "374   bottle/broken_large/001.png   \n",
       "375   bottle/broken_large/002.png   \n",
       "376   bottle/broken_large/003.png   \n",
       "377   bottle/broken_large/004.png   \n",
       "..                            ...   \n",
       "431  bottle/contamination/016.png   \n",
       "432  bottle/contamination/017.png   \n",
       "433  bottle/contamination/018.png   \n",
       "434  bottle/contamination/019.png   \n",
       "435  bottle/contamination/020.png   \n",
       "\n",
       "                                    object description  \\\n",
       "373  The image shows a top-down view of a bottle, l...   \n",
       "374  The image shows a top-down view of a bottle, l...   \n",
       "375  The image shows a top-down view of a bottle, l...   \n",
       "376  The image shows a top-down view of a bottle, l...   \n",
       "377  The image shows a top-down view of a bottle, l...   \n",
       "..                                                 ...   \n",
       "431  The image shows a top-down view of a bottle, l...   \n",
       "432  The image shows a top-down view of a bottle, l...   \n",
       "433  The image shows a top-down view of a bottle, l...   \n",
       "434  The image shows a top-down view of a bottle, l...   \n",
       "435  The image shows a top-down view of a bottle, l...   \n",
       "\n",
       "                                    defect description  \n",
       "373  The bottom right corner has a large breakage d...  \n",
       "374  The lower half has a large breakage defect, sh...  \n",
       "375  The upper half has a large breakage defect, sh...  \n",
       "376  The left half has a large breakage defect, sha...  \n",
       "377  The upper left corner has a small breakage def...  \n",
       "..                                                 ...  \n",
       "431  Inside the bottle, there is a larger circular ...  \n",
       "432  Extending to the upper left inside the bottle,...  \n",
       "433  Extending to the upper right inside the bottle...  \n",
       "434  The lower right corner has a large breakage de...  \n",
       "435  Inside the bottle, there is a larger circular ...  \n",
       "\n",
       "[63 rows x 3 columns]"
      ]
     },
     "execution_count": 4,
     "metadata": {},
     "output_type": "execute_result"
    }
   ],
   "source": [
    "bottle_df"
   ]
  },
  {
   "cell_type": "code",
   "execution_count": 5,
   "id": "fb8c45ed-29fe-4699-8e95-de35a5c19da1",
   "metadata": {},
   "outputs": [],
   "source": [
    "# ### !!! Note: This code is one time run only when copied the data from main data folder to dataset folder for respective class \n",
    "\n",
    "# path = '../dataset/bottle/image/'\n",
    "# folders = os.listdir(path)\n",
    "# print(folders)\n",
    "\n",
    "# #for index, file in enumerate(files):\n",
    "# #    os.rename(os.path.join(path, file), os.path.join(path, ''.join([str('raw_')+str(index), '.jpg'])))\n",
    "\n",
    "# for i in folders:\n",
    "#     new_path = path+i\n",
    "#     files = os.listdir(new_path)\n",
    "#     for index, file in enumerate(files):\n",
    "#         fname = file.split(\".\")[0]\n",
    "#         row = bottle_df.loc[bottle_df[\"Path\"] == \"bottle/\" + i + \"/\" + file].values\n",
    "#         if len(row)>0:\n",
    "#             caption = row[0][1] + \" \" + row[0][2]\n",
    "#             caption_path = os.path.join(new_path, ''.join([i+\"-\"+str(fname), '.txt']))\n",
    "#             with open(caption_path, 'w') as f:\n",
    "#                 f.write(caption)\n",
    "#             os.rename(os.path.join(new_path, file), os.path.join(new_path, ''.join([i+\"-\"+str(fname), '.png'])))\n",
    "#         else:\n",
    "#             os.rename(os.path.join(new_path, file), os.path.join(new_path, ''.join([i+\"-\"+str(fname), '.png'])))"
   ]
  },
  {
   "cell_type": "code",
   "execution_count": 4,
   "id": "6bb99e63-eeb6-4533-a10a-cfffc04f39d2",
   "metadata": {},
   "outputs": [
    {
     "name": "stdout",
     "output_type": "stream",
     "text": [
      "['broken_large', 'broken_small', 'contamination']\n"
     ]
    }
   ],
   "source": [
    "### !!! Note: This code is one time run only when copied the data from main data folder to dataset folder for respective class \n",
    "\n",
    "path = '../dataset/bottle/rbg_mask/'\n",
    "folders = os.listdir(path)\n",
    "print(folders)\n",
    "\n",
    "#for index, file in enumerate(files):\n",
    "#    os.rename(os.path.join(path, file), os.path.join(path, ''.join([str('raw_')+str(index), '.jpg'])))\n",
    "\n",
    "for i in folders:\n",
    "    new_path = path+i\n",
    "    files = os.listdir(new_path)\n",
    "    for index, file in enumerate(files):\n",
    "        fname = file.split(\".\")[0]\n",
    "        os.rename(os.path.join(new_path, file), os.path.join(new_path, ''.join([i+\"-\"+str(fname), '.png'])))"
   ]
  },
  {
   "cell_type": "code",
   "execution_count": 24,
   "id": "3cdb17c2-72c3-466f-b301-9b14c0b859c0",
   "metadata": {},
   "outputs": [
    {
     "name": "stdout",
     "output_type": "stream",
     "text": [
      "torch.Size([4, 3, 512, 512])\n",
      "[\"The image shows a top-down view of a bottle, looking from the bottle's neck towards the bottom, with a white background. The left half has a large breakage defect, shaped like half a ring, in black color.\", \"The image shows a top-down view of a bottle, looking from the bottle's neck towards the bottom, with a white background. The left half has a large breakage defect, shaped like half a ring, in black color.\", \"The image shows a top-down view of a bottle, looking from the bottle's neck towards the bottom, with a white background. The upper right corner has a large breakage defect, shaped like a quarter of a ring, in black color.\", \"The image shows a top-down view of a bottle, looking from the bottle's neck towards the bottom, with a white background. Extending to the upper left inside the bottle, there is a large irregularly shaped black fabric contaminant.\"]\n"
     ]
    }
   ],
   "source": [
    "from scripts.dataset import BottleDataset\n",
    "\n",
    "dataset = BottleDataset(root_dir=\"../dataset/bottle/image/\", image_size=512)\n",
    "loader = DataLoader(dataset, batch_size=4, shuffle=True)\n",
    "\n",
    "sample = next(iter(loader))\n",
    "print(sample['pixel_values'].shape)  # torch.Size([4, 3, 512, 512])\n",
    "print(sample['text'])                # 4 captions"
   ]
  },
  {
   "cell_type": "markdown",
   "id": "965ad143-73bd-49d7-8ab2-e8d2d7f5d0f5",
   "metadata": {},
   "source": [
    "## Loading the model"
   ]
  },
  {
   "cell_type": "code",
   "execution_count": 25,
   "id": "848b6384-5c23-4801-bc5b-4c98f84e2518",
   "metadata": {},
   "outputs": [
    {
     "data": {
      "application/vnd.jupyter.widget-view+json": {
       "model_id": "459e4d7f5f7b42cda213d7d8d0ace83e",
       "version_major": 2,
       "version_minor": 0
      },
      "text/plain": [
       "model_index.json:   0%|          | 0.00/543 [00:00<?, ?B/s]"
      ]
     },
     "metadata": {},
     "output_type": "display_data"
    },
    {
     "name": "stderr",
     "output_type": "stream",
     "text": [
      "D:\\Python\\siemens-rag-bot\\env\\lib\\site-packages\\diffusers\\pipelines\\pipeline_loading_utils.py:285: FutureWarning: You are loading the variant fp16 from CompVis/stable-diffusion-v1-4 via `revision='fp16'`. This behavior is deprecated and will be removed in diffusers v1. One should use `variant='fp16'` instead. However, it appears that CompVis/stable-diffusion-v1-4 currently does not have the required variant filenames in the 'main' branch. \n",
      " The Diffusers team and community would be very grateful if you could open an issue: https://github.com/huggingface/diffusers/issues/new with the title 'CompVis/stable-diffusion-v1-4 is missing fp16 files' so that the correct variant file can be added.\n",
      "  warnings.warn(\n"
     ]
    },
    {
     "data": {
      "application/vnd.jupyter.widget-view+json": {
       "model_id": "da9f478dad5d4c41abdd918514d0b404",
       "version_major": 2,
       "version_minor": 0
      },
      "text/plain": [
       "Fetching 16 files:   0%|          | 0/16 [00:00<?, ?it/s]"
      ]
     },
     "metadata": {},
     "output_type": "display_data"
    },
    {
     "data": {
      "application/vnd.jupyter.widget-view+json": {
       "model_id": "344bb7e31b2c42d18d98fa900445e4f6",
       "version_major": 2,
       "version_minor": 0
      },
      "text/plain": [
       "pytorch_model.bin:   0%|          | 0.00/246M [00:00<?, ?B/s]"
      ]
     },
     "metadata": {},
     "output_type": "display_data"
    },
    {
     "data": {
      "application/vnd.jupyter.widget-view+json": {
       "model_id": "d42b603cf4f5405e890f062391227a33",
       "version_major": 2,
       "version_minor": 0
      },
      "text/plain": [
       "config.json:   0%|          | 0.00/4.63k [00:00<?, ?B/s]"
      ]
     },
     "metadata": {},
     "output_type": "display_data"
    },
    {
     "data": {
      "application/vnd.jupyter.widget-view+json": {
       "model_id": "15483e65320e4394be54e26a0ae2ddd6",
       "version_major": 2,
       "version_minor": 0
      },
      "text/plain": [
       "preprocessor_config.json:   0%|          | 0.00/342 [00:00<?, ?B/s]"
      ]
     },
     "metadata": {},
     "output_type": "display_data"
    },
    {
     "data": {
      "application/vnd.jupyter.widget-view+json": {
       "model_id": "d67e8c017959475abb97ffcde683acde",
       "version_major": 2,
       "version_minor": 0
      },
      "text/plain": [
       "scheduler_config.json:   0%|          | 0.00/307 [00:00<?, ?B/s]"
      ]
     },
     "metadata": {},
     "output_type": "display_data"
    },
    {
     "data": {
      "application/vnd.jupyter.widget-view+json": {
       "model_id": "51399fc5d73642c799ce62eb59477ee0",
       "version_major": 2,
       "version_minor": 0
      },
      "text/plain": [
       "pytorch_model.bin:   0%|          | 0.00/608M [00:00<?, ?B/s]"
      ]
     },
     "metadata": {},
     "output_type": "display_data"
    },
    {
     "data": {
      "application/vnd.jupyter.widget-view+json": {
       "model_id": "f78533bfa8cd433bb739cbbbb31d21a0",
       "version_major": 2,
       "version_minor": 0
      },
      "text/plain": [
       "scheduler_config-checkpoint.json:   0%|          | 0.00/209 [00:00<?, ?B/s]"
      ]
     },
     "metadata": {},
     "output_type": "display_data"
    },
    {
     "data": {
      "application/vnd.jupyter.widget-view+json": {
       "model_id": "a9189c08355843eba824381822db8713",
       "version_major": 2,
       "version_minor": 0
      },
      "text/plain": [
       "merges.txt:   0%|          | 0.00/525k [00:00<?, ?B/s]"
      ]
     },
     "metadata": {},
     "output_type": "display_data"
    },
    {
     "data": {
      "application/vnd.jupyter.widget-view+json": {
       "model_id": "dacc7edf47294391b5a33134484bb7ae",
       "version_major": 2,
       "version_minor": 0
      },
      "text/plain": [
       "config.json:   0%|          | 0.00/572 [00:00<?, ?B/s]"
      ]
     },
     "metadata": {},
     "output_type": "display_data"
    },
    {
     "data": {
      "application/vnd.jupyter.widget-view+json": {
       "model_id": "595149795cf0440c88ea3e48689a1025",
       "version_major": 2,
       "version_minor": 0
      },
      "text/plain": [
       "vocab.json:   0%|          | 0.00/1.06M [00:00<?, ?B/s]"
      ]
     },
     "metadata": {},
     "output_type": "display_data"
    },
    {
     "data": {
      "application/vnd.jupyter.widget-view+json": {
       "model_id": "116cabf1bdb2434d80b4dac9b0b7d282",
       "version_major": 2,
       "version_minor": 0
      },
      "text/plain": [
       "tokenizer_config.json:   0%|          | 0.00/788 [00:00<?, ?B/s]"
      ]
     },
     "metadata": {},
     "output_type": "display_data"
    },
    {
     "data": {
      "application/vnd.jupyter.widget-view+json": {
       "model_id": "d3e7357404174b94b908a86f8ca47bd7",
       "version_major": 2,
       "version_minor": 0
      },
      "text/plain": [
       "config.json:   0%|          | 0.00/772 [00:00<?, ?B/s]"
      ]
     },
     "metadata": {},
     "output_type": "display_data"
    },
    {
     "data": {
      "application/vnd.jupyter.widget-view+json": {
       "model_id": "34da5baeddb8424087b516ffe9c88169",
       "version_major": 2,
       "version_minor": 0
      },
      "text/plain": [
       "special_tokens_map.json:   0%|          | 0.00/472 [00:00<?, ?B/s]"
      ]
     },
     "metadata": {},
     "output_type": "display_data"
    },
    {
     "data": {
      "application/vnd.jupyter.widget-view+json": {
       "model_id": "5bbd27dceb114302a9a8a765d78b4298",
       "version_major": 2,
       "version_minor": 0
      },
      "text/plain": [
       "config.json:   0%|          | 0.00/550 [00:00<?, ?B/s]"
      ]
     },
     "metadata": {},
     "output_type": "display_data"
    },
    {
     "data": {
      "application/vnd.jupyter.widget-view+json": {
       "model_id": "941eadc057c74c10afc2e35ae889d722",
       "version_major": 2,
       "version_minor": 0
      },
      "text/plain": [
       "diffusion_pytorch_model.bin:   0%|          | 0.00/1.72G [00:00<?, ?B/s]"
      ]
     },
     "metadata": {},
     "output_type": "display_data"
    },
    {
     "data": {
      "application/vnd.jupyter.widget-view+json": {
       "model_id": "07a6242b4a5d42859634c8cef46ea350",
       "version_major": 2,
       "version_minor": 0
      },
      "text/plain": [
       "diffusion_pytorch_model.bin:   0%|          | 0.00/167M [00:00<?, ?B/s]"
      ]
     },
     "metadata": {},
     "output_type": "display_data"
    },
    {
     "name": "stderr",
     "output_type": "stream",
     "text": [
      "Keyword arguments {'use_auth_token': True} are not expected by StableDiffusionPipeline and will be ignored.\n"
     ]
    },
    {
     "data": {
      "application/vnd.jupyter.widget-view+json": {
       "model_id": "183ac629609640d4be0674c74ca779dc",
       "version_major": 2,
       "version_minor": 0
      },
      "text/plain": [
       "Loading pipeline components...:   0%|          | 0/7 [00:00<?, ?it/s]"
      ]
     },
     "metadata": {},
     "output_type": "display_data"
    },
    {
     "name": "stderr",
     "output_type": "stream",
     "text": [
      "An error occurred while trying to fetch C:\\Users\\adity\\.cache\\huggingface\\hub\\models--CompVis--stable-diffusion-v1-4\\snapshots\\2880f2ca379f41b0226444936bb7a6766a227587\\vae: Error no file named diffusion_pytorch_model.safetensors found in directory C:\\Users\\adity\\.cache\\huggingface\\hub\\models--CompVis--stable-diffusion-v1-4\\snapshots\\2880f2ca379f41b0226444936bb7a6766a227587\\vae.\n",
      "Defaulting to unsafe serialization. Pass `allow_pickle=False` to raise an error instead.\n",
      "An error occurred while trying to fetch C:\\Users\\adity\\.cache\\huggingface\\hub\\models--CompVis--stable-diffusion-v1-4\\snapshots\\2880f2ca379f41b0226444936bb7a6766a227587\\unet: Error no file named diffusion_pytorch_model.safetensors found in directory C:\\Users\\adity\\.cache\\huggingface\\hub\\models--CompVis--stable-diffusion-v1-4\\snapshots\\2880f2ca379f41b0226444936bb7a6766a227587\\unet.\n",
      "Defaulting to unsafe serialization. Pass `allow_pickle=False` to raise an error instead.\n",
      "D:\\Python\\siemens-rag-bot\\env\\lib\\site-packages\\transformers\\models\\clip\\feature_extraction_clip.py:28: FutureWarning: The class CLIPFeatureExtractor is deprecated and will be removed in version 5 of Transformers. Please use CLIPImageProcessor instead.\n",
      "  warnings.warn(\n"
     ]
    },
    {
     "name": "stdout",
     "output_type": "stream",
     "text": [
      "✅ Model Loaded Successfully!\n"
     ]
    }
   ],
   "source": [
    "model_id = \"CompVis/stable-diffusion-v1-4\"\n",
    "pipe = StableDiffusionPipeline.from_pretrained(model_id, torch_dtype=torch.float16, revision=\"fp16\", use_auth_token=True).to(\"cuda\")  # if private model\n",
    "\n",
    "print(\"Model Loaded Successfully!\")"
   ]
  },
  {
   "cell_type": "code",
   "execution_count": 27,
   "id": "ce033c1a-e010-49fd-8587-fa7744d9e706",
   "metadata": {},
   "outputs": [],
   "source": [
    "from peft import get_peft_model, LoraConfig #, TaskType\n",
    "from peft.utils.peft_types import TaskType"
   ]
  },
  {
   "cell_type": "code",
   "execution_count": null,
   "id": "50ae3ba6-2b9b-4a7a-976b-e632088db917",
   "metadata": {},
   "outputs": [],
   "source": [
    "lora_config = LoraConfig(\n",
    "    r=4,\n",
    "    lora_alpha=32,\n",
    "    target_modules=[\"to_k\", \"to_q\", \"to_v\", \"to_out\"],\n",
    "    lora_dropout=0.1,\n",
    "    bias=\"none\",\n",
    "    task_type=TaskType.\n",
    ")\n"
   ]
  },
  {
   "cell_type": "code",
   "execution_count": null,
   "id": "19946f8a-c4e2-4909-903d-5db4c29c6dfd",
   "metadata": {},
   "outputs": [],
   "source": []
  },
  {
   "cell_type": "code",
   "execution_count": null,
   "id": "5c913c73-bc9e-4e17-bdf6-67bb8902f6ce",
   "metadata": {},
   "outputs": [],
   "source": []
  },
  {
   "cell_type": "code",
   "execution_count": null,
   "id": "a9ccb8b1-f345-46b7-ac0b-7f17104e0d01",
   "metadata": {},
   "outputs": [],
   "source": []
  },
  {
   "cell_type": "code",
   "execution_count": null,
   "id": "8740c926-4934-4766-a62c-f68f627b5f1a",
   "metadata": {},
   "outputs": [],
   "source": []
  },
  {
   "cell_type": "code",
   "execution_count": null,
   "id": "0d8811c7-0de4-47d0-8a34-7f03ed51bed3",
   "metadata": {},
   "outputs": [],
   "source": []
  },
  {
   "cell_type": "code",
   "execution_count": null,
   "id": "04e08a69-26d4-42c3-9a6e-d5d60af15d4d",
   "metadata": {},
   "outputs": [],
   "source": []
  }
 ],
 "metadata": {
  "kernelspec": {
   "display_name": "Python 3 (ipykernel)",
   "language": "python",
   "name": "python3"
  },
  "language_info": {
   "codemirror_mode": {
    "name": "ipython",
    "version": 3
   },
   "file_extension": ".py",
   "mimetype": "text/x-python",
   "name": "python",
   "nbconvert_exporter": "python",
   "pygments_lexer": "ipython3",
   "version": "3.10.7"
  },
  "widgets": {
   "application/vnd.jupyter.widget-state+json": {
    "state": {},
    "version_major": 2,
    "version_minor": 0
   }
  }
 },
 "nbformat": 4,
 "nbformat_minor": 5
}
