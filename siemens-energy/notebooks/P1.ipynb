{
 "cells": [
  {
   "cell_type": "code",
   "execution_count": 26,
   "id": "22f8d4bd-f171-4914-9edb-61fbf220cae0",
   "metadata": {},
   "outputs": [],
   "source": [
    "import os\n",
    "import math\n",
    "import torch\n",
    "from transformers import AutoTokenizer, CLIPTextModel\n",
    "from diffusers import AutoencoderKL, UNet2DConditionModel\n",
    "from diffusers.schedulers import DDPMScheduler\n",
    "from diffusers import StableDiffusionPipeline, DPMSolverMultistepScheduler\n",
    "from peft import LoraConfig, get_peft_model\n",
    "\n",
    "from PIL import Image\n",
    "from torch.utils.data import Dataset, DataLoader\n",
    "from torchvision import transforms\n",
    "from accelerate import Accelerator\n",
    "# from torch.cuda.amp import autocast, GradScaler\n",
    "from torch.amp import autocast, GradScaler\n",
    "\n",
    "import torch.optim as optim\n",
    "from diffusers.schedulers import DDPMScheduler\n",
    "from accelerate import Accelerator\n",
    "from tqdm.auto import tqdm\n",
    "\n",
    "from torch.nn.functional import pad\n",
    "\n",
    "# Tokenize and encode captions\n",
    "tokenizer = pipe.tokenizer\n",
    "text_encoder = pipe.text_encoder.to(\"cuda\")  # Ensure text encoder is on GPU"
   ]
  },
  {
   "cell_type": "code",
   "execution_count": 2,
   "id": "c9f6dc8b-f6c2-47dd-b77e-fea8a192036e",
   "metadata": {},
   "outputs": [],
   "source": [
    "class DefectDataset(Dataset):\n",
    "    def __init__(self, image_dir, mask_dir, caption_file_dir, image_transform=None, mask_transform=None):\n",
    "        self.image_dir = image_dir\n",
    "        self.mask_dir = mask_dir\n",
    "        self.caption_file_dir = caption_file_dir\n",
    "        self.image_files = sorted([f for f in os.listdir(image_dir) if f.endswith(('.png', '.jpg', '.jpeg'))])\n",
    "        self.image_transform = image_transform\n",
    "        self.mask_transform = mask_transform\n",
    "        \n",
    "    def __len__(self):\n",
    "        return len(self.image_files)\n",
    "\n",
    "    def __getitem__(self, idx):\n",
    "        image_name = self.image_files[idx]\n",
    "        mask_name = image_name.split(\".\")  # Assuming mask has the same name\n",
    "        mask_name = mask_name[0] + \"_rbg_mask.\" + mask_name[1]\n",
    "        caption_file_name = os.path.splitext(image_name)[0] + '.txt'\n",
    "\n",
    "        image_path = os.path.join(self.image_dir, image_name)\n",
    "        mask_path = os.path.join(self.mask_dir, mask_name)\n",
    "        caption_path = os.path.join(self.caption_file_dir, caption_file_name)\n",
    "\n",
    "        image = Image.open(image_path).convert(\"RGB\")\n",
    "        mask = Image.open(mask_path).convert(\"L\")  # Single-channel mask\n",
    "        with open(caption_path, \"r\") as f:\n",
    "            caption = f.read().strip()\n",
    "\n",
    "        # Apply transformations\n",
    "        if self.image_transform:\n",
    "            image = self.image_transform(image)\n",
    "        if self.mask_transform:\n",
    "            mask = self.mask_transform(mask)\n",
    "\n",
    "        return image, mask, caption"
   ]
  },
  {
   "cell_type": "code",
   "execution_count": 3,
   "id": "bdb28a47-03ce-4f3a-9d2f-d8d4ac4b8fb7",
   "metadata": {},
   "outputs": [],
   "source": [
    "\n",
    "# Define your data directories\n",
    "image_directory = '../dataset/bottle/image/'\n",
    "mask_directory = '../dataset/bottle/rbg_mask/'\n",
    "caption_directory = '../dataset/bottle/captions/'\n",
    "\n",
    "# Define image transformations (resize, normalize)\n",
    "# Define transformations for images\n",
    "image_transform = transforms.Compose([\n",
    "    transforms.Resize((256, 256)),\n",
    "    transforms.ToTensor(),\n",
    "    transforms.Normalize(mean=[0.5, 0.5, 0.5], std=[0.5, 0.5, 0.5]),  # Normalize for RGB images\n",
    "    transforms.Lambda(lambda x: x.half())  # Cast to torch.float16\n",
    "])\n",
    "\n",
    "# Define transformations for masks\n",
    "mask_transform = transforms.Compose([\n",
    "    transforms.Resize((256, 256)),\n",
    "    transforms.ToTensor(),  # Convert mask to tensor without normalization\n",
    "    transforms.Lambda(lambda x: x.half())  # Cast to torch.float16\n",
    "\n",
    "])\n",
    "\n",
    "# Create the dataset\n",
    "dataset = DefectDataset(image_directory, mask_directory, caption_directory, image_transform=image_transform, mask_transform=mask_transform)"
   ]
  },
  {
   "cell_type": "code",
   "execution_count": 4,
   "id": "45633ccb-52df-4849-a921-2b1f43b52d59",
   "metadata": {},
   "outputs": [
    {
     "name": "stdout",
     "output_type": "stream",
     "text": [
      "Image shape: torch.Size([3, 256, 256]), Mask shape: torch.Size([1, 256, 256]), Caption: The image shows a top-down view of a bottle, looking from the bottle's neck towards the bottom, with a white background. The bottom right corner has a large breakage defect, shaped like a quarter of a ring, in black color.\n"
     ]
    }
   ],
   "source": [
    "# Example of accessing an item\n",
    "image, mask, caption = dataset[0]\n",
    "print(f\"Image shape: {image.shape}, Mask shape: {mask.shape}, Caption: {caption}\")\n",
    "\n",
    "# You'll then need to create DataLoaders for training and validation\n",
    "from torch.utils.data import DataLoader, random_split\n",
    "\n",
    "train_size = int(0.8 * len(dataset))\n",
    "val_size = len(dataset) - train_size\n",
    "train_dataset, val_dataset = random_split(dataset, [train_size, val_size])\n",
    "\n",
    "train_dataloader = DataLoader(train_dataset, batch_size=1, shuffle=True)\n",
    "val_dataloader = DataLoader(val_dataset, batch_size=1)"
   ]
  },
  {
   "cell_type": "code",
   "execution_count": 5,
   "id": "92a832a8-2fa6-47d0-abf6-20ec74f0bb06",
   "metadata": {},
   "outputs": [],
   "source": [
    "def get_dataloader(image_directory, mask_directory, caption_directory, batch_size=2):\n",
    "\n",
    "    dataset = DefectDataset(image_directory, mask_directory, caption_directory, image_transform=image_transform, mask_transform=mask_transform)\n",
    "    dataloader = DataLoader(dataset, batch_size=batch_size, shuffle=True)\n",
    "    return dataloader"
   ]
  },
  {
   "cell_type": "code",
   "execution_count": 6,
   "id": "989a94c2-4b16-4a00-8713-872ce2aaee26",
   "metadata": {},
   "outputs": [],
   "source": [
    "accelerator = Accelerator()\n",
    "dataloader = get_dataloader(image_directory, mask_directory, caption_directory)\n",
    "dataloader = accelerator.prepare(dataloader)"
   ]
  },
  {
   "cell_type": "code",
   "execution_count": 7,
   "id": "9f58f5c9-0845-4d65-9820-46900afa8445",
   "metadata": {},
   "outputs": [
    {
     "data": {
      "text/plain": [
       "<torch.utils.data.dataloader.DataLoader at 0x2417cc01a50>"
      ]
     },
     "execution_count": 7,
     "metadata": {},
     "output_type": "execute_result"
    }
   ],
   "source": [
    "dataloader"
   ]
  },
  {
   "cell_type": "code",
   "execution_count": 8,
   "id": "8e0587b6-b4f0-4dc7-9059-2ede50379228",
   "metadata": {},
   "outputs": [
    {
     "data": {
      "application/vnd.jupyter.widget-view+json": {
       "model_id": "9899ccb4d7574b5ca9af2eaa16714000",
       "version_major": 2,
       "version_minor": 0
      },
      "text/plain": [
       "Loading pipeline components...:   0%|          | 0/7 [00:00<?, ?it/s]"
      ]
     },
     "metadata": {},
     "output_type": "display_data"
    },
    {
     "data": {
      "text/plain": [
       "StableDiffusionPipeline {\n",
       "  \"_class_name\": \"StableDiffusionPipeline\",\n",
       "  \"_diffusers_version\": \"0.33.1\",\n",
       "  \"_name_or_path\": \"runwayml/stable-diffusion-v1-5\",\n",
       "  \"feature_extractor\": [\n",
       "    \"transformers\",\n",
       "    \"CLIPImageProcessor\"\n",
       "  ],\n",
       "  \"image_encoder\": [\n",
       "    null,\n",
       "    null\n",
       "  ],\n",
       "  \"requires_safety_checker\": true,\n",
       "  \"safety_checker\": [\n",
       "    \"stable_diffusion\",\n",
       "    \"StableDiffusionSafetyChecker\"\n",
       "  ],\n",
       "  \"scheduler\": [\n",
       "    \"diffusers\",\n",
       "    \"DPMSolverMultistepScheduler\"\n",
       "  ],\n",
       "  \"text_encoder\": [\n",
       "    \"transformers\",\n",
       "    \"CLIPTextModel\"\n",
       "  ],\n",
       "  \"tokenizer\": [\n",
       "    \"transformers\",\n",
       "    \"CLIPTokenizer\"\n",
       "  ],\n",
       "  \"unet\": [\n",
       "    \"diffusers\",\n",
       "    \"UNet2DConditionModel\"\n",
       "  ],\n",
       "  \"vae\": [\n",
       "    \"diffusers\",\n",
       "    \"AutoencoderKL\"\n",
       "  ]\n",
       "}"
      ]
     },
     "execution_count": 8,
     "metadata": {},
     "output_type": "execute_result"
    }
   ],
   "source": [
    "model_id = \"runwayml/stable-diffusion-v1-5\"\n",
    "pipe = StableDiffusionPipeline.from_pretrained(model_id, torch_dtype=torch.float16)\n",
    "pipe.text_encoder.to(\"cpu\")  # Move text encoder to CPU\n",
    "pipe.scheduler = DPMSolverMultistepScheduler.from_config(pipe.scheduler.config)\n",
    "pipe.to(\"cuda\")"
   ]
  },
  {
   "cell_type": "code",
   "execution_count": 9,
   "id": "57af2c73-8319-4262-ac7c-e9af2f117de6",
   "metadata": {},
   "outputs": [],
   "source": [
    "# Apply LoRA\n",
    "lora_config = LoraConfig(\n",
    "    r=4,\n",
    "    lora_alpha=8,\n",
    "    target_modules=[\"to_q\", \"to_k\", \"to_v\", \"to_out.0\"],\n",
    "    lora_dropout=0.1,\n",
    "    bias=\"none\"\n",
    ")\n",
    "unwrapped_model = pipe.unet\n",
    "lora_model = get_peft_model(unwrapped_model, lora_config)\n",
    "\n",
    "# Optimizer and GradScaler\n",
    "optimizer = optim.AdamW(lora_model.parameters(), lr=1e-4)\n",
    "scaler = GradScaler()"
   ]
  },
  {
   "cell_type": "code",
   "execution_count": 10,
   "id": "0b72d8da-71b0-4468-b52f-a19c78babb52",
   "metadata": {},
   "outputs": [],
   "source": [
    "os.environ[\"PYTORCH_CUDA_ALLOC_CONF\"] = \"expandable_segments:True\""
   ]
  },
  {
   "cell_type": "code",
   "execution_count": 21,
   "id": "cd37aefe-c687-44e1-8438-d552f06119db",
   "metadata": {},
   "outputs": [
    {
     "data": {
      "text/plain": [
       "(torch.Size([2, 4, 32, 32]), torch.Size([2]))"
      ]
     },
     "execution_count": 21,
     "metadata": {},
     "output_type": "execute_result"
    }
   ],
   "source": [
    "noisy_latents.shape, timesteps.shape"
   ]
  },
  {
   "cell_type": "code",
   "execution_count": 22,
   "id": "ce836527-1ad6-4faf-b7c6-a8ff156c2c4c",
   "metadata": {},
   "outputs": [
    {
     "data": {
      "text/plain": [
       "(\"The image shows a top-down view of a bottle, looking from the bottle's neck towards the bottom, with a white background. The lower left corner has a small breakage defect, shaped like a small part of a ring, in black color.\",\n",
       " \"The image shows a top-down view of a bottle, looking from the bottle's neck towards the bottom, with a white background. The lower right corner has a large breakage defect, shaped like a small part of a ring, in black color.\")"
      ]
     },
     "execution_count": 22,
     "metadata": {},
     "output_type": "execute_result"
    }
   ],
   "source": [
    "captions"
   ]
  },
  {
   "cell_type": "code",
   "execution_count": 23,
   "id": "98394a03-9b48-4b16-b89b-5edd4b5878f0",
   "metadata": {},
   "outputs": [],
   "source": [
    "def preprocess_captions(captions, max_length=77):\n",
    "    inputs = tokenizer(\n",
    "        captions,\n",
    "        padding=\"max_length\",\n",
    "        truncation=True,\n",
    "        max_length=max_length,\n",
    "        return_tensors=\"pt\"\n",
    "    )\n",
    "    input_ids = inputs.input_ids.to(\"cuda\")\n",
    "    attention_mask = inputs.attention_mask.to(\"cuda\")\n",
    "    \n",
    "    # Encode captions into embeddings\n",
    "    encoder_hidden_states = text_encoder(input_ids, attention_mask)[0]\n",
    "    return encoder_hidden_states"
   ]
  },
  {
   "cell_type": "code",
   "execution_count": 28,
   "id": "115172fc-7612-4843-8569-ca495c98d266",
   "metadata": {},
   "outputs": [
    {
     "name": "stdout",
     "output_type": "stream",
     "text": [
      "Epoch 0, Loss: 1.6318359375\n",
      "Epoch 0, Loss: 1.05859375\n",
      "Epoch 0, Loss: 0.94775390625\n",
      "Epoch 0, Loss: 1.00390625\n",
      "Epoch 0, Loss: 0.468994140625\n",
      "Epoch 0, Loss: 0.73486328125\n",
      "Epoch 0, Loss: 0.4365234375\n",
      "Epoch 0, Loss: 0.88671875\n",
      "Epoch 0, Loss: 0.94091796875\n",
      "Epoch 0, Loss: 0.943359375\n",
      "Epoch 0, Loss: 1.79296875\n",
      "Epoch 0, Loss: 0.99755859375\n",
      "Epoch 0, Loss: 1.9150390625\n",
      "Epoch 0, Loss: 0.80419921875\n",
      "Epoch 0, Loss: 1.21484375\n",
      "Epoch 0, Loss: 0.841796875\n",
      "Epoch 0, Loss: 1.3134765625\n",
      "Epoch 0, Loss: 1.3681640625\n",
      "Epoch 0, Loss: 1.021484375\n",
      "Epoch 0, Loss: 0.5849609375\n",
      "Epoch 0, Loss: 0.2279052734375\n",
      "Epoch 0, Loss: 0.63232421875\n",
      "Epoch 0, Loss: 0.71484375\n",
      "Epoch 0, Loss: 0.623046875\n",
      "Epoch 0, Loss: 1.6826171875\n",
      "Epoch 0, Loss: 0.45263671875\n",
      "Epoch 0, Loss: 0.369384765625\n",
      "Epoch 0, Loss: 0.3203125\n",
      "Epoch 0, Loss: 0.3603515625\n",
      "Epoch 0, Loss: 0.6962890625\n",
      "Epoch 0, Loss: 1.20703125\n",
      "Epoch 0, Loss: 0.5849609375\n",
      "Epoch 1, Loss: 0.87939453125\n",
      "Epoch 1, Loss: 0.669921875\n",
      "Epoch 1, Loss: 1.576171875\n",
      "Epoch 1, Loss: 1.37109375\n",
      "Epoch 1, Loss: 0.84033203125\n",
      "Epoch 1, Loss: 1.58203125\n",
      "Epoch 1, Loss: 1.28125\n",
      "Epoch 1, Loss: 1.0771484375\n",
      "Epoch 1, Loss: 1.125\n",
      "Epoch 1, Loss: 1.1787109375\n",
      "Epoch 1, Loss: 0.47314453125\n",
      "Epoch 1, Loss: 1.2509765625\n",
      "Epoch 1, Loss: 1.02734375\n",
      "Epoch 1, Loss: 0.4990234375\n",
      "Epoch 1, Loss: 0.5888671875\n",
      "Epoch 1, Loss: 0.57666015625\n",
      "Epoch 1, Loss: 0.217529296875\n",
      "Epoch 1, Loss: 1.0029296875\n",
      "Epoch 1, Loss: 1.3837890625\n",
      "Epoch 1, Loss: 1.1337890625\n",
      "Epoch 1, Loss: 1.12109375\n",
      "Epoch 1, Loss: 0.2352294921875\n",
      "Epoch 1, Loss: 0.5810546875\n",
      "Epoch 1, Loss: 0.2110595703125\n",
      "Epoch 1, Loss: 0.7705078125\n",
      "Epoch 1, Loss: 0.6884765625\n",
      "Epoch 1, Loss: 0.228515625\n",
      "Epoch 1, Loss: 1.1005859375\n",
      "Epoch 1, Loss: 0.97705078125\n",
      "Epoch 1, Loss: 0.80126953125\n",
      "Epoch 1, Loss: 0.7978515625\n",
      "Epoch 1, Loss: 0.7080078125\n",
      "Epoch 2, Loss: 0.53271484375\n",
      "Epoch 2, Loss: 0.580078125\n",
      "Epoch 2, Loss: 0.74560546875\n",
      "Epoch 2, Loss: 1.2314453125\n",
      "Epoch 2, Loss: 0.20458984375\n",
      "Epoch 2, Loss: 0.82421875\n",
      "Epoch 2, Loss: 1.2158203125\n",
      "Epoch 2, Loss: 0.401611328125\n",
      "Epoch 2, Loss: 0.75927734375\n",
      "Epoch 2, Loss: 1.220703125\n",
      "Epoch 2, Loss: 0.97265625\n",
      "Epoch 2, Loss: 0.253173828125\n",
      "Epoch 2, Loss: 0.794921875\n",
      "Epoch 2, Loss: 1.1806640625\n",
      "Epoch 2, Loss: 0.70947265625\n",
      "Epoch 2, Loss: 0.40576171875\n",
      "Epoch 2, Loss: 1.1923828125\n",
      "Epoch 2, Loss: 0.87548828125\n",
      "Epoch 2, Loss: 0.5185546875\n",
      "Epoch 2, Loss: 0.354736328125\n",
      "Epoch 2, Loss: 0.7451171875\n",
      "Epoch 2, Loss: 0.88623046875\n",
      "Epoch 2, Loss: 0.1822509765625\n",
      "Epoch 2, Loss: 0.57177734375\n",
      "Epoch 2, Loss: 0.92626953125\n",
      "Epoch 2, Loss: 0.61279296875\n",
      "Epoch 2, Loss: 0.49853515625\n",
      "Epoch 2, Loss: 0.6484375\n",
      "Epoch 2, Loss: 0.418212890625\n",
      "Epoch 2, Loss: 0.9765625\n",
      "Epoch 2, Loss: 0.169677734375\n",
      "Epoch 2, Loss: 0.18505859375\n",
      "Epoch 3, Loss: 0.62158203125\n",
      "Epoch 3, Loss: 1.021484375\n",
      "Epoch 3, Loss: 0.66650390625\n",
      "Epoch 3, Loss: 0.42333984375\n",
      "Epoch 3, Loss: 0.261474609375\n",
      "Epoch 3, Loss: 0.58251953125\n",
      "Epoch 3, Loss: 1.0810546875\n",
      "Epoch 3, Loss: 1.361328125\n",
      "Epoch 3, Loss: 0.277587890625\n",
      "Epoch 3, Loss: 0.615234375\n",
      "Epoch 3, Loss: 0.626953125\n",
      "Epoch 3, Loss: 0.361572265625\n",
      "Epoch 3, Loss: 0.7802734375\n",
      "Epoch 3, Loss: 0.5068359375\n",
      "Epoch 3, Loss: 1.0498046875\n",
      "Epoch 3, Loss: 0.591796875\n",
      "Epoch 3, Loss: 0.833984375\n",
      "Epoch 3, Loss: 0.958984375\n",
      "Epoch 3, Loss: 1.1337890625\n",
      "Epoch 3, Loss: 0.923828125\n",
      "Epoch 3, Loss: 0.4033203125\n",
      "Epoch 3, Loss: 0.13232421875\n",
      "Epoch 3, Loss: 0.75927734375\n",
      "Epoch 3, Loss: 0.701171875\n",
      "Epoch 3, Loss: 0.978515625\n",
      "Epoch 3, Loss: 0.7587890625\n",
      "Epoch 3, Loss: 1.1298828125\n",
      "Epoch 3, Loss: 0.50732421875\n",
      "Epoch 3, Loss: 0.626953125\n",
      "Epoch 3, Loss: 0.974609375\n",
      "Epoch 3, Loss: 0.53857421875\n",
      "Epoch 3, Loss: 0.36376953125\n",
      "Epoch 4, Loss: 0.142822265625\n",
      "Epoch 4, Loss: 0.7861328125\n",
      "Epoch 4, Loss: 0.497314453125\n",
      "Epoch 4, Loss: 0.587890625\n",
      "Epoch 4, Loss: 0.26220703125\n",
      "Epoch 4, Loss: 0.51513671875\n",
      "Epoch 4, Loss: 0.58447265625\n",
      "Epoch 4, Loss: 0.300537109375\n",
      "Epoch 4, Loss: 0.22998046875\n",
      "Epoch 4, Loss: 0.71142578125\n",
      "Epoch 4, Loss: 0.50146484375\n",
      "Epoch 4, Loss: 0.469970703125\n",
      "Epoch 4, Loss: 0.9462890625\n",
      "Epoch 4, Loss: 0.16650390625\n",
      "Epoch 4, Loss: 0.413818359375\n",
      "Epoch 4, Loss: 0.388427734375\n",
      "Epoch 4, Loss: 1.0439453125\n",
      "Epoch 4, Loss: 1.01171875\n",
      "Epoch 4, Loss: 0.94287109375\n",
      "Epoch 4, Loss: 0.497314453125\n",
      "Epoch 4, Loss: 0.45947265625\n",
      "Epoch 4, Loss: 0.7177734375\n",
      "Epoch 4, Loss: 0.4384765625\n",
      "Epoch 4, Loss: 0.369384765625\n",
      "Epoch 4, Loss: 0.57080078125\n",
      "Epoch 4, Loss: 0.798828125\n",
      "Epoch 4, Loss: 0.142333984375\n",
      "Epoch 4, Loss: 0.12890625\n",
      "Epoch 4, Loss: 0.61181640625\n",
      "Epoch 4, Loss: 0.572265625\n",
      "Epoch 4, Loss: 0.294677734375\n",
      "Epoch 4, Loss: 1.0517578125\n"
     ]
    }
   ],
   "source": [
    "accumulation_steps = 1  # Simulate a batch size of 4 * 4 = 16\n",
    "for epoch in range(5):\n",
    "    for batch in dataloader:\n",
    "        optimizer.zero_grad()\n",
    "        \n",
    "        # Extract batch data\n",
    "        images, masks, captions = batch #batch[\"image\"], batch[\"mask\"], batch[\"caption\"]\n",
    "        \n",
    "        # Ensure inputs are in torch.float16 and moved to GPU\n",
    "        images = images.half().to(\"cuda\")\n",
    "        masks = masks.half().to(\"cuda\")\n",
    "        \n",
    "        # Encode images into latent space\n",
    "        latents = pipe.vae.encode(images).latent_dist.sample()\n",
    "        \n",
    "        # Generate noise and noisy latents\n",
    "        noise = torch.randn_like(latents)\n",
    "        timesteps = torch.randint(0, pipe.scheduler.num_train_timesteps, (latents.shape[0],), device=latents.device).long()\n",
    "        noisy_latents = pipe.scheduler.add_noise(latents, noise, timesteps)\n",
    "        \n",
    "        # Preprocess captions\n",
    "        encoder_hidden_states = preprocess_captions(captions)\n",
    "        \n",
    "        # Predict noise\n",
    "        output = lora_model(noisy_latents, timesteps, encoder_hidden_states=encoder_hidden_states)\n",
    "        noise_pred = output[0]  # Adjust based on output structure\n",
    "        \n",
    "        # Compute loss\n",
    "        loss = torch.nn.functional.mse_loss(noise_pred, noise)\n",
    "        loss.backward()\n",
    "        optimizer.step()\n",
    "    \n",
    "        print(f\"Epoch {epoch}, Loss: {loss.item()}\")"
   ]
  },
  {
   "cell_type": "code",
   "execution_count": 30,
   "id": "4922c2ce-5c29-4145-bde3-4bc58a904c5d",
   "metadata": {},
   "outputs": [
    {
     "name": "stdout",
     "output_type": "stream",
     "text": [
      "LoRA weights saved to ../outputs/\n"
     ]
    }
   ],
   "source": [
    "from peft import LoraConfig, get_peft_model\n",
    "\n",
    "# Assuming `lora_model` is your fine-tuned model\n",
    "output_dir = \"../outputs/\"\n",
    "lora_model.save_pretrained(output_dir)\n",
    "print(f\"LoRA weights saved to {output_dir}\")"
   ]
  },
  {
   "cell_type": "code",
   "execution_count": 31,
   "id": "a23eaa7e-ffa5-450d-b35f-7bc5e3aaeabe",
   "metadata": {},
   "outputs": [
    {
     "name": "stdout",
     "output_type": "stream",
     "text": [
      "Full pipeline saved to ../pipeline-output\n"
     ]
    }
   ],
   "source": [
    "# Save the full pipeline\n",
    "pipeline_output_dir = \"../pipeline-output\"\n",
    "pipe.save_pretrained(pipeline_output_dir)\n",
    "print(f\"Full pipeline saved to {pipeline_output_dir}\")"
   ]
  },
  {
   "cell_type": "markdown",
   "id": "bb731a7f-f341-4662-9e85-545d4c5355ae",
   "metadata": {},
   "source": [
    "# Inference"
   ]
  },
  {
   "cell_type": "code",
   "execution_count": 41,
   "id": "73b4861e-7954-4e6d-9fa0-6b5587be108d",
   "metadata": {},
   "outputs": [
    {
     "data": {
      "text/plain": [
       "(50, 13)"
      ]
     },
     "execution_count": 41,
     "metadata": {},
     "output_type": "execute_result"
    }
   ],
   "source": [
    "len(train_dataset), len(val_dataset)"
   ]
  },
  {
   "cell_type": "code",
   "execution_count": 42,
   "id": "735032e5-cf74-4f55-a200-478b1298bec3",
   "metadata": {},
   "outputs": [
    {
     "name": "stdout",
     "output_type": "stream",
     "text": [
      "Generating image for prompt: The image shows a top-down view of a bottle, looking from the bottle's neck towards the bottom, with a white background. Inside the bottle, there is a circular black fabric contaminant. In the upper left corner, there is a small breakage defect, shaped like a small part of a ring, in black color.\n"
     ]
    },
    {
     "name": "stderr",
     "output_type": "stream",
     "text": [
      "C:\\Users\\adity\\AppData\\Local\\Temp\\ipykernel_396\\1214246026.py:31: FutureWarning: `torch.cuda.amp.autocast(args...)` is deprecated. Please use `torch.amp.autocast('cuda', args...)` instead.\n",
      "  with torch.cuda.amp.autocast():\n"
     ]
    },
    {
     "data": {
      "application/vnd.jupyter.widget-view+json": {
       "model_id": "2ffb04687ad743639b9ac37258e0a974",
       "version_major": 2,
       "version_minor": 0
      },
      "text/plain": [
       "  0%|          | 0/20 [00:00<?, ?it/s]"
      ]
     },
     "metadata": {},
     "output_type": "display_data"
    },
    {
     "name": "stderr",
     "output_type": "stream",
     "text": [
      "Potential NSFW content was detected in one or more images. A black image will be returned instead. Try again with a different prompt and/or seed.\n"
     ]
    },
    {
     "name": "stdout",
     "output_type": "stream",
     "text": [
      "Image saved as generated_image_0.png\n",
      "Generating image for prompt: The image shows a top-down view of a bottle, looking from the bottle's neck towards the bottom, with a white background. The middle of the left half has a large breakage defect, shaped like a small part of a ring, with the middle in gold color and the sides in black color.\n"
     ]
    },
    {
     "data": {
      "application/vnd.jupyter.widget-view+json": {
       "model_id": "a6b98bf188514a5ebfa270952bb8431c",
       "version_major": 2,
       "version_minor": 0
      },
      "text/plain": [
       "  0%|          | 0/20 [00:00<?, ?it/s]"
      ]
     },
     "metadata": {},
     "output_type": "display_data"
    },
    {
     "name": "stderr",
     "output_type": "stream",
     "text": [
      "Potential NSFW content was detected in one or more images. A black image will be returned instead. Try again with a different prompt and/or seed.\n"
     ]
    },
    {
     "name": "stdout",
     "output_type": "stream",
     "text": [
      "Image saved as generated_image_1.png\n",
      "Generating image for prompt: The image shows a top-down view of a bottle, looking from the bottle's neck towards the bottom, with a white background. The lower right corner has a large breakage defect, shaped like a small part of a ring, in black color.\n"
     ]
    },
    {
     "data": {
      "application/vnd.jupyter.widget-view+json": {
       "model_id": "39152be0078947d4858a7a7f9ce32bfe",
       "version_major": 2,
       "version_minor": 0
      },
      "text/plain": [
       "  0%|          | 0/20 [00:00<?, ?it/s]"
      ]
     },
     "metadata": {},
     "output_type": "display_data"
    },
    {
     "name": "stderr",
     "output_type": "stream",
     "text": [
      "Potential NSFW content was detected in one or more images. A black image will be returned instead. Try again with a different prompt and/or seed.\n"
     ]
    },
    {
     "name": "stdout",
     "output_type": "stream",
     "text": [
      "Image saved as generated_image_2.png\n",
      "Generating image for prompt: The image shows a top-down view of a bottle, looking from the bottle's neck towards the bottom, with a white background. The upper half has a large breakage defect, shaped like half a ring, in black color.\n"
     ]
    },
    {
     "data": {
      "application/vnd.jupyter.widget-view+json": {
       "model_id": "dc4bc48ba54042fda54b1d503c602297",
       "version_major": 2,
       "version_minor": 0
      },
      "text/plain": [
       "  0%|          | 0/20 [00:00<?, ?it/s]"
      ]
     },
     "metadata": {},
     "output_type": "display_data"
    },
    {
     "name": "stderr",
     "output_type": "stream",
     "text": [
      "Potential NSFW content was detected in one or more images. A black image will be returned instead. Try again with a different prompt and/or seed.\n"
     ]
    },
    {
     "name": "stdout",
     "output_type": "stream",
     "text": [
      "Image saved as generated_image_3.png\n",
      "Generating image for prompt: The image shows a top-down view of a bottle, looking from the bottle's neck towards the bottom, with a white background. The upper right corner has a large breakage defect, shaped like a quarter of a ring, in black color.\n"
     ]
    },
    {
     "data": {
      "application/vnd.jupyter.widget-view+json": {
       "model_id": "d8bfc898a1614214bc1bb6ceb71e478a",
       "version_major": 2,
       "version_minor": 0
      },
      "text/plain": [
       "  0%|          | 0/20 [00:00<?, ?it/s]"
      ]
     },
     "metadata": {},
     "output_type": "display_data"
    },
    {
     "name": "stdout",
     "output_type": "stream",
     "text": [
      "Image saved as generated_image_4.png\n",
      "Generating image for prompt: The image shows a top-down view of a bottle, looking from the bottle's neck towards the bottom, with a white background. The upper right corner has a large breakage defect, shaped like a small part of a ring, in black color.\n"
     ]
    },
    {
     "data": {
      "application/vnd.jupyter.widget-view+json": {
       "model_id": "515914f7cd404e7da43b88d72e207924",
       "version_major": 2,
       "version_minor": 0
      },
      "text/plain": [
       "  0%|          | 0/20 [00:00<?, ?it/s]"
      ]
     },
     "metadata": {},
     "output_type": "display_data"
    },
    {
     "name": "stderr",
     "output_type": "stream",
     "text": [
      "Potential NSFW content was detected in one or more images. A black image will be returned instead. Try again with a different prompt and/or seed.\n"
     ]
    },
    {
     "name": "stdout",
     "output_type": "stream",
     "text": [
      "Image saved as generated_image_5.png\n",
      "Generating image for prompt: The image shows a top-down view of a bottle, looking from the bottle's neck towards the bottom, with a white background. The middle of the left half has a large breakage defect, shaped like a small part of a ring, in black color. The lower right corner has a small breakage defect, shaped like a short strip, in black color.\n"
     ]
    },
    {
     "data": {
      "application/vnd.jupyter.widget-view+json": {
       "model_id": "e972cc503d2946d38b082e421c110aae",
       "version_major": 2,
       "version_minor": 0
      },
      "text/plain": [
       "  0%|          | 0/20 [00:00<?, ?it/s]"
      ]
     },
     "metadata": {},
     "output_type": "display_data"
    },
    {
     "name": "stderr",
     "output_type": "stream",
     "text": [
      "Potential NSFW content was detected in one or more images. A black image will be returned instead. Try again with a different prompt and/or seed.\n"
     ]
    },
    {
     "name": "stdout",
     "output_type": "stream",
     "text": [
      "Image saved as generated_image_6.png\n",
      "Generating image for prompt: The image shows a top-down view of a bottle, looking from the bottle's neck towards the bottom, with a white background. The lower left corner has a large breakage defect, shaped like a quarter of a ring, in black color.\n"
     ]
    },
    {
     "data": {
      "application/vnd.jupyter.widget-view+json": {
       "model_id": "274c9313d5a043269ec381ec86294491",
       "version_major": 2,
       "version_minor": 0
      },
      "text/plain": [
       "  0%|          | 0/20 [00:00<?, ?it/s]"
      ]
     },
     "metadata": {},
     "output_type": "display_data"
    },
    {
     "name": "stderr",
     "output_type": "stream",
     "text": [
      "Potential NSFW content was detected in one or more images. A black image will be returned instead. Try again with a different prompt and/or seed.\n"
     ]
    },
    {
     "name": "stdout",
     "output_type": "stream",
     "text": [
      "Image saved as generated_image_7.png\n",
      "Generating image for prompt: The image shows a top-down view of a bottle, looking from the bottle's neck towards the bottom, with a white background. The lower half has a large breakage defect, shaped like half a ring, in black color.\n"
     ]
    },
    {
     "data": {
      "application/vnd.jupyter.widget-view+json": {
       "model_id": "3736aebc10bb4b8c8d8a59b213a78f4d",
       "version_major": 2,
       "version_minor": 0
      },
      "text/plain": [
       "  0%|          | 0/20 [00:00<?, ?it/s]"
      ]
     },
     "metadata": {},
     "output_type": "display_data"
    },
    {
     "name": "stderr",
     "output_type": "stream",
     "text": [
      "Potential NSFW content was detected in one or more images. A black image will be returned instead. Try again with a different prompt and/or seed.\n"
     ]
    },
    {
     "name": "stdout",
     "output_type": "stream",
     "text": [
      "Image saved as generated_image_8.png\n",
      "Generating image for prompt: The image shows a top-down view of a bottle, looking from the bottle's neck towards the bottom, with a white background. The upper left corner has a small breakage defect, shaped like a small part of a ring, in black color.\n"
     ]
    },
    {
     "data": {
      "application/vnd.jupyter.widget-view+json": {
       "model_id": "898eeb2b21f14cdc939b6d8e541d20ea",
       "version_major": 2,
       "version_minor": 0
      },
      "text/plain": [
       "  0%|          | 0/20 [00:00<?, ?it/s]"
      ]
     },
     "metadata": {},
     "output_type": "display_data"
    },
    {
     "name": "stderr",
     "output_type": "stream",
     "text": [
      "Potential NSFW content was detected in one or more images. A black image will be returned instead. Try again with a different prompt and/or seed.\n"
     ]
    },
    {
     "name": "stdout",
     "output_type": "stream",
     "text": [
      "Image saved as generated_image_9.png\n",
      "Generating image for prompt: The image shows a top-down view of a bottle, looking from the bottle's neck towards the bottom, with a white background. Inside the bottle, there is a circular black fabric contaminant.\n"
     ]
    },
    {
     "data": {
      "application/vnd.jupyter.widget-view+json": {
       "model_id": "13f624c386f94e46a4b8ea85fc7e3338",
       "version_major": 2,
       "version_minor": 0
      },
      "text/plain": [
       "  0%|          | 0/20 [00:00<?, ?it/s]"
      ]
     },
     "metadata": {},
     "output_type": "display_data"
    },
    {
     "name": "stderr",
     "output_type": "stream",
     "text": [
      "Potential NSFW content was detected in one or more images. A black image will be returned instead. Try again with a different prompt and/or seed.\n"
     ]
    },
    {
     "name": "stdout",
     "output_type": "stream",
     "text": [
      "Image saved as generated_image_10.png\n",
      "Generating image for prompt: The image shows a top-down view of a bottle, looking from the bottle's neck towards the bottom, with a white background. The bottom right corner has a large breakage defect, shaped like a quarter of a ring, in black color.\n"
     ]
    },
    {
     "data": {
      "application/vnd.jupyter.widget-view+json": {
       "model_id": "7fdc9050ebe94aefb3334c9f2bb34033",
       "version_major": 2,
       "version_minor": 0
      },
      "text/plain": [
       "  0%|          | 0/20 [00:00<?, ?it/s]"
      ]
     },
     "metadata": {},
     "output_type": "display_data"
    },
    {
     "name": "stderr",
     "output_type": "stream",
     "text": [
      "Potential NSFW content was detected in one or more images. A black image will be returned instead. Try again with a different prompt and/or seed.\n"
     ]
    },
    {
     "name": "stdout",
     "output_type": "stream",
     "text": [
      "Image saved as generated_image_11.png\n",
      "Generating image for prompt: The image shows a top-down view of a bottle, looking from the bottle's neck towards the bottom, with a white background. The lower left corner has a small breakage defect, shaped like a small part of a ring, in black color.\n"
     ]
    },
    {
     "data": {
      "application/vnd.jupyter.widget-view+json": {
       "model_id": "f7810e4d27a547e8a717434b99152bb8",
       "version_major": 2,
       "version_minor": 0
      },
      "text/plain": [
       "  0%|          | 0/20 [00:00<?, ?it/s]"
      ]
     },
     "metadata": {},
     "output_type": "display_data"
    },
    {
     "name": "stdout",
     "output_type": "stream",
     "text": [
      "Image saved as generated_image_12.png\n"
     ]
    },
    {
     "data": {
      "image/png": "[encoded data removed]",
      "text/plain": [
       "<Figure size 500x500 with 1 Axes>"
      ]
     },
     "metadata": {},
     "output_type": "display_data"
    },
    {
     "data": {
      "image/png": "[encoded data removed]",
      "text/plain": [
       "<Figure size 500x500 with 1 Axes>"
      ]
     },
     "metadata": {},
     "output_type": "display_data"
    }
   ],
   "source": [
    "import os\n",
    "import torch\n",
    "from PIL import Image\n",
    "import matplotlib.pyplot as plt\n",
    "from diffusers import StableDiffusionPipeline\n",
    "from peft import LoraConfig, get_peft_model\n",
    "\n",
    "# # Load the pre-trained Stable Diffusion model\n",
    "# model_id = \"stabilityai/stable-diffusion-2\"\n",
    "# pipe = StableDiffusionPipeline.from_pretrained(model_id, torch_dtype=torch.float16)\n",
    "# pipe.to(\"cuda\")\n",
    "\n",
    "# Apply LoRA configuration\n",
    "# lora_config = LoraConfig(\n",
    "#     r=8,\n",
    "#     lora_alpha=32,\n",
    "#     target_modules=[\"to_q\", \"to_k\", \"to_v\", \"to_out.0\"],\n",
    "#     lora_dropout=0.1,\n",
    "#     bias=\"none\"\n",
    "# )\n",
    "# unwrapped_model = pipe.unet\n",
    "# lora_model = get_peft_model(unwrapped_model, lora_config)\n",
    "\n",
    "# Load the fine-tuned weights\n",
    "# lora_model.load_state_dict(torch.load(\"/path/to/fine_tuned_weights.pth\"))\n",
    "\n",
    "# Define the inference function\n",
    "def generate_image(pipe, prompt, num_inference_steps=20, guidance_scale=10):\n",
    "    negative_prompt = \"image should not be dark and blurry.\"\n",
    "    with torch.no_grad():\n",
    "        with torch.cuda.amp.autocast():\n",
    "            image = pipe(prompt, negative_prompt = negative_prompt, num_inference_steps=num_inference_steps, guidance_scale=guidance_scale).images[0]\n",
    "    return image\n",
    "\n",
    "# Example prompts\n",
    "# prompts = [\"The bottle has a large breakage defect, shaped like a ring, in gray color.\", \"A damaged bottle with a crack at the bottom with yellow half ring\", ]\n",
    "\n",
    "# Generate and save images\n",
    "for i in range(len(val_dataset)):\n",
    "    prompt = val_dataset[i][2]\n",
    "    print(f\"Generating image for prompt: {prompt}\")\n",
    "    image = generate_image(pipe, prompt)\n",
    "    image.save(f\"generated_image_{i}.png\")\n",
    "    print(f\"Image saved as generated_image_{i}.png\")\n",
    "\n",
    "# Display the generated images\n",
    "for i in range(len(val_dataset)):\n",
    "    prompt = val_dataset[i][2]\n",
    "    \n",
    "    image = Image.open(f\"generated_image_{i}.png\")\n",
    "    plt.figure(figsize=(5, 5))\n",
    "    plt.imshow(image)\n",
    "    plt.title(prompt)\n",
    "    plt.axis(\"off\")\n",
    "    plt.show()"
   ]
  },
  {
   "cell_type": "code",
   "execution_count": null,
   "id": "42f31ead-1192-4063-9598-2b19f7a80d01",
   "metadata": {},
   "outputs": [],
   "source": []
  },
  {
   "cell_type": "code",
   "execution_count": null,
   "id": "243bfc84-5841-4808-aaa8-3dad567f7aaf",
   "metadata": {},
   "outputs": [],
   "source": []
  },
  {
   "cell_type": "code",
   "execution_count": null,
   "id": "9ce10d69-0891-4c7e-8539-17b49fff7305",
   "metadata": {},
   "outputs": [],
   "source": []
  },
  {
   "cell_type": "code",
   "execution_count": null,
   "id": "11f85c4c-592d-4720-93b3-a12fbfd7f715",
   "metadata": {},
   "outputs": [],
   "source": []
  }
 ],
 "metadata": {
  "kernelspec": {
   "display_name": "Python 3 (ipykernel)",
   "language": "python",
   "name": "python3"
  },
  "language_info": {
   "codemirror_mode": {
    "name": "ipython",
    "version": 3
   },
   "file_extension": ".py",
   "mimetype": "text/x-python",
   "name": "python",
   "nbconvert_exporter": "python",
   "pygments_lexer": "ipython3",
   "version": "3.10.7"
  },
  "widgets": {
   "application/vnd.jupyter.widget-state+json": {
    "state": {
     "016096b347b94e2ab8194bbd46b46fc5": {
      "model_module": "@jupyter-widgets/base",
      "model_module_version": "2.0.0",
      "model_name": "LayoutModel",
      "state": {}
     },
     "02f25625e160468cb235b214b5f1ce0f": {
      "model_module": "@jupyter-widgets/controls",
      "model_module_version": "2.0.0",
      "model_name": "ProgressStyleModel",
      "state": {
       "description_width": ""
      }
     },
     "032239f04de544ceaeba1ab4abbbffb4": {
      "model_module": "@jupyter-widgets/controls",
      "model_module_version": "2.0.0",
      "model_name": "HTMLModel",
      "state": {
       "layout": "IPY_MODEL_2855d4abb47c4d8bb5f330a0406f3889",
       "style": "IPY_MODEL_dfea1b9d4e674d359a25f193b63e5215",
       "value": " 20/20 [01:46&lt;00:00,  5.46s/it]"
      }
     },
     "03b79b853f3f479593e8421bc0f61122": {
      "model_module": "@jupyter-widgets/base",
      "model_module_version": "2.0.0",
      "model_name": "LayoutModel",
      "state": {}
     },
     "062a6509814f41e8878d942e98592f0e": {
      "model_module": "@jupyter-widgets/controls",
      "model_module_version": "2.0.0",
      "model_name": "ProgressStyleModel",
      "state": {
       "description_width": ""
      }
     },
     "06c6752fd78e4145aac419d7870b51e5": {
      "model_module": "@jupyter-widgets/controls",
      "model_module_version": "2.0.0",
      "model_name": "HTMLModel",
      "state": {
       "layout": "IPY_MODEL_3d556da6dc12451ea15dd18ee6e2e4fd",
       "style": "IPY_MODEL_a81f56af152b437abcaffe2b26c3ad27",
       "value": "100%"
      }
     },
     "080721a14df340608b5e64c8e1ced862": {
      "model_module": "@jupyter-widgets/controls",
      "model_module_version": "2.0.0",
      "model_name": "ProgressStyleModel",
      "state": {
       "description_width": ""
      }
     },
     "0b2cd26ab9da4a3a9c534fef4d432dde": {
      "model_module": "@jupyter-widgets/controls",
      "model_module_version": "2.0.0",
      "model_name": "ProgressStyleModel",
      "state": {
       "description_width": ""
      }
     },
     "0cc2eb4a907b49529a3f5fd5bc08e849": {
      "model_module": "@jupyter-widgets/controls",
      "model_module_version": "2.0.0",
      "model_name": "FloatProgressModel",
      "state": {
       "bar_style": "success",
       "layout": "IPY_MODEL_35ce05ecadd24105b71653d37b6747c2",
       "max": 20,
       "style": "IPY_MODEL_062a6509814f41e8878d942e98592f0e",
       "value": 20
      }
     },
     "0df509389e8d4de88e2ebae3be07134d": {
      "model_module": "@jupyter-widgets/controls",
      "model_module_version": "2.0.0",
      "model_name": "HTMLStyleModel",
      "state": {
       "description_width": "",
       "font_size": null,
       "text_color": null
      }
     },
     "0ed0a16f9545467d9b042b9f7b483670": {
      "model_module": "@jupyter-widgets/controls",
      "model_module_version": "2.0.0",
      "model_name": "ProgressStyleModel",
      "state": {
       "description_width": ""
      }
     },
     "0f6c0f6101f24ba2a7e7864ab773280d": {
      "model_module": "@jupyter-widgets/base",
      "model_module_version": "2.0.0",
      "model_name": "LayoutModel",
      "state": {}
     },
     "0fe366d7b2ce4646bbef7416d3b4ac15": {
      "model_module": "@jupyter-widgets/base",
      "model_module_version": "2.0.0",
      "model_name": "LayoutModel",
      "state": {}
     },
     "107d7b6aa77349d0b0aeb01944610d0d": {
      "model_module": "@jupyter-widgets/controls",
      "model_module_version": "2.0.0",
      "model_name": "ProgressStyleModel",
      "state": {
       "description_width": ""
      }
     },
     "12c4248b475a4807a245c75c7eeaf222": {
      "model_module": "@jupyter-widgets/base",
      "model_module_version": "2.0.0",
      "model_name": "LayoutModel",
      "state": {}
     },
     "12e1871c52764b988e34dae91d2e9b99": {
      "model_module": "@jupyter-widgets/controls",
      "model_module_version": "2.0.0",
      "model_name": "HTMLStyleModel",
      "state": {
       "description_width": "",
       "font_size": null,
       "text_color": null
      }
     },
     "13b20f2702c24724a84cc67ae8593a51": {
      "model_module": "@jupyter-widgets/base",
      "model_module_version": "2.0.0",
      "model_name": "LayoutModel",
      "state": {}
     },
     "13cb1ebf13e444c9a1fc947b81a56e4e": {
      "model_module": "@jupyter-widgets/controls",
      "model_module_version": "2.0.0",
      "model_name": "HTMLModel",
      "state": {
       "layout": "IPY_MODEL_7173114073244ed7b87045ebff1c1d9b",
       "style": "IPY_MODEL_4358fdfb9d6a44a5b0144e81570e833e",
       "value": "100%"
      }
     },
     "13d60f0b034f456d94c0d0f5ba944e60": {
      "model_module": "@jupyter-widgets/base",
      "model_module_version": "2.0.0",
      "model_name": "LayoutModel",
      "state": {}
     },
     "13f624c386f94e46a4b8ea85fc7e3338": {
      "model_module": "@jupyter-widgets/controls",
      "model_module_version": "2.0.0",
      "model_name": "HBoxModel",
      "state": {
       "children": [
        "IPY_MODEL_fdc3707f8ded42008f0ab2ec02bbf979",
        "IPY_MODEL_0cc2eb4a907b49529a3f5fd5bc08e849",
        "IPY_MODEL_3042cd2f0817498da12f59374fdf7ea6"
       ],
       "layout": "IPY_MODEL_60ac4de9ed29415ea5738bc11702a4e1"
      }
     },
     "13ff5811290d45ef9fa06397a4249613": {
      "model_module": "@jupyter-widgets/base",
      "model_module_version": "2.0.0",
      "model_name": "LayoutModel",
      "state": {}
     },
     "14bd227112084430bd224a03a76c6945": {
      "model_module": "@jupyter-widgets/base",
      "model_module_version": "2.0.0",
      "model_name": "LayoutModel",
      "state": {}
     },
     "152f36c15ce84d08b69420a86de170e7": {
      "model_module": "@jupyter-widgets/base",
      "model_module_version": "2.0.0",
      "model_name": "LayoutModel",
      "state": {}
     },
     "154442d3cbb8498193d55739faae209e": {
      "model_module": "@jupyter-widgets/controls",
      "model_module_version": "2.0.0",
      "model_name": "HTMLStyleModel",
      "state": {
       "description_width": "",
       "font_size": null,
       "text_color": null
      }
     },
     "16b1e41f3e154a789257056a05cc00e5": {
      "model_module": "@jupyter-widgets/base",
      "model_module_version": "2.0.0",
      "model_name": "LayoutModel",
      "state": {}
     },
     "1874514af82542a2a9e562fbc0d659ad": {
      "model_module": "@jupyter-widgets/controls",
      "model_module_version": "2.0.0",
      "model_name": "ProgressStyleModel",
      "state": {
       "description_width": ""
      }
     },
     "199e8236f43d4779bdd2d879851954dc": {
      "model_module": "@jupyter-widgets/controls",
      "model_module_version": "2.0.0",
      "model_name": "HBoxModel",
      "state": {
       "children": [
        "IPY_MODEL_13cb1ebf13e444c9a1fc947b81a56e4e",
        "IPY_MODEL_b9f88234144a47629abe8e508f2c3f3e",
        "IPY_MODEL_5abfe912a1264f1885c7217d4c44e234"
       ],
       "layout": "IPY_MODEL_d49cc96a5eb2482eb1b6886a27662fc2"
      }
     },
     "1b0cc4a812354a3c94c959a808f61383": {
      "model_module": "@jupyter-widgets/controls",
      "model_module_version": "2.0.0",
      "model_name": "ProgressStyleModel",
      "state": {
       "description_width": ""
      }
     },
     "1ce4cb90ed1d48b4a88d34b5fa671f72": {
      "model_module": "@jupyter-widgets/controls",
      "model_module_version": "2.0.0",
      "model_name": "HTMLStyleModel",
      "state": {
       "description_width": "",
       "font_size": null,
       "text_color": null
      }
     },
     "1d2fd12d262e4f6fa25aaccf8337d832": {
      "model_module": "@jupyter-widgets/controls",
      "model_module_version": "2.0.0",
      "model_name": "HTMLModel",
      "state": {
       "layout": "IPY_MODEL_f77b4c9edd33454c92969cc6f92e66dd",
       "style": "IPY_MODEL_743b19409d674cbd9af08dcea1709214",
       "value": "100%"
      }
     },
     "1ff2060c22ee469bbdd6501473488c7a": {
      "model_module": "@jupyter-widgets/base",
      "model_module_version": "2.0.0",
      "model_name": "LayoutModel",
      "state": {}
     },
     "219a7efb88234b1e8b721a53cb95e5dd": {
      "model_module": "@jupyter-widgets/controls",
      "model_module_version": "2.0.0",
      "model_name": "HTMLStyleModel",
      "state": {
       "description_width": "",
       "font_size": null,
       "text_color": null
      }
     },
     "21b43025defb446da861c13387dc2101": {
      "model_module": "@jupyter-widgets/base",
      "model_module_version": "2.0.0",
      "model_name": "LayoutModel",
      "state": {}
     },
     "2231e2d178634b108b1dd2dbe1322ab9": {
      "model_module": "@jupyter-widgets/base",
      "model_module_version": "2.0.0",
      "model_name": "LayoutModel",
      "state": {}
     },
     "22617d875c234722a94a3d6bafbe01d3": {
      "model_module": "@jupyter-widgets/controls",
      "model_module_version": "2.0.0",
      "model_name": "HTMLStyleModel",
      "state": {
       "description_width": "",
       "font_size": null,
       "text_color": null
      }
     },
     "23e13a1e57f843ee817d4bd8c40e4d53": {
      "model_module": "@jupyter-widgets/controls",
      "model_module_version": "2.0.0",
      "model_name": "ProgressStyleModel",
      "state": {
       "description_width": ""
      }
     },
     "24f9875815ce4691b70fa601bc7cec94": {
      "model_module": "@jupyter-widgets/controls",
      "model_module_version": "2.0.0",
      "model_name": "HTMLModel",
      "state": {
       "layout": "IPY_MODEL_8d0ca4c7efc74290a1d38615e5e0a254",
       "style": "IPY_MODEL_309c3b37c5dd488ea0bfdc11f09184b6",
       "value": "100%"
      }
     },
     "25e944108cd04fd492a597ff753ff4e3": {
      "model_module": "@jupyter-widgets/base",
      "model_module_version": "2.0.0",
      "model_name": "LayoutModel",
      "state": {}
     },
     "274c9313d5a043269ec381ec86294491": {
      "model_module": "@jupyter-widgets/controls",
      "model_module_version": "2.0.0",
      "model_name": "HBoxModel",
      "state": {
       "children": [
        "IPY_MODEL_f0c0a78162eb498793034f921115c6cc",
        "IPY_MODEL_5e3f4c4b7de8448fa7a091c43eae8cfb",
        "IPY_MODEL_946e26b87785437fa8848c0102b7e081"
       ],
       "layout": "IPY_MODEL_f2b876845a354fcba57a637f2ad3b89b"
      }
     },
     "2855d4abb47c4d8bb5f330a0406f3889": {
      "model_module": "@jupyter-widgets/base",
      "model_module_version": "2.0.0",
      "model_name": "LayoutModel",
      "state": {}
     },
     "297d4d02b49a45e7ba92f5bf18b7de9d": {
      "model_module": "@jupyter-widgets/controls",
      "model_module_version": "2.0.0",
      "model_name": "HTMLStyleModel",
      "state": {
       "description_width": "",
       "font_size": null,
       "text_color": null
      }
     },
     "2b3798e44e9746c691f977e644fa638f": {
      "model_module": "@jupyter-widgets/controls",
      "model_module_version": "2.0.0",
      "model_name": "FloatProgressModel",
      "state": {
       "bar_style": "success",
       "layout": "IPY_MODEL_16b1e41f3e154a789257056a05cc00e5",
       "max": 20,
       "style": "IPY_MODEL_ef650fca66f2429e9e693143c525e6c6",
       "value": 20
      }
     },
     "2c55678d5a1f4f2795793fb8310ea1ca": {
      "model_module": "@jupyter-widgets/controls",
      "model_module_version": "2.0.0",
      "model_name": "HTMLStyleModel",
      "state": {
       "description_width": "",
       "font_size": null,
       "text_color": null
      }
     },
     "2f47e083be9a48659fbdaa93320cb3e1": {
      "model_module": "@jupyter-widgets/base",
      "model_module_version": "2.0.0",
      "model_name": "LayoutModel",
      "state": {}
     },
     "2ffb04687ad743639b9ac37258e0a974": {
      "model_module": "@jupyter-widgets/controls",
      "model_module_version": "2.0.0",
      "model_name": "HBoxModel",
      "state": {
       "children": [
        "IPY_MODEL_cb120004313c42fcb0abe66c087f04f5",
        "IPY_MODEL_2b3798e44e9746c691f977e644fa638f",
        "IPY_MODEL_d514938f374249e988a841c76cfe63e3"
       ],
       "layout": "IPY_MODEL_152f36c15ce84d08b69420a86de170e7"
      }
     },
     "3042cd2f0817498da12f59374fdf7ea6": {
      "model_module": "@jupyter-widgets/controls",
      "model_module_version": "2.0.0",
      "model_name": "HTMLModel",
      "state": {
       "layout": "IPY_MODEL_bbbaa8f00b8b4964a108f841f5c84539",
       "style": "IPY_MODEL_5d6ec764d066460eaae10c325200d14e",
       "value": " 20/20 [01:46&lt;00:00,  5.48s/it]"
      }
     },
     "309bb2527fe34bbf87104878e93d0fca": {
      "model_module": "@jupyter-widgets/controls",
      "model_module_version": "2.0.0",
      "model_name": "HTMLStyleModel",
      "state": {
       "description_width": "",
       "font_size": null,
       "text_color": null
      }
     },
     "309c3b37c5dd488ea0bfdc11f09184b6": {
      "model_module": "@jupyter-widgets/controls",
      "model_module_version": "2.0.0",
      "model_name": "HTMLStyleModel",
      "state": {
       "description_width": "",
       "font_size": null,
       "text_color": null
      }
     },
     "30d185065f984fdebdecfe699518ca9e": {
      "model_module": "@jupyter-widgets/controls",
      "model_module_version": "2.0.0",
      "model_name": "HTMLModel",
      "state": {
       "layout": "IPY_MODEL_13ff5811290d45ef9fa06397a4249613",
       "style": "IPY_MODEL_7cdfe5e2838c4de4b89efe0785ccad04",
       "value": "100%"
      }
     },
     "314b689067164d3e84216d98273a1728": {
      "model_module": "@jupyter-widgets/controls",
      "model_module_version": "2.0.0",
      "model_name": "FloatProgressModel",
      "state": {
       "bar_style": "success",
       "layout": "IPY_MODEL_b5d3ccb93cac4f158d74ee65b3a09c25",
       "max": 20,
       "style": "IPY_MODEL_7cbdc8213f0746c0b57bee2318566361",
       "value": 20
      }
     },
     "34b2c221743643029be20df98c9198d3": {
      "model_module": "@jupyter-widgets/base",
      "model_module_version": "2.0.0",
      "model_name": "LayoutModel",
      "state": {}
     },
     "35ce05ecadd24105b71653d37b6747c2": {
      "model_module": "@jupyter-widgets/base",
      "model_module_version": "2.0.0",
      "model_name": "LayoutModel",
      "state": {}
     },
     "3736aebc10bb4b8c8d8a59b213a78f4d": {
      "model_module": "@jupyter-widgets/controls",
      "model_module_version": "2.0.0",
      "model_name": "HBoxModel",
      "state": {
       "children": [
        "IPY_MODEL_ccaa8fa516e4417e8384a533abe0ab15",
        "IPY_MODEL_e669b37cba2843429aad28835d3dc4cf",
        "IPY_MODEL_c80d259418f64b71b498a20b69797a38"
       ],
       "layout": "IPY_MODEL_25e944108cd04fd492a597ff753ff4e3"
      }
     },
     "3878daeb54ad4f6da2709155b7b3d547": {
      "model_module": "@jupyter-widgets/controls",
      "model_module_version": "2.0.0",
      "model_name": "HTMLModel",
      "state": {
       "layout": "IPY_MODEL_89f6f2625745480e97c75ea0f02522d2",
       "style": "IPY_MODEL_fb5f9371da6b4e5e89c8df67241f3fae",
       "value": "100%"
      }
     },
     "38f752061ac34c57a4bca01d673cade8": {
      "model_module": "@jupyter-widgets/controls",
      "model_module_version": "2.0.0",
      "model_name": "HTMLModel",
      "state": {
       "layout": "IPY_MODEL_0f6c0f6101f24ba2a7e7864ab773280d",
       "style": "IPY_MODEL_c366a9b426af4b1697f6cffebc8447c8",
       "value": " 20/20 [01:46&lt;00:00,  5.51s/it]"
      }
     },
     "39152be0078947d4858a7a7f9ce32bfe": {
      "model_module": "@jupyter-widgets/controls",
      "model_module_version": "2.0.0",
      "model_name": "HBoxModel",
      "state": {
       "children": [
        "IPY_MODEL_491ab44e6ad346918e6f34540d9a097e",
        "IPY_MODEL_f94cef2d3a354dfba95fe8b4dd237202",
        "IPY_MODEL_49d14ae1b44d4f19bdd25472fc1f13fd"
       ],
       "layout": "IPY_MODEL_4dfb347b08634a0da0bf767464a2245e"
      }
     },
     "3a55b1c32545467985bbfdc95c1b74f7": {
      "model_module": "@jupyter-widgets/controls",
      "model_module_version": "2.0.0",
      "model_name": "HBoxModel",
      "state": {
       "children": [
        "IPY_MODEL_93cffee32a63461eb38009c7afb40f6b",
        "IPY_MODEL_314b689067164d3e84216d98273a1728",
        "IPY_MODEL_77b998be88df411db25abd1ef5a664ca"
       ],
       "layout": "IPY_MODEL_587c50ad7d5a483b9a2d18338d7a8734"
      }
     },
     "3af56b834c7347ba9de3dd737916f671": {
      "model_module": "@jupyter-widgets/controls",
      "model_module_version": "2.0.0",
      "model_name": "HTMLModel",
      "state": {
       "layout": "IPY_MODEL_2f47e083be9a48659fbdaa93320cb3e1",
       "style": "IPY_MODEL_1ce4cb90ed1d48b4a88d34b5fa671f72",
       "value": "100%"
      }
     },
     "3d556da6dc12451ea15dd18ee6e2e4fd": {
      "model_module": "@jupyter-widgets/base",
      "model_module_version": "2.0.0",
      "model_name": "LayoutModel",
      "state": {}
     },
     "3d7b0f462a5d459494ac8a1f8a22c511": {
      "model_module": "@jupyter-widgets/base",
      "model_module_version": "2.0.0",
      "model_name": "LayoutModel",
      "state": {}
     },
     "3fa2642f2a3b4d6692bec130a47d7d75": {
      "model_module": "@jupyter-widgets/controls",
      "model_module_version": "2.0.0",
      "model_name": "HTMLStyleModel",
      "state": {
       "description_width": "",
       "font_size": null,
       "text_color": null
      }
     },
     "41b2cd3a0c194a5baeb999b54d7a99ff": {
      "model_module": "@jupyter-widgets/controls",
      "model_module_version": "2.0.0",
      "model_name": "FloatProgressModel",
      "state": {
       "bar_style": "success",
       "layout": "IPY_MODEL_3d7b0f462a5d459494ac8a1f8a22c511",
       "max": 20,
       "style": "IPY_MODEL_6c7fd94b3fe54db58bbc49c233528892",
       "value": 20
      }
     },
     "434fe4ef028b48d19e8b977980001d6a": {
      "model_module": "@jupyter-widgets/controls",
      "model_module_version": "2.0.0",
      "model_name": "HBoxModel",
      "state": {
       "children": [
        "IPY_MODEL_3878daeb54ad4f6da2709155b7b3d547",
        "IPY_MODEL_723cf039a61c4e829e27d77d2b315df8",
        "IPY_MODEL_72b2586b34974fae9218f38df2aa6dbc"
       ],
       "layout": "IPY_MODEL_9f272f18e72d405994988f9b327f8715"
      }
     },
     "4358fdfb9d6a44a5b0144e81570e833e": {
      "model_module": "@jupyter-widgets/controls",
      "model_module_version": "2.0.0",
      "model_name": "HTMLStyleModel",
      "state": {
       "description_width": "",
       "font_size": null,
       "text_color": null
      }
     },
     "43707fe508ef4d8f8226d022833924a0": {
      "model_module": "@jupyter-widgets/controls",
      "model_module_version": "2.0.0",
      "model_name": "FloatProgressModel",
      "state": {
       "bar_style": "success",
       "layout": "IPY_MODEL_ef62526684ec4df8811ed8bf0096903a",
       "max": 20,
       "style": "IPY_MODEL_8300b41c1fe942a5a30691d8be697943",
       "value": 20
      }
     },
     "43ab3789e10843e38c0bb68d3ba2ea0e": {
      "model_module": "@jupyter-widgets/controls",
      "model_module_version": "2.0.0",
      "model_name": "HTMLStyleModel",
      "state": {
       "description_width": "",
       "font_size": null,
       "text_color": null
      }
     },
     "4409ec67240d47d6bb85c5686d1fa11d": {
      "model_module": "@jupyter-widgets/base",
      "model_module_version": "2.0.0",
      "model_name": "LayoutModel",
      "state": {}
     },
     "4465c37fbdbd492183c18ad75d1b9776": {
      "model_module": "@jupyter-widgets/controls",
      "model_module_version": "2.0.0",
      "model_name": "ProgressStyleModel",
      "state": {
       "description_width": ""
      }
     },
     "451fc5fa719c466a8a6ec6c5195341fd": {
      "model_module": "@jupyter-widgets/controls",
      "model_module_version": "2.0.0",
      "model_name": "HTMLStyleModel",
      "state": {
       "description_width": "",
       "font_size": null,
       "text_color": null
      }
     },
     "4592769b32394037bc755686a37eac4a": {
      "model_module": "@jupyter-widgets/base",
      "model_module_version": "2.0.0",
      "model_name": "LayoutModel",
      "state": {}
     },
     "4888225e01f043998df01d14ccd22d0b": {
      "model_module": "@jupyter-widgets/base",
      "model_module_version": "2.0.0",
      "model_name": "LayoutModel",
      "state": {}
     },
     "48db1bdaf5cd4e638116a00fe7a793ed": {
      "model_module": "@jupyter-widgets/controls",
      "model_module_version": "2.0.0",
      "model_name": "HTMLModel",
      "state": {
       "layout": "IPY_MODEL_8fc6b11219df4bd18b779da32609d82c",
       "style": "IPY_MODEL_d6ef4cfb41a5421792c7fd22e6391aff",
       "value": "100%"
      }
     },
     "491ab44e6ad346918e6f34540d9a097e": {
      "model_module": "@jupyter-widgets/controls",
      "model_module_version": "2.0.0",
      "model_name": "HTMLModel",
      "state": {
       "layout": "IPY_MODEL_abea0b5fa60f441ca17b36295b410d55",
       "style": "IPY_MODEL_8744f196a3684f18a2dd2b3a1cff4992",
       "value": "100%"
      }
     },
     "49229487279949eb89959fe81c1ecdff": {
      "model_module": "@jupyter-widgets/controls",
      "model_module_version": "2.0.0",
      "model_name": "HBoxModel",
      "state": {
       "children": [
        "IPY_MODEL_f9d640d6bc7c494bacaa36a2435538d3",
        "IPY_MODEL_66d7234e8fbb48abb4d6c1a9c3238b9f",
        "IPY_MODEL_e81a48f3718742928746cffee8509b1d"
       ],
       "layout": "IPY_MODEL_7538f83a3a784b60a1bbeadc78acc3d1"
      }
     },
     "49d14ae1b44d4f19bdd25472fc1f13fd": {
      "model_module": "@jupyter-widgets/controls",
      "model_module_version": "2.0.0",
      "model_name": "HTMLModel",
      "state": {
       "layout": "IPY_MODEL_87fe98d85b704012a4b65e2d825fdd59",
       "style": "IPY_MODEL_219a7efb88234b1e8b721a53cb95e5dd",
       "value": " 20/20 [01:46&lt;00:00,  5.48s/it]"
      }
     },
     "4a5cda4adfd64bf3a0743447d63b5d65": {
      "model_module": "@jupyter-widgets/controls",
      "model_module_version": "2.0.0",
      "model_name": "HTMLModel",
      "state": {
       "layout": "IPY_MODEL_d82f447921e740adab25638827463f8c",
       "style": "IPY_MODEL_8cdec243eac941f09022358fe19c817b",
       "value": "100%"
      }
     },
     "4c41a9fee755471d984f2a97c34e063d": {
      "model_module": "@jupyter-widgets/controls",
      "model_module_version": "2.0.0",
      "model_name": "FloatProgressModel",
      "state": {
       "bar_style": "success",
       "layout": "IPY_MODEL_14bd227112084430bd224a03a76c6945",
       "max": 20,
       "style": "IPY_MODEL_d4675b519af043d480107ed72efb23a1",
       "value": 20
      }
     },
     "4d5353a77cc8469cb98b36243c69744e": {
      "model_module": "@jupyter-widgets/controls",
      "model_module_version": "2.0.0",
      "model_name": "FloatProgressModel",
      "state": {
       "bar_style": "success",
       "layout": "IPY_MODEL_76db00113eac4434aceb39c069239b15",
       "max": 20,
       "style": "IPY_MODEL_d84f1419459d412da31716ced5666077",
       "value": 20
      }
     },
     "4d6e183a382e41a88e1b7285960be235": {
      "model_module": "@jupyter-widgets/controls",
      "model_module_version": "2.0.0",
      "model_name": "FloatProgressModel",
      "state": {
       "bar_style": "success",
       "layout": "IPY_MODEL_b26e3e70a6e6476e92b630300fd48114",
       "max": 20,
       "style": "IPY_MODEL_080721a14df340608b5e64c8e1ced862",
       "value": 20
      }
     },
     "4df8cb4dccf54c0f94e12d947501aa7e": {
      "model_module": "@jupyter-widgets/base",
      "model_module_version": "2.0.0",
      "model_name": "LayoutModel",
      "state": {}
     },
     "4dfb347b08634a0da0bf767464a2245e": {
      "model_module": "@jupyter-widgets/base",
      "model_module_version": "2.0.0",
      "model_name": "LayoutModel",
      "state": {}
     },
     "4f6371477bfd4536b05036460980c0ec": {
      "model_module": "@jupyter-widgets/base",
      "model_module_version": "2.0.0",
      "model_name": "LayoutModel",
      "state": {}
     },
     "4fbaa2b2d3c04e79a53cab4067b4f0cd": {
      "model_module": "@jupyter-widgets/controls",
      "model_module_version": "2.0.0",
      "model_name": "HBoxModel",
      "state": {
       "children": [
        "IPY_MODEL_4a5cda4adfd64bf3a0743447d63b5d65",
        "IPY_MODEL_5fcc02c874244ae0a513fce8a0de75b2",
        "IPY_MODEL_8fdda026e2f94df89189fadffd09bd47"
       ],
       "layout": "IPY_MODEL_ad40c4619387441aa58c42165e3b7718"
      }
     },
     "51134f5e4cd24ddd8b864c03970263b3": {
      "model_module": "@jupyter-widgets/controls",
      "model_module_version": "2.0.0",
      "model_name": "HTMLStyleModel",
      "state": {
       "description_width": "",
       "font_size": null,
       "text_color": null
      }
     },
     "514d0fdc5d97407f922d495357eacc00": {
      "model_module": "@jupyter-widgets/controls",
      "model_module_version": "2.0.0",
      "model_name": "HTMLModel",
      "state": {
       "layout": "IPY_MODEL_a00a0cc9c7c5407487f0249e7ef2bacf",
       "style": "IPY_MODEL_43ab3789e10843e38c0bb68d3ba2ea0e",
       "value": " 20/20 [01:46&lt;00:00,  5.44s/it]"
      }
     },
     "515914f7cd404e7da43b88d72e207924": {
      "model_module": "@jupyter-widgets/controls",
      "model_module_version": "2.0.0",
      "model_name": "HBoxModel",
      "state": {
       "children": [
        "IPY_MODEL_ea625c9b5d264a69a034b7d85f6f0098",
        "IPY_MODEL_43707fe508ef4d8f8226d022833924a0",
        "IPY_MODEL_514d0fdc5d97407f922d495357eacc00"
       ],
       "layout": "IPY_MODEL_c44e6c150b7a4fe8a3d1a6533488b0ae"
      }
     },
     "51a8dbcef0cc4bc88d3ce8d56903f50a": {
      "model_module": "@jupyter-widgets/controls",
      "model_module_version": "2.0.0",
      "model_name": "HTMLStyleModel",
      "state": {
       "description_width": "",
       "font_size": null,
       "text_color": null
      }
     },
     "587c50ad7d5a483b9a2d18338d7a8734": {
      "model_module": "@jupyter-widgets/base",
      "model_module_version": "2.0.0",
      "model_name": "LayoutModel",
      "state": {}
     },
     "58ceb3ca55d940e39c4c92c5c4b0111b": {
      "model_module": "@jupyter-widgets/base",
      "model_module_version": "2.0.0",
      "model_name": "LayoutModel",
      "state": {}
     },
     "5a182ce2315446b4afafb43116f9f7c9": {
      "model_module": "@jupyter-widgets/base",
      "model_module_version": "2.0.0",
      "model_name": "LayoutModel",
      "state": {}
     },
     "5abfe912a1264f1885c7217d4c44e234": {
      "model_module": "@jupyter-widgets/controls",
      "model_module_version": "2.0.0",
      "model_name": "HTMLModel",
      "state": {
       "layout": "IPY_MODEL_4888225e01f043998df01d14ccd22d0b",
       "style": "IPY_MODEL_c9a3816e77974284b1847ef0784c9ad8",
       "value": " 20/20 [01:46&lt;00:00,  5.50s/it]"
      }
     },
     "5d6ec764d066460eaae10c325200d14e": {
      "model_module": "@jupyter-widgets/controls",
      "model_module_version": "2.0.0",
      "model_name": "HTMLStyleModel",
      "state": {
       "description_width": "",
       "font_size": null,
       "text_color": null
      }
     },
     "5e3f4c4b7de8448fa7a091c43eae8cfb": {
      "model_module": "@jupyter-widgets/controls",
      "model_module_version": "2.0.0",
      "model_name": "FloatProgressModel",
      "state": {
       "bar_style": "success",
       "layout": "IPY_MODEL_5a182ce2315446b4afafb43116f9f7c9",
       "max": 20,
       "style": "IPY_MODEL_778b940ad39943c7b6e709781ab4bc1a",
       "value": 20
      }
     },
     "5f3d2ff5a3884e6bbb605255d15e61ad": {
      "model_module": "@jupyter-widgets/controls",
      "model_module_version": "2.0.0",
      "model_name": "ProgressStyleModel",
      "state": {
       "description_width": ""
      }
     },
     "5f50904351e844f4a50f1e188f28f6d9": {
      "model_module": "@jupyter-widgets/controls",
      "model_module_version": "2.0.0",
      "model_name": "HBoxModel",
      "state": {
       "children": [
        "IPY_MODEL_83928fb8d09e4d75b17b88198136c012",
        "IPY_MODEL_41b2cd3a0c194a5baeb999b54d7a99ff",
        "IPY_MODEL_c51549051d57473289dd92b097835a40"
       ],
       "layout": "IPY_MODEL_a33d13fc55bf44ec8fa6b249328a5c3a"
      }
     },
     "5fcc02c874244ae0a513fce8a0de75b2": {
      "model_module": "@jupyter-widgets/controls",
      "model_module_version": "2.0.0",
      "model_name": "FloatProgressModel",
      "state": {
       "bar_style": "success",
       "layout": "IPY_MODEL_aaa4997487584edab8345afc4c80fdc9",
       "max": 20,
       "style": "IPY_MODEL_0b2cd26ab9da4a3a9c534fef4d432dde",
       "value": 20
      }
     },
     "60ac4de9ed29415ea5738bc11702a4e1": {
      "model_module": "@jupyter-widgets/base",
      "model_module_version": "2.0.0",
      "model_name": "LayoutModel",
      "state": {}
     },
     "6262020bdbda478787e6a0773bb46654": {
      "model_module": "@jupyter-widgets/controls",
      "model_module_version": "2.0.0",
      "model_name": "HTMLModel",
      "state": {
       "layout": "IPY_MODEL_03b79b853f3f479593e8421bc0f61122",
       "style": "IPY_MODEL_e9c5f822e2de4c08aa420bf28cda3fa0",
       "value": " 20/20 [01:45&lt;00:00,  5.45s/it]"
      }
     },
     "62f5c91f2ade4e0e99deb464288bc20f": {
      "model_module": "@jupyter-widgets/base",
      "model_module_version": "2.0.0",
      "model_name": "LayoutModel",
      "state": {}
     },
     "66d7234e8fbb48abb4d6c1a9c3238b9f": {
      "model_module": "@jupyter-widgets/controls",
      "model_module_version": "2.0.0",
      "model_name": "FloatProgressModel",
      "state": {
       "bar_style": "success",
       "layout": "IPY_MODEL_12c4248b475a4807a245c75c7eeaf222",
       "max": 50,
       "style": "IPY_MODEL_f26bfd8915c4413895b4db73a4c23692",
       "value": 50
      }
     },
     "6c7fd94b3fe54db58bbc49c233528892": {
      "model_module": "@jupyter-widgets/controls",
      "model_module_version": "2.0.0",
      "model_name": "ProgressStyleModel",
      "state": {
       "description_width": ""
      }
     },
     "6ecc105aa8a04feeaf529085c961ed74": {
      "model_module": "@jupyter-widgets/controls",
      "model_module_version": "2.0.0",
      "model_name": "HBoxModel",
      "state": {
       "children": [
        "IPY_MODEL_06c6752fd78e4145aac419d7870b51e5",
        "IPY_MODEL_a7fab574b0764ba781bc6c2ce83640b3",
        "IPY_MODEL_d251e3c9d1b94ea9b20ed1704aac6960"
       ],
       "layout": "IPY_MODEL_2231e2d178634b108b1dd2dbe1322ab9"
      }
     },
     "6f9ae3c320b9490abedacce4129f0d21": {
      "model_module": "@jupyter-widgets/controls",
      "model_module_version": "2.0.0",
      "model_name": "HTMLModel",
      "state": {
       "layout": "IPY_MODEL_80fb9e334f084b70a533f3868ed15587",
       "style": "IPY_MODEL_93b01fbffb3a4116b0ce12215076732e",
       "value": " 20/20 [01:46&lt;00:00,  5.46s/it]"
      }
     },
     "7032a7663ff04246b72b2cdd951037ee": {
      "model_module": "@jupyter-widgets/controls",
      "model_module_version": "2.0.0",
      "model_name": "ProgressStyleModel",
      "state": {
       "description_width": ""
      }
     },
     "706867a0a952416fb68270799e6851fa": {
      "model_module": "@jupyter-widgets/controls",
      "model_module_version": "2.0.0",
      "model_name": "HTMLStyleModel",
      "state": {
       "description_width": "",
       "font_size": null,
       "text_color": null
      }
     },
     "7078ab0b9b384ce7a3a3accb33f7df21": {
      "model_module": "@jupyter-widgets/controls",
      "model_module_version": "2.0.0",
      "model_name": "HTMLModel",
      "state": {
       "layout": "IPY_MODEL_4592769b32394037bc755686a37eac4a",
       "style": "IPY_MODEL_8e3df90a5c4645ab9a93c6960c2d9185",
       "value": " 20/20 [01:46&lt;00:00,  5.44s/it]"
      }
     },
     "7173114073244ed7b87045ebff1c1d9b": {
      "model_module": "@jupyter-widgets/base",
      "model_module_version": "2.0.0",
      "model_name": "LayoutModel",
      "state": {}
     },
     "723cf039a61c4e829e27d77d2b315df8": {
      "model_module": "@jupyter-widgets/controls",
      "model_module_version": "2.0.0",
      "model_name": "FloatProgressModel",
      "state": {
       "bar_style": "success",
       "layout": "IPY_MODEL_62f5c91f2ade4e0e99deb464288bc20f",
       "max": 20,
       "style": "IPY_MODEL_5f3d2ff5a3884e6bbb605255d15e61ad",
       "value": 20
      }
     },
     "72b2586b34974fae9218f38df2aa6dbc": {
      "model_module": "@jupyter-widgets/controls",
      "model_module_version": "2.0.0",
      "model_name": "HTMLModel",
      "state": {
       "layout": "IPY_MODEL_ce2af63345054ee0931ffa42e4bc2007",
       "style": "IPY_MODEL_837f4237f5ed4d4a8481e1a4f70b934c",
       "value": " 20/20 [01:46&lt;00:00,  5.48s/it]"
      }
     },
     "73bd546900da4d3680fe174be761f1ce": {
      "model_module": "@jupyter-widgets/base",
      "model_module_version": "2.0.0",
      "model_name": "LayoutModel",
      "state": {}
     },
     "743b19409d674cbd9af08dcea1709214": {
      "model_module": "@jupyter-widgets/controls",
      "model_module_version": "2.0.0",
      "model_name": "HTMLStyleModel",
      "state": {
       "description_width": "",
       "font_size": null,
       "text_color": null
      }
     },
     "7538f83a3a784b60a1bbeadc78acc3d1": {
      "model_module": "@jupyter-widgets/base",
      "model_module_version": "2.0.0",
      "model_name": "LayoutModel",
      "state": {}
     },
     "75661e24dd69401b81594ea6dbfca218": {
      "model_module": "@jupyter-widgets/controls",
      "model_module_version": "2.0.0",
      "model_name": "HTMLStyleModel",
      "state": {
       "description_width": "",
       "font_size": null,
       "text_color": null
      }
     },
     "76db00113eac4434aceb39c069239b15": {
      "model_module": "@jupyter-widgets/base",
      "model_module_version": "2.0.0",
      "model_name": "LayoutModel",
      "state": {}
     },
     "778b940ad39943c7b6e709781ab4bc1a": {
      "model_module": "@jupyter-widgets/controls",
      "model_module_version": "2.0.0",
      "model_name": "ProgressStyleModel",
      "state": {
       "description_width": ""
      }
     },
     "77b998be88df411db25abd1ef5a664ca": {
      "model_module": "@jupyter-widgets/controls",
      "model_module_version": "2.0.0",
      "model_name": "HTMLModel",
      "state": {
       "layout": "IPY_MODEL_aa4b6ce7396d4538a357940910266c13",
       "style": "IPY_MODEL_93bdaee57789494fb79e129ccf6b2814",
       "value": " 20/20 [01:46&lt;00:00,  5.47s/it]"
      }
     },
     "7bfbf47f9207452eaf477009ed3d56b7": {
      "model_module": "@jupyter-widgets/controls",
      "model_module_version": "2.0.0",
      "model_name": "HTMLModel",
      "state": {
       "layout": "IPY_MODEL_f654434b29be400693e7aa95ba519755",
       "style": "IPY_MODEL_154442d3cbb8498193d55739faae209e",
       "value": " 20/20 [01:46&lt;00:00,  5.45s/it]"
      }
     },
     "7c5595e9ad3642af97d3f2583ddf0324": {
      "model_module": "@jupyter-widgets/base",
      "model_module_version": "2.0.0",
      "model_name": "LayoutModel",
      "state": {}
     },
     "7cbdc8213f0746c0b57bee2318566361": {
      "model_module": "@jupyter-widgets/controls",
      "model_module_version": "2.0.0",
      "model_name": "ProgressStyleModel",
      "state": {
       "description_width": ""
      }
     },
     "7cdfe5e2838c4de4b89efe0785ccad04": {
      "model_module": "@jupyter-widgets/controls",
      "model_module_version": "2.0.0",
      "model_name": "HTMLStyleModel",
      "state": {
       "description_width": "",
       "font_size": null,
       "text_color": null
      }
     },
     "7f242d9477864cc18a3592cebb36c577": {
      "model_module": "@jupyter-widgets/base",
      "model_module_version": "2.0.0",
      "model_name": "LayoutModel",
      "state": {}
     },
     "7fdc9050ebe94aefb3334c9f2bb34033": {
      "model_module": "@jupyter-widgets/controls",
      "model_module_version": "2.0.0",
      "model_name": "HBoxModel",
      "state": {
       "children": [
        "IPY_MODEL_1d2fd12d262e4f6fa25aaccf8337d832",
        "IPY_MODEL_4d5353a77cc8469cb98b36243c69744e",
        "IPY_MODEL_ec3645c0007b4acab38a64c4331c21ce"
       ],
       "layout": "IPY_MODEL_34b2c221743643029be20df98c9198d3"
      }
     },
     "80fb9e334f084b70a533f3868ed15587": {
      "model_module": "@jupyter-widgets/base",
      "model_module_version": "2.0.0",
      "model_name": "LayoutModel",
      "state": {}
     },
     "811b348634554f51933cb19c6eba91b3": {
      "model_module": "@jupyter-widgets/base",
      "model_module_version": "2.0.0",
      "model_name": "LayoutModel",
      "state": {}
     },
     "81f4948699074a49a95f47b39c66febd": {
      "model_module": "@jupyter-widgets/base",
      "model_module_version": "2.0.0",
      "model_name": "LayoutModel",
      "state": {}
     },
     "827950d91b2f425da87020b9cf64a12c": {
      "model_module": "@jupyter-widgets/controls",
      "model_module_version": "2.0.0",
      "model_name": "HTMLStyleModel",
      "state": {
       "description_width": "",
       "font_size": null,
       "text_color": null
      }
     },
     "8300b41c1fe942a5a30691d8be697943": {
      "model_module": "@jupyter-widgets/controls",
      "model_module_version": "2.0.0",
      "model_name": "ProgressStyleModel",
      "state": {
       "description_width": ""
      }
     },
     "837f4237f5ed4d4a8481e1a4f70b934c": {
      "model_module": "@jupyter-widgets/controls",
      "model_module_version": "2.0.0",
      "model_name": "HTMLStyleModel",
      "state": {
       "description_width": "",
       "font_size": null,
       "text_color": null
      }
     },
     "83928fb8d09e4d75b17b88198136c012": {
      "model_module": "@jupyter-widgets/controls",
      "model_module_version": "2.0.0",
      "model_name": "HTMLModel",
      "state": {
       "layout": "IPY_MODEL_be8ea4aff7604da6bd0741ea2a2d10e5",
       "style": "IPY_MODEL_827950d91b2f425da87020b9cf64a12c",
       "value": "100%"
      }
     },
     "84ece4eab2de46068a9e0e7eb159dc8a": {
      "model_module": "@jupyter-widgets/controls",
      "model_module_version": "2.0.0",
      "model_name": "FloatProgressModel",
      "state": {
       "bar_style": "success",
       "layout": "IPY_MODEL_8fc5a50d7c414049984e6a98c6eaabb0",
       "max": 20,
       "style": "IPY_MODEL_1874514af82542a2a9e562fbc0d659ad",
       "value": 20
      }
     },
     "8744f196a3684f18a2dd2b3a1cff4992": {
      "model_module": "@jupyter-widgets/controls",
      "model_module_version": "2.0.0",
      "model_name": "HTMLStyleModel",
      "state": {
       "description_width": "",
       "font_size": null,
       "text_color": null
      }
     },
     "879bcb52ec9b4820ad82d76e8819fdfd": {
      "model_module": "@jupyter-widgets/base",
      "model_module_version": "2.0.0",
      "model_name": "LayoutModel",
      "state": {}
     },
     "87fe98d85b704012a4b65e2d825fdd59": {
      "model_module": "@jupyter-widgets/base",
      "model_module_version": "2.0.0",
      "model_name": "LayoutModel",
      "state": {}
     },
     "893ea43dedc34e60b04e22d8730c68ca": {
      "model_module": "@jupyter-widgets/controls",
      "model_module_version": "2.0.0",
      "model_name": "FloatProgressModel",
      "state": {
       "bar_style": "success",
       "layout": "IPY_MODEL_811b348634554f51933cb19c6eba91b3",
       "max": 7,
       "style": "IPY_MODEL_23e13a1e57f843ee817d4bd8c40e4d53",
       "value": 7
      }
     },
     "898eeb2b21f14cdc939b6d8e541d20ea": {
      "model_module": "@jupyter-widgets/controls",
      "model_module_version": "2.0.0",
      "model_name": "HBoxModel",
      "state": {
       "children": [
        "IPY_MODEL_48db1bdaf5cd4e638116a00fe7a793ed",
        "IPY_MODEL_4d6e183a382e41a88e1b7285960be235",
        "IPY_MODEL_c872e214e195413396a22b812d8b6891"
       ],
       "layout": "IPY_MODEL_81f4948699074a49a95f47b39c66febd"
      }
     },
     "89f6f2625745480e97c75ea0f02522d2": {
      "model_module": "@jupyter-widgets/base",
      "model_module_version": "2.0.0",
      "model_name": "LayoutModel",
      "state": {}
     },
     "8bc115be314b4e30a671280c583fce21": {
      "model_module": "@jupyter-widgets/controls",
      "model_module_version": "2.0.0",
      "model_name": "HBoxModel",
      "state": {
       "children": [
        "IPY_MODEL_24f9875815ce4691b70fa601bc7cec94",
        "IPY_MODEL_4c41a9fee755471d984f2a97c34e063d",
        "IPY_MODEL_7078ab0b9b384ce7a3a3accb33f7df21"
       ],
       "layout": "IPY_MODEL_a495b049241043358e65a9917c8bc8e0"
      }
     },
     "8c6831b4943942a5af0bd9979432aeb1": {
      "model_module": "@jupyter-widgets/controls",
      "model_module_version": "2.0.0",
      "model_name": "HTMLStyleModel",
      "state": {
       "description_width": "",
       "font_size": null,
       "text_color": null
      }
     },
     "8cdec243eac941f09022358fe19c817b": {
      "model_module": "@jupyter-widgets/controls",
      "model_module_version": "2.0.0",
      "model_name": "HTMLStyleModel",
      "state": {
       "description_width": "",
       "font_size": null,
       "text_color": null
      }
     },
     "8d0ca4c7efc74290a1d38615e5e0a254": {
      "model_module": "@jupyter-widgets/base",
      "model_module_version": "2.0.0",
      "model_name": "LayoutModel",
      "state": {}
     },
     "8e3df90a5c4645ab9a93c6960c2d9185": {
      "model_module": "@jupyter-widgets/controls",
      "model_module_version": "2.0.0",
      "model_name": "HTMLStyleModel",
      "state": {
       "description_width": "",
       "font_size": null,
       "text_color": null
      }
     },
     "8fc5a50d7c414049984e6a98c6eaabb0": {
      "model_module": "@jupyter-widgets/base",
      "model_module_version": "2.0.0",
      "model_name": "LayoutModel",
      "state": {}
     },
     "8fc6b11219df4bd18b779da32609d82c": {
      "model_module": "@jupyter-widgets/base",
      "model_module_version": "2.0.0",
      "model_name": "LayoutModel",
      "state": {}
     },
     "8fdda026e2f94df89189fadffd09bd47": {
      "model_module": "@jupyter-widgets/controls",
      "model_module_version": "2.0.0",
      "model_name": "HTMLModel",
      "state": {
       "layout": "IPY_MODEL_9ac52161377d4a71b620c2c90311452c",
       "style": "IPY_MODEL_12e1871c52764b988e34dae91d2e9b99",
       "value": " 20/20 [01:46&lt;00:00,  5.48s/it]"
      }
     },
     "93b01fbffb3a4116b0ce12215076732e": {
      "model_module": "@jupyter-widgets/controls",
      "model_module_version": "2.0.0",
      "model_name": "HTMLStyleModel",
      "state": {
       "description_width": "",
       "font_size": null,
       "text_color": null
      }
     },
     "93b4aa2c14a34901a17e087fadbcf5f3": {
      "model_module": "@jupyter-widgets/base",
      "model_module_version": "2.0.0",
      "model_name": "LayoutModel",
      "state": {}
     },
     "93bdaee57789494fb79e129ccf6b2814": {
      "model_module": "@jupyter-widgets/controls",
      "model_module_version": "2.0.0",
      "model_name": "HTMLStyleModel",
      "state": {
       "description_width": "",
       "font_size": null,
       "text_color": null
      }
     },
     "93cffee32a63461eb38009c7afb40f6b": {
      "model_module": "@jupyter-widgets/controls",
      "model_module_version": "2.0.0",
      "model_name": "HTMLModel",
      "state": {
       "layout": "IPY_MODEL_d492cde188e449c58b60e76cd4b78b7a",
       "style": "IPY_MODEL_b84d8de6c2004ee3808cd5005d8e612c",
       "value": "100%"
      }
     },
     "946e26b87785437fa8848c0102b7e081": {
      "model_module": "@jupyter-widgets/controls",
      "model_module_version": "2.0.0",
      "model_name": "HTMLModel",
      "state": {
       "layout": "IPY_MODEL_4df8cb4dccf54c0f94e12d947501aa7e",
       "style": "IPY_MODEL_f2ee9ff3baff4ab7aff36753f5d3cc13",
       "value": " 20/20 [01:46&lt;00:00,  5.49s/it]"
      }
     },
     "948a7885088f4ac98652859957d159bc": {
      "model_module": "@jupyter-widgets/controls",
      "model_module_version": "2.0.0",
      "model_name": "HTMLStyleModel",
      "state": {
       "description_width": "",
       "font_size": null,
       "text_color": null
      }
     },
     "96c2f885b22248b9ae279ce174b50087": {
      "model_module": "@jupyter-widgets/base",
      "model_module_version": "2.0.0",
      "model_name": "LayoutModel",
      "state": {}
     },
     "971d4d7f40454310bd0decbbd82d4ca2": {
      "model_module": "@jupyter-widgets/base",
      "model_module_version": "2.0.0",
      "model_name": "LayoutModel",
      "state": {}
     },
     "9777d2f60f3643848ced0f053fa03f80": {
      "model_module": "@jupyter-widgets/controls",
      "model_module_version": "2.0.0",
      "model_name": "HTMLStyleModel",
      "state": {
       "description_width": "",
       "font_size": null,
       "text_color": null
      }
     },
     "9899ccb4d7574b5ca9af2eaa16714000": {
      "model_module": "@jupyter-widgets/controls",
      "model_module_version": "2.0.0",
      "model_name": "HBoxModel",
      "state": {
       "children": [
        "IPY_MODEL_d4dda693ef7842f7a87e2ffbbc9986db",
        "IPY_MODEL_893ea43dedc34e60b04e22d8730c68ca",
        "IPY_MODEL_eb1c68a8a88841acbba87a7452bb8912"
       ],
       "layout": "IPY_MODEL_4f6371477bfd4536b05036460980c0ec"
      }
     },
     "9a01efaa296d4531b999aea275961ed9": {
      "model_module": "@jupyter-widgets/controls",
      "model_module_version": "2.0.0",
      "model_name": "FloatProgressModel",
      "state": {
       "bar_style": "success",
       "layout": "IPY_MODEL_c609f364e82e4900ad2977660473c1ea",
       "max": 20,
       "style": "IPY_MODEL_107d7b6aa77349d0b0aeb01944610d0d",
       "value": 20
      }
     },
     "9ac52161377d4a71b620c2c90311452c": {
      "model_module": "@jupyter-widgets/base",
      "model_module_version": "2.0.0",
      "model_name": "LayoutModel",
      "state": {}
     },
     "9b438c32c2a548c8ae71f29e4b5cb90d": {
      "model_module": "@jupyter-widgets/controls",
      "model_module_version": "2.0.0",
      "model_name": "FloatProgressModel",
      "state": {
       "bar_style": "success",
       "layout": "IPY_MODEL_016096b347b94e2ab8194bbd46b46fc5",
       "max": 20,
       "style": "IPY_MODEL_1b0cc4a812354a3c94c959a808f61383",
       "value": 20
      }
     },
     "9f272f18e72d405994988f9b327f8715": {
      "model_module": "@jupyter-widgets/base",
      "model_module_version": "2.0.0",
      "model_name": "LayoutModel",
      "state": {}
     },
     "9fc0b97a32e947a99e520e6ddc626c91": {
      "model_module": "@jupyter-widgets/base",
      "model_module_version": "2.0.0",
      "model_name": "LayoutModel",
      "state": {}
     },
     "a00a0cc9c7c5407487f0249e7ef2bacf": {
      "model_module": "@jupyter-widgets/base",
      "model_module_version": "2.0.0",
      "model_name": "LayoutModel",
      "state": {}
     },
     "a2c5fd5e2c484e4188a48dd8a8be19a9": {
      "model_module": "@jupyter-widgets/base",
      "model_module_version": "2.0.0",
      "model_name": "LayoutModel",
      "state": {}
     },
     "a33d13fc55bf44ec8fa6b249328a5c3a": {
      "model_module": "@jupyter-widgets/base",
      "model_module_version": "2.0.0",
      "model_name": "LayoutModel",
      "state": {}
     },
     "a495b049241043358e65a9917c8bc8e0": {
      "model_module": "@jupyter-widgets/base",
      "model_module_version": "2.0.0",
      "model_name": "LayoutModel",
      "state": {}
     },
     "a6b98bf188514a5ebfa270952bb8431c": {
      "model_module": "@jupyter-widgets/controls",
      "model_module_version": "2.0.0",
      "model_name": "HBoxModel",
      "state": {
       "children": [
        "IPY_MODEL_fe321db3ef314293a5d803144ed64fa3",
        "IPY_MODEL_e660802a420a474faadd490b1850dc90",
        "IPY_MODEL_032239f04de544ceaeba1ab4abbbffb4"
       ],
       "layout": "IPY_MODEL_7c5595e9ad3642af97d3f2583ddf0324"
      }
     },
     "a7fab574b0764ba781bc6c2ce83640b3": {
      "model_module": "@jupyter-widgets/controls",
      "model_module_version": "2.0.0",
      "model_name": "FloatProgressModel",
      "state": {
       "bar_style": "success",
       "layout": "IPY_MODEL_0fe366d7b2ce4646bbef7416d3b4ac15",
       "max": 20,
       "style": "IPY_MODEL_ccb8e2ddeb964b7ca2b797a95021a5a7",
       "value": 20
      }
     },
     "a81f56af152b437abcaffe2b26c3ad27": {
      "model_module": "@jupyter-widgets/controls",
      "model_module_version": "2.0.0",
      "model_name": "HTMLStyleModel",
      "state": {
       "description_width": "",
       "font_size": null,
       "text_color": null
      }
     },
     "a9cae0e5f5b7428f9566e774d4049c14": {
      "model_module": "@jupyter-widgets/controls",
      "model_module_version": "2.0.0",
      "model_name": "HTMLStyleModel",
      "state": {
       "description_width": "",
       "font_size": null,
       "text_color": null
      }
     },
     "aa4b6ce7396d4538a357940910266c13": {
      "model_module": "@jupyter-widgets/base",
      "model_module_version": "2.0.0",
      "model_name": "LayoutModel",
      "state": {}
     },
     "aa537de11db148bb8c71b3dfb19d91ff": {
      "model_module": "@jupyter-widgets/controls",
      "model_module_version": "2.0.0",
      "model_name": "ProgressStyleModel",
      "state": {
       "description_width": ""
      }
     },
     "aaa4997487584edab8345afc4c80fdc9": {
      "model_module": "@jupyter-widgets/base",
      "model_module_version": "2.0.0",
      "model_name": "LayoutModel",
      "state": {}
     },
     "abea0b5fa60f441ca17b36295b410d55": {
      "model_module": "@jupyter-widgets/base",
      "model_module_version": "2.0.0",
      "model_name": "LayoutModel",
      "state": {}
     },
     "ad0d48e9ea824f86b622866c8f1c6464": {
      "model_module": "@jupyter-widgets/controls",
      "model_module_version": "2.0.0",
      "model_name": "FloatProgressModel",
      "state": {
       "bar_style": "success",
       "layout": "IPY_MODEL_fcfb1627bb354fa68d6420b20ba5371e",
       "max": 20,
       "style": "IPY_MODEL_7032a7663ff04246b72b2cdd951037ee",
       "value": 20
      }
     },
     "ad40c4619387441aa58c42165e3b7718": {
      "model_module": "@jupyter-widgets/base",
      "model_module_version": "2.0.0",
      "model_name": "LayoutModel",
      "state": {}
     },
     "b26e3e70a6e6476e92b630300fd48114": {
      "model_module": "@jupyter-widgets/base",
      "model_module_version": "2.0.0",
      "model_name": "LayoutModel",
      "state": {}
     },
     "b5d3ccb93cac4f158d74ee65b3a09c25": {
      "model_module": "@jupyter-widgets/base",
      "model_module_version": "2.0.0",
      "model_name": "LayoutModel",
      "state": {}
     },
     "b84d8de6c2004ee3808cd5005d8e612c": {
      "model_module": "@jupyter-widgets/controls",
      "model_module_version": "2.0.0",
      "model_name": "HTMLStyleModel",
      "state": {
       "description_width": "",
       "font_size": null,
       "text_color": null
      }
     },
     "b9f88234144a47629abe8e508f2c3f3e": {
      "model_module": "@jupyter-widgets/controls",
      "model_module_version": "2.0.0",
      "model_name": "FloatProgressModel",
      "state": {
       "bar_style": "success",
       "layout": "IPY_MODEL_bcb486f6f6cb46b5892bea959db7d77c",
       "max": 20,
       "style": "IPY_MODEL_4465c37fbdbd492183c18ad75d1b9776",
       "value": 20
      }
     },
     "bbbaa8f00b8b4964a108f841f5c84539": {
      "model_module": "@jupyter-widgets/base",
      "model_module_version": "2.0.0",
      "model_name": "LayoutModel",
      "state": {}
     },
     "bc6a2b0b9d3340b784e7e8672d0d9cb1": {
      "model_module": "@jupyter-widgets/base",
      "model_module_version": "2.0.0",
      "model_name": "LayoutModel",
      "state": {}
     },
     "bcb486f6f6cb46b5892bea959db7d77c": {
      "model_module": "@jupyter-widgets/base",
      "model_module_version": "2.0.0",
      "model_name": "LayoutModel",
      "state": {}
     },
     "bccfe6f11dea4728b01a6ef1bb939738": {
      "model_module": "@jupyter-widgets/controls",
      "model_module_version": "2.0.0",
      "model_name": "HTMLModel",
      "state": {
       "layout": "IPY_MODEL_bc6a2b0b9d3340b784e7e8672d0d9cb1",
       "style": "IPY_MODEL_2c55678d5a1f4f2795793fb8310ea1ca",
       "value": "100%"
      }
     },
     "be32b19533fd4a5591d85f090e989fe7": {
      "model_module": "@jupyter-widgets/controls",
      "model_module_version": "2.0.0",
      "model_name": "HTMLStyleModel",
      "state": {
       "description_width": "",
       "font_size": null,
       "text_color": null
      }
     },
     "be8ea4aff7604da6bd0741ea2a2d10e5": {
      "model_module": "@jupyter-widgets/base",
      "model_module_version": "2.0.0",
      "model_name": "LayoutModel",
      "state": {}
     },
     "c147f1d9b0d64a76bb26f5e896cce41d": {
      "model_module": "@jupyter-widgets/base",
      "model_module_version": "2.0.0",
      "model_name": "LayoutModel",
      "state": {}
     },
     "c366a9b426af4b1697f6cffebc8447c8": {
      "model_module": "@jupyter-widgets/controls",
      "model_module_version": "2.0.0",
      "model_name": "HTMLStyleModel",
      "state": {
       "description_width": "",
       "font_size": null,
       "text_color": null
      }
     },
     "c44e6c150b7a4fe8a3d1a6533488b0ae": {
      "model_module": "@jupyter-widgets/base",
      "model_module_version": "2.0.0",
      "model_name": "LayoutModel",
      "state": {}
     },
     "c51549051d57473289dd92b097835a40": {
      "model_module": "@jupyter-widgets/controls",
      "model_module_version": "2.0.0",
      "model_name": "HTMLModel",
      "state": {
       "layout": "IPY_MODEL_4409ec67240d47d6bb85c5686d1fa11d",
       "style": "IPY_MODEL_51134f5e4cd24ddd8b864c03970263b3",
       "value": " 20/20 [01:46&lt;00:00,  5.48s/it]"
      }
     },
     "c609f364e82e4900ad2977660473c1ea": {
      "model_module": "@jupyter-widgets/base",
      "model_module_version": "2.0.0",
      "model_name": "LayoutModel",
      "state": {}
     },
     "c6e3da3f2b094e829f39f307d0ea8000": {
      "model_module": "@jupyter-widgets/controls",
      "model_module_version": "2.0.0",
      "model_name": "HTMLModel",
      "state": {
       "layout": "IPY_MODEL_971d4d7f40454310bd0decbbd82d4ca2",
       "style": "IPY_MODEL_3fa2642f2a3b4d6692bec130a47d7d75",
       "value": "100%"
      }
     },
     "c80d259418f64b71b498a20b69797a38": {
      "model_module": "@jupyter-widgets/controls",
      "model_module_version": "2.0.0",
      "model_name": "HTMLModel",
      "state": {
       "layout": "IPY_MODEL_93b4aa2c14a34901a17e087fadbcf5f3",
       "style": "IPY_MODEL_d086361f2e7140c587eff2b6ec8f311b",
       "value": " 20/20 [01:46&lt;00:00,  5.46s/it]"
      }
     },
     "c872e214e195413396a22b812d8b6891": {
      "model_module": "@jupyter-widgets/controls",
      "model_module_version": "2.0.0",
      "model_name": "HTMLModel",
      "state": {
       "layout": "IPY_MODEL_e3dfa3e80cff4cc5a6a2149e98b0124a",
       "style": "IPY_MODEL_948a7885088f4ac98652859957d159bc",
       "value": " 20/20 [01:46&lt;00:00,  5.43s/it]"
      }
     },
     "c9a3816e77974284b1847ef0784c9ad8": {
      "model_module": "@jupyter-widgets/controls",
      "model_module_version": "2.0.0",
      "model_name": "HTMLStyleModel",
      "state": {
       "description_width": "",
       "font_size": null,
       "text_color": null
      }
     },
     "ca1653b603e043c88763f4ebe2a4756e": {
      "model_module": "@jupyter-widgets/base",
      "model_module_version": "2.0.0",
      "model_name": "LayoutModel",
      "state": {}
     },
     "cb120004313c42fcb0abe66c087f04f5": {
      "model_module": "@jupyter-widgets/controls",
      "model_module_version": "2.0.0",
      "model_name": "HTMLModel",
      "state": {
       "layout": "IPY_MODEL_13b20f2702c24724a84cc67ae8593a51",
       "style": "IPY_MODEL_22617d875c234722a94a3d6bafbe01d3",
       "value": "100%"
      }
     },
     "ccaa8fa516e4417e8384a533abe0ab15": {
      "model_module": "@jupyter-widgets/controls",
      "model_module_version": "2.0.0",
      "model_name": "HTMLModel",
      "state": {
       "layout": "IPY_MODEL_fd71af3ef8794eb2bca6001df6cdb78f",
       "style": "IPY_MODEL_297d4d02b49a45e7ba92f5bf18b7de9d",
       "value": "100%"
      }
     },
     "ccb8e2ddeb964b7ca2b797a95021a5a7": {
      "model_module": "@jupyter-widgets/controls",
      "model_module_version": "2.0.0",
      "model_name": "ProgressStyleModel",
      "state": {
       "description_width": ""
      }
     },
     "ce2af63345054ee0931ffa42e4bc2007": {
      "model_module": "@jupyter-widgets/base",
      "model_module_version": "2.0.0",
      "model_name": "LayoutModel",
      "state": {}
     },
     "d086361f2e7140c587eff2b6ec8f311b": {
      "model_module": "@jupyter-widgets/controls",
      "model_module_version": "2.0.0",
      "model_name": "HTMLStyleModel",
      "state": {
       "description_width": "",
       "font_size": null,
       "text_color": null
      }
     },
     "d251e3c9d1b94ea9b20ed1704aac6960": {
      "model_module": "@jupyter-widgets/controls",
      "model_module_version": "2.0.0",
      "model_name": "HTMLModel",
      "state": {
       "layout": "IPY_MODEL_e7bbe6e07b674c6887fbfd4084cdf555",
       "style": "IPY_MODEL_8c6831b4943942a5af0bd9979432aeb1",
       "value": " 20/20 [01:46&lt;00:00,  5.46s/it]"
      }
     },
     "d4675b519af043d480107ed72efb23a1": {
      "model_module": "@jupyter-widgets/controls",
      "model_module_version": "2.0.0",
      "model_name": "ProgressStyleModel",
      "state": {
       "description_width": ""
      }
     },
     "d492cde188e449c58b60e76cd4b78b7a": {
      "model_module": "@jupyter-widgets/base",
      "model_module_version": "2.0.0",
      "model_name": "LayoutModel",
      "state": {}
     },
     "d49cc96a5eb2482eb1b6886a27662fc2": {
      "model_module": "@jupyter-widgets/base",
      "model_module_version": "2.0.0",
      "model_name": "LayoutModel",
      "state": {}
     },
     "d4dda693ef7842f7a87e2ffbbc9986db": {
      "model_module": "@jupyter-widgets/controls",
      "model_module_version": "2.0.0",
      "model_name": "HTMLModel",
      "state": {
       "layout": "IPY_MODEL_c147f1d9b0d64a76bb26f5e896cce41d",
       "style": "IPY_MODEL_51a8dbcef0cc4bc88d3ce8d56903f50a",
       "value": "Loading pipeline components...: 100%"
      }
     },
     "d514938f374249e988a841c76cfe63e3": {
      "model_module": "@jupyter-widgets/controls",
      "model_module_version": "2.0.0",
      "model_name": "HTMLModel",
      "state": {
       "layout": "IPY_MODEL_ca1653b603e043c88763f4ebe2a4756e",
       "style": "IPY_MODEL_a9cae0e5f5b7428f9566e774d4049c14",
       "value": " 20/20 [01:46&lt;00:00,  5.44s/it]"
      }
     },
     "d59238acd9074ead90b95997c25aa1a8": {
      "model_module": "@jupyter-widgets/base",
      "model_module_version": "2.0.0",
      "model_name": "LayoutModel",
      "state": {}
     },
     "d6638c51057c4ba1b8a382cf6a342eee": {
      "model_module": "@jupyter-widgets/controls",
      "model_module_version": "2.0.0",
      "model_name": "HTMLStyleModel",
      "state": {
       "description_width": "",
       "font_size": null,
       "text_color": null
      }
     },
     "d6ef4cfb41a5421792c7fd22e6391aff": {
      "model_module": "@jupyter-widgets/controls",
      "model_module_version": "2.0.0",
      "model_name": "HTMLStyleModel",
      "state": {
       "description_width": "",
       "font_size": null,
       "text_color": null
      }
     },
     "d82f447921e740adab25638827463f8c": {
      "model_module": "@jupyter-widgets/base",
      "model_module_version": "2.0.0",
      "model_name": "LayoutModel",
      "state": {}
     },
     "d84f1419459d412da31716ced5666077": {
      "model_module": "@jupyter-widgets/controls",
      "model_module_version": "2.0.0",
      "model_name": "ProgressStyleModel",
      "state": {
       "description_width": ""
      }
     },
     "d8bfc898a1614214bc1bb6ceb71e478a": {
      "model_module": "@jupyter-widgets/controls",
      "model_module_version": "2.0.0",
      "model_name": "HBoxModel",
      "state": {
       "children": [
        "IPY_MODEL_c6e3da3f2b094e829f39f307d0ea8000",
        "IPY_MODEL_84ece4eab2de46068a9e0e7eb159dc8a",
        "IPY_MODEL_7bfbf47f9207452eaf477009ed3d56b7"
       ],
       "layout": "IPY_MODEL_73bd546900da4d3680fe174be761f1ce"
      }
     },
     "dc4bc48ba54042fda54b1d503c602297": {
      "model_module": "@jupyter-widgets/controls",
      "model_module_version": "2.0.0",
      "model_name": "HBoxModel",
      "state": {
       "children": [
        "IPY_MODEL_30d185065f984fdebdecfe699518ca9e",
        "IPY_MODEL_9b438c32c2a548c8ae71f29e4b5cb90d",
        "IPY_MODEL_6f9ae3c320b9490abedacce4129f0d21"
       ],
       "layout": "IPY_MODEL_21b43025defb446da861c13387dc2101"
      }
     },
     "dfea1b9d4e674d359a25f193b63e5215": {
      "model_module": "@jupyter-widgets/controls",
      "model_module_version": "2.0.0",
      "model_name": "HTMLStyleModel",
      "state": {
       "description_width": "",
       "font_size": null,
       "text_color": null
      }
     },
     "e3dfa3e80cff4cc5a6a2149e98b0124a": {
      "model_module": "@jupyter-widgets/base",
      "model_module_version": "2.0.0",
      "model_name": "LayoutModel",
      "state": {}
     },
     "e43e97b6ef304624b212f9f7ff97e661": {
      "model_module": "@jupyter-widgets/base",
      "model_module_version": "2.0.0",
      "model_name": "LayoutModel",
      "state": {}
     },
     "e577248d1f5b48fba2fd19ab5c7ed5e8": {
      "model_module": "@jupyter-widgets/base",
      "model_module_version": "2.0.0",
      "model_name": "LayoutModel",
      "state": {}
     },
     "e660802a420a474faadd490b1850dc90": {
      "model_module": "@jupyter-widgets/controls",
      "model_module_version": "2.0.0",
      "model_name": "FloatProgressModel",
      "state": {
       "bar_style": "success",
       "layout": "IPY_MODEL_9fc0b97a32e947a99e520e6ddc626c91",
       "max": 20,
       "style": "IPY_MODEL_aa537de11db148bb8c71b3dfb19d91ff",
       "value": 20
      }
     },
     "e669b37cba2843429aad28835d3dc4cf": {
      "model_module": "@jupyter-widgets/controls",
      "model_module_version": "2.0.0",
      "model_name": "FloatProgressModel",
      "state": {
       "bar_style": "success",
       "layout": "IPY_MODEL_879bcb52ec9b4820ad82d76e8819fdfd",
       "max": 20,
       "style": "IPY_MODEL_0ed0a16f9545467d9b042b9f7b483670",
       "value": 20
      }
     },
     "e7bbe6e07b674c6887fbfd4084cdf555": {
      "model_module": "@jupyter-widgets/base",
      "model_module_version": "2.0.0",
      "model_name": "LayoutModel",
      "state": {}
     },
     "e81a48f3718742928746cffee8509b1d": {
      "model_module": "@jupyter-widgets/controls",
      "model_module_version": "2.0.0",
      "model_name": "HTMLModel",
      "state": {
       "layout": "IPY_MODEL_e577248d1f5b48fba2fd19ab5c7ed5e8",
       "style": "IPY_MODEL_0df509389e8d4de88e2ebae3be07134d",
       "value": " 50/50 [04:25&lt;00:00,  5.38s/it]"
      }
     },
     "e972cc503d2946d38b082e421c110aae": {
      "model_module": "@jupyter-widgets/controls",
      "model_module_version": "2.0.0",
      "model_name": "HBoxModel",
      "state": {
       "children": [
        "IPY_MODEL_3af56b834c7347ba9de3dd737916f671",
        "IPY_MODEL_ad0d48e9ea824f86b622866c8f1c6464",
        "IPY_MODEL_38f752061ac34c57a4bca01d673cade8"
       ],
       "layout": "IPY_MODEL_d59238acd9074ead90b95997c25aa1a8"
      }
     },
     "e9c5f822e2de4c08aa420bf28cda3fa0": {
      "model_module": "@jupyter-widgets/controls",
      "model_module_version": "2.0.0",
      "model_name": "HTMLStyleModel",
      "state": {
       "description_width": "",
       "font_size": null,
       "text_color": null
      }
     },
     "ea625c9b5d264a69a034b7d85f6f0098": {
      "model_module": "@jupyter-widgets/controls",
      "model_module_version": "2.0.0",
      "model_name": "HTMLModel",
      "state": {
       "layout": "IPY_MODEL_f614d2f968c44092991f6d3455a9fb79",
       "style": "IPY_MODEL_9777d2f60f3643848ced0f053fa03f80",
       "value": "100%"
      }
     },
     "eb1c68a8a88841acbba87a7452bb8912": {
      "model_module": "@jupyter-widgets/controls",
      "model_module_version": "2.0.0",
      "model_name": "HTMLModel",
      "state": {
       "layout": "IPY_MODEL_e43e97b6ef304624b212f9f7ff97e661",
       "style": "IPY_MODEL_706867a0a952416fb68270799e6851fa",
       "value": " 7/7 [00:09&lt;00:00,  1.50s/it]"
      }
     },
     "ec3645c0007b4acab38a64c4331c21ce": {
      "model_module": "@jupyter-widgets/controls",
      "model_module_version": "2.0.0",
      "model_name": "HTMLModel",
      "state": {
       "layout": "IPY_MODEL_96c2f885b22248b9ae279ce174b50087",
       "style": "IPY_MODEL_451fc5fa719c466a8a6ec6c5195341fd",
       "value": " 20/20 [01:45&lt;00:00,  5.45s/it]"
      }
     },
     "ef62526684ec4df8811ed8bf0096903a": {
      "model_module": "@jupyter-widgets/base",
      "model_module_version": "2.0.0",
      "model_name": "LayoutModel",
      "state": {}
     },
     "ef650fca66f2429e9e693143c525e6c6": {
      "model_module": "@jupyter-widgets/controls",
      "model_module_version": "2.0.0",
      "model_name": "ProgressStyleModel",
      "state": {
       "description_width": ""
      }
     },
     "f095731455594007992fc7b8a2dac7cb": {
      "model_module": "@jupyter-widgets/base",
      "model_module_version": "2.0.0",
      "model_name": "LayoutModel",
      "state": {}
     },
     "f0c0a78162eb498793034f921115c6cc": {
      "model_module": "@jupyter-widgets/controls",
      "model_module_version": "2.0.0",
      "model_name": "HTMLModel",
      "state": {
       "layout": "IPY_MODEL_58ceb3ca55d940e39c4c92c5c4b0111b",
       "style": "IPY_MODEL_309bb2527fe34bbf87104878e93d0fca",
       "value": "100%"
      }
     },
     "f26bfd8915c4413895b4db73a4c23692": {
      "model_module": "@jupyter-widgets/controls",
      "model_module_version": "2.0.0",
      "model_name": "ProgressStyleModel",
      "state": {
       "description_width": ""
      }
     },
     "f2b876845a354fcba57a637f2ad3b89b": {
      "model_module": "@jupyter-widgets/base",
      "model_module_version": "2.0.0",
      "model_name": "LayoutModel",
      "state": {}
     },
     "f2ee9ff3baff4ab7aff36753f5d3cc13": {
      "model_module": "@jupyter-widgets/controls",
      "model_module_version": "2.0.0",
      "model_name": "HTMLStyleModel",
      "state": {
       "description_width": "",
       "font_size": null,
       "text_color": null
      }
     },
     "f614d2f968c44092991f6d3455a9fb79": {
      "model_module": "@jupyter-widgets/base",
      "model_module_version": "2.0.0",
      "model_name": "LayoutModel",
      "state": {}
     },
     "f654434b29be400693e7aa95ba519755": {
      "model_module": "@jupyter-widgets/base",
      "model_module_version": "2.0.0",
      "model_name": "LayoutModel",
      "state": {}
     },
     "f77b4c9edd33454c92969cc6f92e66dd": {
      "model_module": "@jupyter-widgets/base",
      "model_module_version": "2.0.0",
      "model_name": "LayoutModel",
      "state": {}
     },
     "f7810e4d27a547e8a717434b99152bb8": {
      "model_module": "@jupyter-widgets/controls",
      "model_module_version": "2.0.0",
      "model_name": "HBoxModel",
      "state": {
       "children": [
        "IPY_MODEL_bccfe6f11dea4728b01a6ef1bb939738",
        "IPY_MODEL_9a01efaa296d4531b999aea275961ed9",
        "IPY_MODEL_6262020bdbda478787e6a0773bb46654"
       ],
       "layout": "IPY_MODEL_f095731455594007992fc7b8a2dac7cb"
      }
     },
     "f94cef2d3a354dfba95fe8b4dd237202": {
      "model_module": "@jupyter-widgets/controls",
      "model_module_version": "2.0.0",
      "model_name": "FloatProgressModel",
      "state": {
       "bar_style": "success",
       "layout": "IPY_MODEL_13d60f0b034f456d94c0d0f5ba944e60",
       "max": 20,
       "style": "IPY_MODEL_02f25625e160468cb235b214b5f1ce0f",
       "value": 20
      }
     },
     "f9d640d6bc7c494bacaa36a2435538d3": {
      "model_module": "@jupyter-widgets/controls",
      "model_module_version": "2.0.0",
      "model_name": "HTMLModel",
      "state": {
       "layout": "IPY_MODEL_7f242d9477864cc18a3592cebb36c577",
       "style": "IPY_MODEL_d6638c51057c4ba1b8a382cf6a342eee",
       "value": "100%"
      }
     },
     "fb5f9371da6b4e5e89c8df67241f3fae": {
      "model_module": "@jupyter-widgets/controls",
      "model_module_version": "2.0.0",
      "model_name": "HTMLStyleModel",
      "state": {
       "description_width": "",
       "font_size": null,
       "text_color": null
      }
     },
     "fcfb1627bb354fa68d6420b20ba5371e": {
      "model_module": "@jupyter-widgets/base",
      "model_module_version": "2.0.0",
      "model_name": "LayoutModel",
      "state": {}
     },
     "fd71af3ef8794eb2bca6001df6cdb78f": {
      "model_module": "@jupyter-widgets/base",
      "model_module_version": "2.0.0",
      "model_name": "LayoutModel",
      "state": {}
     },
     "fdc3707f8ded42008f0ab2ec02bbf979": {
      "model_module": "@jupyter-widgets/controls",
      "model_module_version": "2.0.0",
      "model_name": "HTMLModel",
      "state": {
       "layout": "IPY_MODEL_a2c5fd5e2c484e4188a48dd8a8be19a9",
       "style": "IPY_MODEL_be32b19533fd4a5591d85f090e989fe7",
       "value": "100%"
      }
     },
     "fe321db3ef314293a5d803144ed64fa3": {
      "model_module": "@jupyter-widgets/controls",
      "model_module_version": "2.0.0",
      "model_name": "HTMLModel",
      "state": {
       "layout": "IPY_MODEL_1ff2060c22ee469bbdd6501473488c7a",
       "style": "IPY_MODEL_75661e24dd69401b81594ea6dbfca218",
       "value": "100%"
      }
     }
    },
    "version_major": 2,
    "version_minor": 0
   }
  }
 },
 "nbformat": 4,
 "nbformat_minor": 5
}
