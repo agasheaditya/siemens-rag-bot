{
 "cells": [
  {
   "cell_type": "code",
   "execution_count": 1,
   "id": "dad70ad7-2272-4679-991a-c6cd648b83da",
   "metadata": {},
   "outputs": [],
   "source": [
    "import sys\n",
    "sys.path.append(\"D:/Python/siemens-rag-bot/siemens-energy/\")"
   ]
  },
  {
   "cell_type": "code",
   "execution_count": 2,
   "id": "09416ec5-34de-47c1-b1fc-e4d9148e7695",
   "metadata": {},
   "outputs": [],
   "source": [
    "import os, re\n",
    "import torch\n",
    "import shutil\n",
    "import random\n",
    "import pandas as pd\n",
    "from PIL import Image\n",
    "from pathlib import Path\n",
    "from itertools import islice\n",
    "from torchvision import transforms as T\n",
    "from torch.utils.data import Dataset, DataLoader\n",
    "from datasets import load_dataset\n",
    "from collections import defaultdict\n",
    "from diffusers import StableDiffusionPipeline\n",
    "from huggingface_hub import hf_hub_download\n",
    "\n",
    "import matplotlib.pyplot as plt\n",
    "\n",
    "%matplotlib inline"
   ]
  },
  {
   "cell_type": "code",
   "execution_count": 3,
   "id": "856db4c0-bef3-42a1-b21a-af413be3aeb5",
   "metadata": {},
   "outputs": [
    {
     "name": "stdout",
     "output_type": "stream",
     "text": [
      "df.shape=(917, 3)\n",
      "bottle_df.shape=(63, 3)\n"
     ]
    },
    {
     "name": "stderr",
     "output_type": "stream",
     "text": [
      "D:\\Python\\siemens-rag-bot\\env\\lib\\site-packages\\openpyxl\\worksheet\\header_footer.py:48: UserWarning: Cannot parse header or footer so it will be ignored\n",
      "  warn(\"\"\"Cannot parse header or footer so it will be ignored\"\"\")\n"
     ]
    }
   ],
   "source": [
    "excel_path = '../dataset/captions.xlsx'  # change this\n",
    "df = pd.read_excel(excel_path)\n",
    "print(f\"{df.shape=}\")\n",
    "\n",
    "bottle_df = df[df['Path'].str.contains('bottle')]\n",
    "print(f\"{bottle_df.shape=}\")"
   ]
  },
  {
   "cell_type": "code",
   "execution_count": 4,
   "id": "007cf7ca-d6b7-490f-9d6b-d396c5d1b811",
   "metadata": {},
   "outputs": [
    {
     "data": {
      "text/html": [
       "<div>\n",
       "<style scoped>\n",
       "    .dataframe tbody tr th:only-of-type {\n",
       "        vertical-align: middle;\n",
       "    }\n",
       "\n",
       "    .dataframe tbody tr th {\n",
       "        vertical-align: top;\n",
       "    }\n",
       "\n",
       "    .dataframe thead th {\n",
       "        text-align: right;\n",
       "    }\n",
       "</style>\n",
       "<table border=\"1\" class=\"dataframe\">\n",
       "  <thead>\n",
       "    <tr style=\"text-align: right;\">\n",
       "      <th></th>\n",
       "      <th>Path</th>\n",
       "      <th>object description</th>\n",
       "      <th>defect description</th>\n",
       "    </tr>\n",
       "  </thead>\n",
       "  <tbody>\n",
       "    <tr>\n",
       "      <th>373</th>\n",
       "      <td>bottle/broken_large/000.png</td>\n",
       "      <td>The image shows a top-down view of a bottle, l...</td>\n",
       "      <td>The bottom right corner has a large breakage d...</td>\n",
       "    </tr>\n",
       "    <tr>\n",
       "      <th>374</th>\n",
       "      <td>bottle/broken_large/001.png</td>\n",
       "      <td>The image shows a top-down view of a bottle, l...</td>\n",
       "      <td>The lower half has a large breakage defect, sh...</td>\n",
       "    </tr>\n",
       "    <tr>\n",
       "      <th>375</th>\n",
       "      <td>bottle/broken_large/002.png</td>\n",
       "      <td>The image shows a top-down view of a bottle, l...</td>\n",
       "      <td>The upper half has a large breakage defect, sh...</td>\n",
       "    </tr>\n",
       "    <tr>\n",
       "      <th>376</th>\n",
       "      <td>bottle/broken_large/003.png</td>\n",
       "      <td>The image shows a top-down view of a bottle, l...</td>\n",
       "      <td>The left half has a large breakage defect, sha...</td>\n",
       "    </tr>\n",
       "    <tr>\n",
       "      <th>377</th>\n",
       "      <td>bottle/broken_large/004.png</td>\n",
       "      <td>The image shows a top-down view of a bottle, l...</td>\n",
       "      <td>The upper left corner has a small breakage def...</td>\n",
       "    </tr>\n",
       "    <tr>\n",
       "      <th>...</th>\n",
       "      <td>...</td>\n",
       "      <td>...</td>\n",
       "      <td>...</td>\n",
       "    </tr>\n",
       "    <tr>\n",
       "      <th>431</th>\n",
       "      <td>bottle/contamination/016.png</td>\n",
       "      <td>The image shows a top-down view of a bottle, l...</td>\n",
       "      <td>Inside the bottle, there is a larger circular ...</td>\n",
       "    </tr>\n",
       "    <tr>\n",
       "      <th>432</th>\n",
       "      <td>bottle/contamination/017.png</td>\n",
       "      <td>The image shows a top-down view of a bottle, l...</td>\n",
       "      <td>Extending to the upper left inside the bottle,...</td>\n",
       "    </tr>\n",
       "    <tr>\n",
       "      <th>433</th>\n",
       "      <td>bottle/contamination/018.png</td>\n",
       "      <td>The image shows a top-down view of a bottle, l...</td>\n",
       "      <td>Extending to the upper right inside the bottle...</td>\n",
       "    </tr>\n",
       "    <tr>\n",
       "      <th>434</th>\n",
       "      <td>bottle/contamination/019.png</td>\n",
       "      <td>The image shows a top-down view of a bottle, l...</td>\n",
       "      <td>The lower right corner has a large breakage de...</td>\n",
       "    </tr>\n",
       "    <tr>\n",
       "      <th>435</th>\n",
       "      <td>bottle/contamination/020.png</td>\n",
       "      <td>The image shows a top-down view of a bottle, l...</td>\n",
       "      <td>Inside the bottle, there is a larger circular ...</td>\n",
       "    </tr>\n",
       "  </tbody>\n",
       "</table>\n",
       "<p>63 rows × 3 columns</p>\n",
       "</div>"
      ],
      "text/plain": [
       "                             Path  \\\n",
       "373   bottle/broken_large/000.png   \n",
       "374   bottle/broken_large/001.png   \n",
       "375   bottle/broken_large/002.png   \n",
       "376   bottle/broken_large/003.png   \n",
       "377   bottle/broken_large/004.png   \n",
       "..                            ...   \n",
       "431  bottle/contamination/016.png   \n",
       "432  bottle/contamination/017.png   \n",
       "433  bottle/contamination/018.png   \n",
       "434  bottle/contamination/019.png   \n",
       "435  bottle/contamination/020.png   \n",
       "\n",
       "                                    object description  \\\n",
       "373  The image shows a top-down view of a bottle, l...   \n",
       "374  The image shows a top-down view of a bottle, l...   \n",
       "375  The image shows a top-down view of a bottle, l...   \n",
       "376  The image shows a top-down view of a bottle, l...   \n",
       "377  The image shows a top-down view of a bottle, l...   \n",
       "..                                                 ...   \n",
       "431  The image shows a top-down view of a bottle, l...   \n",
       "432  The image shows a top-down view of a bottle, l...   \n",
       "433  The image shows a top-down view of a bottle, l...   \n",
       "434  The image shows a top-down view of a bottle, l...   \n",
       "435  The image shows a top-down view of a bottle, l...   \n",
       "\n",
       "                                    defect description  \n",
       "373  The bottom right corner has a large breakage d...  \n",
       "374  The lower half has a large breakage defect, sh...  \n",
       "375  The upper half has a large breakage defect, sh...  \n",
       "376  The left half has a large breakage defect, sha...  \n",
       "377  The upper left corner has a small breakage def...  \n",
       "..                                                 ...  \n",
       "431  Inside the bottle, there is a larger circular ...  \n",
       "432  Extending to the upper left inside the bottle,...  \n",
       "433  Extending to the upper right inside the bottle...  \n",
       "434  The lower right corner has a large breakage de...  \n",
       "435  Inside the bottle, there is a larger circular ...  \n",
       "\n",
       "[63 rows x 3 columns]"
      ]
     },
     "execution_count": 4,
     "metadata": {},
     "output_type": "execute_result"
    }
   ],
   "source": [
    "bottle_df"
   ]
  },
  {
   "cell_type": "code",
   "execution_count": 5,
   "id": "fb8c45ed-29fe-4699-8e95-de35a5c19da1",
   "metadata": {},
   "outputs": [],
   "source": [
    "# ### !!! Note: This code is one time run only when copied the data from main data folder to dataset folder for respective class \n",
    "\n",
    "# path = '../dataset/bottle/image/'\n",
    "# folders = os.listdir(path)\n",
    "# print(folders)\n",
    "\n",
    "# #for index, file in enumerate(files):\n",
    "# #    os.rename(os.path.join(path, file), os.path.join(path, ''.join([str('raw_')+str(index), '.jpg'])))\n",
    "\n",
    "# for i in folders:\n",
    "#     new_path = path+i\n",
    "#     files = os.listdir(new_path)\n",
    "#     for index, file in enumerate(files):\n",
    "#         fname = file.split(\".\")[0]\n",
    "#         row = bottle_df.loc[bottle_df[\"Path\"] == \"bottle/\" + i + \"/\" + file].values\n",
    "#         if len(row)>0:\n",
    "#             caption = row[0][1] + \" \" + row[0][2]\n",
    "#             caption_path = os.path.join(new_path, ''.join([i+\"-\"+str(fname), '.txt']))\n",
    "#             with open(caption_path, 'w') as f:\n",
    "#                 f.write(caption)\n",
    "#             os.rename(os.path.join(new_path, file), os.path.join(new_path, ''.join([i+\"-\"+str(fname), '.png'])))\n",
    "#         else:\n",
    "#             os.rename(os.path.join(new_path, file), os.path.join(new_path, ''.join([i+\"-\"+str(fname), '.png'])))"
   ]
  },
  {
   "cell_type": "code",
   "execution_count": 24,
   "id": "3cdb17c2-72c3-466f-b301-9b14c0b859c0",
   "metadata": {},
   "outputs": [
    {
     "name": "stdout",
     "output_type": "stream",
     "text": [
      "torch.Size([4, 3, 512, 512])\n",
      "[\"The image shows a top-down view of a bottle, looking from the bottle's neck towards the bottom, with a white background. The left half has a large breakage defect, shaped like half a ring, in black color.\", \"The image shows a top-down view of a bottle, looking from the bottle's neck towards the bottom, with a white background. The left half has a large breakage defect, shaped like half a ring, in black color.\", \"The image shows a top-down view of a bottle, looking from the bottle's neck towards the bottom, with a white background. The upper right corner has a large breakage defect, shaped like a quarter of a ring, in black color.\", \"The image shows a top-down view of a bottle, looking from the bottle's neck towards the bottom, with a white background. Extending to the upper left inside the bottle, there is a large irregularly shaped black fabric contaminant.\"]\n"
     ]
    }
   ],
   "source": [
    "from scripts.dataset import BottleDataset\n",
    "\n",
    "dataset = BottleDataset(root_dir=\"../dataset/bottle/image/\", image_size=512)\n",
    "loader = DataLoader(dataset, batch_size=4, shuffle=True)\n",
    "\n",
    "sample = next(iter(loader))\n",
    "print(sample['pixel_values'].shape)  # torch.Size([4, 3, 512, 512])\n",
    "print(sample['text'])                # 4 captions"
   ]
  },
  {
   "cell_type": "code",
   "execution_count": null,
   "id": "5c913c73-bc9e-4e17-bdf6-67bb8902f6ce",
   "metadata": {},
   "outputs": [],
   "source": []
  }
 ],
 "metadata": {
  "kernelspec": {
   "display_name": "Python 3 (ipykernel)",
   "language": "python",
   "name": "python3"
  },
  "language_info": {
   "codemirror_mode": {
    "name": "ipython",
    "version": 3
   },
   "file_extension": ".py",
   "mimetype": "text/x-python",
   "name": "python",
   "nbconvert_exporter": "python",
   "pygments_lexer": "ipython3",
   "version": "3.10.7"
  },
  "widgets": {
   "application/vnd.jupyter.widget-state+json": {
    "state": {},
    "version_major": 2,
    "version_minor": 0
   }
  }
 },
 "nbformat": 4,
 "nbformat_minor": 5
}
