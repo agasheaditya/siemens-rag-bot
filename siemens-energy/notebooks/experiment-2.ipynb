{
 "cells": [
  {
   "cell_type": "code",
   "execution_count": 1,
   "id": "dad70ad7-2272-4679-991a-c6cd648b83da",
   "metadata": {},
   "outputs": [],
   "source": [
    "import sys\n",
    "sys.path.append(\"D:/Python/siemens-rag-bot/siemens-energy/\")"
   ]
  },
  {
   "cell_type": "code",
   "execution_count": 2,
   "id": "09416ec5-34de-47c1-b1fc-e4d9148e7695",
   "metadata": {},
   "outputs": [],
   "source": [
    "import os, re\n",
    "import torch\n",
    "import shutil\n",
    "import random\n",
    "import pandas as pd\n",
    "from PIL import Image\n",
    "from pathlib import Path\n",
    "from itertools import islice\n",
    "from torchvision import transforms as T\n",
    "from torch.utils.data import Dataset, DataLoader\n",
    "from datasets import load_dataset\n",
    "from collections import defaultdict\n",
    "from diffusers import StableDiffusionPipeline\n",
    "from huggingface_hub import hf_hub_download\n",
    "\n",
    "import matplotlib.pyplot as plt\n",
    "\n",
    "%matplotlib inline"
   ]
  },
  {
   "cell_type": "code",
   "execution_count": 3,
   "id": "856db4c0-bef3-42a1-b21a-af413be3aeb5",
   "metadata": {},
   "outputs": [
    {
     "name": "stdout",
     "output_type": "stream",
     "text": [
      "df.shape=(917, 3)\n",
      "bottle_df.shape=(63, 3)\n"
     ]
    },
    {
     "name": "stderr",
     "output_type": "stream",
     "text": [
      "D:\\Python\\siemens-rag-bot\\env\\lib\\site-packages\\openpyxl\\worksheet\\header_footer.py:48: UserWarning: Cannot parse header or footer so it will be ignored\n",
      "  warn(\"\"\"Cannot parse header or footer so it will be ignored\"\"\")\n"
     ]
    }
   ],
   "source": [
    "excel_path = '../dataset/captions.xlsx'  # change this\n",
    "df = pd.read_excel(excel_path)\n",
    "print(f\"{df.shape=}\")\n",
    "\n",
    "bottle_df = df[df['Path'].str.contains('bottle')]\n",
    "print(f\"{bottle_df.shape=}\")"
   ]
  },
  {
   "cell_type": "code",
   "execution_count": 4,
   "id": "007cf7ca-d6b7-490f-9d6b-d396c5d1b811",
   "metadata": {},
   "outputs": [
    {
     "data": {
      "text/html": [
       "<div>\n",
       "<style scoped>\n",
       "    .dataframe tbody tr th:only-of-type {\n",
       "        vertical-align: middle;\n",
       "    }\n",
       "\n",
       "    .dataframe tbody tr th {\n",
       "        vertical-align: top;\n",
       "    }\n",
       "\n",
       "    .dataframe thead th {\n",
       "        text-align: right;\n",
       "    }\n",
       "</style>\n",
       "<table border=\"1\" class=\"dataframe\">\n",
       "  <thead>\n",
       "    <tr style=\"text-align: right;\">\n",
       "      <th></th>\n",
       "      <th>Path</th>\n",
       "      <th>object description</th>\n",
       "      <th>defect description</th>\n",
       "    </tr>\n",
       "  </thead>\n",
       "  <tbody>\n",
       "    <tr>\n",
       "      <th>373</th>\n",
       "      <td>bottle/broken_large/000.png</td>\n",
       "      <td>The image shows a top-down view of a bottle, l...</td>\n",
       "      <td>The bottom right corner has a large breakage d...</td>\n",
       "    </tr>\n",
       "    <tr>\n",
       "      <th>374</th>\n",
       "      <td>bottle/broken_large/001.png</td>\n",
       "      <td>The image shows a top-down view of a bottle, l...</td>\n",
       "      <td>The lower half has a large breakage defect, sh...</td>\n",
       "    </tr>\n",
       "    <tr>\n",
       "      <th>375</th>\n",
       "      <td>bottle/broken_large/002.png</td>\n",
       "      <td>The image shows a top-down view of a bottle, l...</td>\n",
       "      <td>The upper half has a large breakage defect, sh...</td>\n",
       "    </tr>\n",
       "    <tr>\n",
       "      <th>376</th>\n",
       "      <td>bottle/broken_large/003.png</td>\n",
       "      <td>The image shows a top-down view of a bottle, l...</td>\n",
       "      <td>The left half has a large breakage defect, sha...</td>\n",
       "    </tr>\n",
       "    <tr>\n",
       "      <th>377</th>\n",
       "      <td>bottle/broken_large/004.png</td>\n",
       "      <td>The image shows a top-down view of a bottle, l...</td>\n",
       "      <td>The upper left corner has a small breakage def...</td>\n",
       "    </tr>\n",
       "    <tr>\n",
       "      <th>...</th>\n",
       "      <td>...</td>\n",
       "      <td>...</td>\n",
       "      <td>...</td>\n",
       "    </tr>\n",
       "    <tr>\n",
       "      <th>431</th>\n",
       "      <td>bottle/contamination/016.png</td>\n",
       "      <td>The image shows a top-down view of a bottle, l...</td>\n",
       "      <td>Inside the bottle, there is a larger circular ...</td>\n",
       "    </tr>\n",
       "    <tr>\n",
       "      <th>432</th>\n",
       "      <td>bottle/contamination/017.png</td>\n",
       "      <td>The image shows a top-down view of a bottle, l...</td>\n",
       "      <td>Extending to the upper left inside the bottle,...</td>\n",
       "    </tr>\n",
       "    <tr>\n",
       "      <th>433</th>\n",
       "      <td>bottle/contamination/018.png</td>\n",
       "      <td>The image shows a top-down view of a bottle, l...</td>\n",
       "      <td>Extending to the upper right inside the bottle...</td>\n",
       "    </tr>\n",
       "    <tr>\n",
       "      <th>434</th>\n",
       "      <td>bottle/contamination/019.png</td>\n",
       "      <td>The image shows a top-down view of a bottle, l...</td>\n",
       "      <td>The lower right corner has a large breakage de...</td>\n",
       "    </tr>\n",
       "    <tr>\n",
       "      <th>435</th>\n",
       "      <td>bottle/contamination/020.png</td>\n",
       "      <td>The image shows a top-down view of a bottle, l...</td>\n",
       "      <td>Inside the bottle, there is a larger circular ...</td>\n",
       "    </tr>\n",
       "  </tbody>\n",
       "</table>\n",
       "<p>63 rows × 3 columns</p>\n",
       "</div>"
      ],
      "text/plain": [
       "                             Path  \\\n",
       "373   bottle/broken_large/000.png   \n",
       "374   bottle/broken_large/001.png   \n",
       "375   bottle/broken_large/002.png   \n",
       "376   bottle/broken_large/003.png   \n",
       "377   bottle/broken_large/004.png   \n",
       "..                            ...   \n",
       "431  bottle/contamination/016.png   \n",
       "432  bottle/contamination/017.png   \n",
       "433  bottle/contamination/018.png   \n",
       "434  bottle/contamination/019.png   \n",
       "435  bottle/contamination/020.png   \n",
       "\n",
       "                                    object description  \\\n",
       "373  The image shows a top-down view of a bottle, l...   \n",
       "374  The image shows a top-down view of a bottle, l...   \n",
       "375  The image shows a top-down view of a bottle, l...   \n",
       "376  The image shows a top-down view of a bottle, l...   \n",
       "377  The image shows a top-down view of a bottle, l...   \n",
       "..                                                 ...   \n",
       "431  The image shows a top-down view of a bottle, l...   \n",
       "432  The image shows a top-down view of a bottle, l...   \n",
       "433  The image shows a top-down view of a bottle, l...   \n",
       "434  The image shows a top-down view of a bottle, l...   \n",
       "435  The image shows a top-down view of a bottle, l...   \n",
       "\n",
       "                                    defect description  \n",
       "373  The bottom right corner has a large breakage d...  \n",
       "374  The lower half has a large breakage defect, sh...  \n",
       "375  The upper half has a large breakage defect, sh...  \n",
       "376  The left half has a large breakage defect, sha...  \n",
       "377  The upper left corner has a small breakage def...  \n",
       "..                                                 ...  \n",
       "431  Inside the bottle, there is a larger circular ...  \n",
       "432  Extending to the upper left inside the bottle,...  \n",
       "433  Extending to the upper right inside the bottle...  \n",
       "434  The lower right corner has a large breakage de...  \n",
       "435  Inside the bottle, there is a larger circular ...  \n",
       "\n",
       "[63 rows x 3 columns]"
      ]
     },
     "execution_count": 4,
     "metadata": {},
     "output_type": "execute_result"
    }
   ],
   "source": [
    "bottle_df"
   ]
  },
  {
   "cell_type": "code",
   "execution_count": 5,
   "id": "fb8c45ed-29fe-4699-8e95-de35a5c19da1",
   "metadata": {},
   "outputs": [],
   "source": [
    "# ### !!! Note: This code is one time run only when copied the data from main data folder to dataset folder for respective class \n",
    "\n",
    "# path = '../dataset/bottle/image/'\n",
    "# folders = os.listdir(path)\n",
    "# print(folders)\n",
    "\n",
    "# #for index, file in enumerate(files):\n",
    "# #    os.rename(os.path.join(path, file), os.path.join(path, ''.join([str('raw_')+str(index), '.jpg'])))\n",
    "\n",
    "# for i in folders:\n",
    "#     new_path = path+i\n",
    "#     files = os.listdir(new_path)\n",
    "#     for index, file in enumerate(files):\n",
    "#         fname = file.split(\".\")[0]\n",
    "#         row = bottle_df.loc[bottle_df[\"Path\"] == \"bottle/\" + i + \"/\" + file].values\n",
    "#         if len(row)>0:\n",
    "#             caption = row[0][1] + \" \" + row[0][2]\n",
    "#             caption_path = os.path.join(new_path, ''.join([i+\"-\"+str(fname), '.txt']))\n",
    "#             with open(caption_path, 'w') as f:\n",
    "#                 f.write(caption)\n",
    "#             os.rename(os.path.join(new_path, file), os.path.join(new_path, ''.join([i+\"-\"+str(fname), '.png'])))\n",
    "#         else:\n",
    "#             os.rename(os.path.join(new_path, file), os.path.join(new_path, ''.join([i+\"-\"+str(fname), '.png'])))"
   ]
  },
  {
   "cell_type": "code",
   "execution_count": 24,
   "id": "3cdb17c2-72c3-466f-b301-9b14c0b859c0",
   "metadata": {},
   "outputs": [
    {
     "name": "stdout",
     "output_type": "stream",
     "text": [
      "torch.Size([4, 3, 512, 512])\n",
      "[\"The image shows a top-down view of a bottle, looking from the bottle's neck towards the bottom, with a white background. The left half has a large breakage defect, shaped like half a ring, in black color.\", \"The image shows a top-down view of a bottle, looking from the bottle's neck towards the bottom, with a white background. The left half has a large breakage defect, shaped like half a ring, in black color.\", \"The image shows a top-down view of a bottle, looking from the bottle's neck towards the bottom, with a white background. The upper right corner has a large breakage defect, shaped like a quarter of a ring, in black color.\", \"The image shows a top-down view of a bottle, looking from the bottle's neck towards the bottom, with a white background. Extending to the upper left inside the bottle, there is a large irregularly shaped black fabric contaminant.\"]\n"
     ]
    }
   ],
   "source": [
    "from scripts.dataset import BottleDataset\n",
    "\n",
    "dataset = BottleDataset(root_dir=\"../dataset/bottle/image/\", image_size=512)\n",
    "loader = DataLoader(dataset, batch_size=4, shuffle=True)\n",
    "\n",
    "sample = next(iter(loader))\n",
    "print(sample['pixel_values'].shape)  # torch.Size([4, 3, 512, 512])\n",
    "print(sample['text'])                # 4 captions"
   ]
  },
  {
   "cell_type": "markdown",
   "id": "965ad143-73bd-49d7-8ab2-e8d2d7f5d0f5",
   "metadata": {},
   "source": [
    "## Loading the model"
   ]
  },
  {
   "cell_type": "code",
   "execution_count": 25,
   "id": "848b6384-5c23-4801-bc5b-4c98f84e2518",
   "metadata": {},
   "outputs": [
    {
     "data": {
      "application/vnd.jupyter.widget-view+json": {
       "model_id": "459e4d7f5f7b42cda213d7d8d0ace83e",
       "version_major": 2,
       "version_minor": 0
      },
      "text/plain": [
       "model_index.json:   0%|          | 0.00/543 [00:00<?, ?B/s]"
      ]
     },
     "metadata": {},
     "output_type": "display_data"
    },
    {
     "name": "stderr",
     "output_type": "stream",
     "text": [
      "D:\\Python\\siemens-rag-bot\\env\\lib\\site-packages\\diffusers\\pipelines\\pipeline_loading_utils.py:285: FutureWarning: You are loading the variant fp16 from CompVis/stable-diffusion-v1-4 via `revision='fp16'`. This behavior is deprecated and will be removed in diffusers v1. One should use `variant='fp16'` instead. However, it appears that CompVis/stable-diffusion-v1-4 currently does not have the required variant filenames in the 'main' branch. \n",
      " The Diffusers team and community would be very grateful if you could open an issue: https://github.com/huggingface/diffusers/issues/new with the title 'CompVis/stable-diffusion-v1-4 is missing fp16 files' so that the correct variant file can be added.\n",
      "  warnings.warn(\n"
     ]
    },
    {
     "data": {
      "application/vnd.jupyter.widget-view+json": {
       "model_id": "da9f478dad5d4c41abdd918514d0b404",
       "version_major": 2,
       "version_minor": 0
      },
      "text/plain": [
       "Fetching 16 files:   0%|          | 0/16 [00:00<?, ?it/s]"
      ]
     },
     "metadata": {},
     "output_type": "display_data"
    },
    {
     "data": {
      "application/vnd.jupyter.widget-view+json": {
       "model_id": "344bb7e31b2c42d18d98fa900445e4f6",
       "version_major": 2,
       "version_minor": 0
      },
      "text/plain": [
       "pytorch_model.bin:   0%|          | 0.00/246M [00:00<?, ?B/s]"
      ]
     },
     "metadata": {},
     "output_type": "display_data"
    },
    {
     "data": {
      "application/vnd.jupyter.widget-view+json": {
       "model_id": "d42b603cf4f5405e890f062391227a33",
       "version_major": 2,
       "version_minor": 0
      },
      "text/plain": [
       "config.json:   0%|          | 0.00/4.63k [00:00<?, ?B/s]"
      ]
     },
     "metadata": {},
     "output_type": "display_data"
    },
    {
     "data": {
      "application/vnd.jupyter.widget-view+json": {
       "model_id": "15483e65320e4394be54e26a0ae2ddd6",
       "version_major": 2,
       "version_minor": 0
      },
      "text/plain": [
       "preprocessor_config.json:   0%|          | 0.00/342 [00:00<?, ?B/s]"
      ]
     },
     "metadata": {},
     "output_type": "display_data"
    },
    {
     "data": {
      "application/vnd.jupyter.widget-view+json": {
       "model_id": "d67e8c017959475abb97ffcde683acde",
       "version_major": 2,
       "version_minor": 0
      },
      "text/plain": [
       "scheduler_config.json:   0%|          | 0.00/307 [00:00<?, ?B/s]"
      ]
     },
     "metadata": {},
     "output_type": "display_data"
    },
    {
     "data": {
      "application/vnd.jupyter.widget-view+json": {
       "model_id": "51399fc5d73642c799ce62eb59477ee0",
       "version_major": 2,
       "version_minor": 0
      },
      "text/plain": [
       "pytorch_model.bin:   0%|          | 0.00/608M [00:00<?, ?B/s]"
      ]
     },
     "metadata": {},
     "output_type": "display_data"
    },
    {
     "data": {
      "application/vnd.jupyter.widget-view+json": {
       "model_id": "f78533bfa8cd433bb739cbbbb31d21a0",
       "version_major": 2,
       "version_minor": 0
      },
      "text/plain": [
       "scheduler_config-checkpoint.json:   0%|          | 0.00/209 [00:00<?, ?B/s]"
      ]
     },
     "metadata": {},
     "output_type": "display_data"
    },
    {
     "data": {
      "application/vnd.jupyter.widget-view+json": {
       "model_id": "a9189c08355843eba824381822db8713",
       "version_major": 2,
       "version_minor": 0
      },
      "text/plain": [
       "merges.txt:   0%|          | 0.00/525k [00:00<?, ?B/s]"
      ]
     },
     "metadata": {},
     "output_type": "display_data"
    },
    {
     "data": {
      "application/vnd.jupyter.widget-view+json": {
       "model_id": "dacc7edf47294391b5a33134484bb7ae",
       "version_major": 2,
       "version_minor": 0
      },
      "text/plain": [
       "config.json:   0%|          | 0.00/572 [00:00<?, ?B/s]"
      ]
     },
     "metadata": {},
     "output_type": "display_data"
    },
    {
     "data": {
      "application/vnd.jupyter.widget-view+json": {
       "model_id": "595149795cf0440c88ea3e48689a1025",
       "version_major": 2,
       "version_minor": 0
      },
      "text/plain": [
       "vocab.json:   0%|          | 0.00/1.06M [00:00<?, ?B/s]"
      ]
     },
     "metadata": {},
     "output_type": "display_data"
    },
    {
     "data": {
      "application/vnd.jupyter.widget-view+json": {
       "model_id": "116cabf1bdb2434d80b4dac9b0b7d282",
       "version_major": 2,
       "version_minor": 0
      },
      "text/plain": [
       "tokenizer_config.json:   0%|          | 0.00/788 [00:00<?, ?B/s]"
      ]
     },
     "metadata": {},
     "output_type": "display_data"
    },
    {
     "data": {
      "application/vnd.jupyter.widget-view+json": {
       "model_id": "d3e7357404174b94b908a86f8ca47bd7",
       "version_major": 2,
       "version_minor": 0
      },
      "text/plain": [
       "config.json:   0%|          | 0.00/772 [00:00<?, ?B/s]"
      ]
     },
     "metadata": {},
     "output_type": "display_data"
    },
    {
     "data": {
      "application/vnd.jupyter.widget-view+json": {
       "model_id": "34da5baeddb8424087b516ffe9c88169",
       "version_major": 2,
       "version_minor": 0
      },
      "text/plain": [
       "special_tokens_map.json:   0%|          | 0.00/472 [00:00<?, ?B/s]"
      ]
     },
     "metadata": {},
     "output_type": "display_data"
    },
    {
     "data": {
      "application/vnd.jupyter.widget-view+json": {
       "model_id": "5bbd27dceb114302a9a8a765d78b4298",
       "version_major": 2,
       "version_minor": 0
      },
      "text/plain": [
       "config.json:   0%|          | 0.00/550 [00:00<?, ?B/s]"
      ]
     },
     "metadata": {},
     "output_type": "display_data"
    },
    {
     "data": {
      "application/vnd.jupyter.widget-view+json": {
       "model_id": "941eadc057c74c10afc2e35ae889d722",
       "version_major": 2,
       "version_minor": 0
      },
      "text/plain": [
       "diffusion_pytorch_model.bin:   0%|          | 0.00/1.72G [00:00<?, ?B/s]"
      ]
     },
     "metadata": {},
     "output_type": "display_data"
    },
    {
     "data": {
      "application/vnd.jupyter.widget-view+json": {
       "model_id": "07a6242b4a5d42859634c8cef46ea350",
       "version_major": 2,
       "version_minor": 0
      },
      "text/plain": [
       "diffusion_pytorch_model.bin:   0%|          | 0.00/167M [00:00<?, ?B/s]"
      ]
     },
     "metadata": {},
     "output_type": "display_data"
    },
    {
     "name": "stderr",
     "output_type": "stream",
     "text": [
      "Keyword arguments {'use_auth_token': True} are not expected by StableDiffusionPipeline and will be ignored.\n"
     ]
    },
    {
     "data": {
      "application/vnd.jupyter.widget-view+json": {
       "model_id": "183ac629609640d4be0674c74ca779dc",
       "version_major": 2,
       "version_minor": 0
      },
      "text/plain": [
       "Loading pipeline components...:   0%|          | 0/7 [00:00<?, ?it/s]"
      ]
     },
     "metadata": {},
     "output_type": "display_data"
    },
    {
     "name": "stderr",
     "output_type": "stream",
     "text": [
      "An error occurred while trying to fetch C:\\Users\\adity\\.cache\\huggingface\\hub\\models--CompVis--stable-diffusion-v1-4\\snapshots\\2880f2ca379f41b0226444936bb7a6766a227587\\vae: Error no file named diffusion_pytorch_model.safetensors found in directory C:\\Users\\adity\\.cache\\huggingface\\hub\\models--CompVis--stable-diffusion-v1-4\\snapshots\\2880f2ca379f41b0226444936bb7a6766a227587\\vae.\n",
      "Defaulting to unsafe serialization. Pass `allow_pickle=False` to raise an error instead.\n",
      "An error occurred while trying to fetch C:\\Users\\adity\\.cache\\huggingface\\hub\\models--CompVis--stable-diffusion-v1-4\\snapshots\\2880f2ca379f41b0226444936bb7a6766a227587\\unet: Error no file named diffusion_pytorch_model.safetensors found in directory C:\\Users\\adity\\.cache\\huggingface\\hub\\models--CompVis--stable-diffusion-v1-4\\snapshots\\2880f2ca379f41b0226444936bb7a6766a227587\\unet.\n",
      "Defaulting to unsafe serialization. Pass `allow_pickle=False` to raise an error instead.\n",
      "D:\\Python\\siemens-rag-bot\\env\\lib\\site-packages\\transformers\\models\\clip\\feature_extraction_clip.py:28: FutureWarning: The class CLIPFeatureExtractor is deprecated and will be removed in version 5 of Transformers. Please use CLIPImageProcessor instead.\n",
      "  warnings.warn(\n"
     ]
    },
    {
     "name": "stdout",
     "output_type": "stream",
     "text": [
      "✅ Model Loaded Successfully!\n"
     ]
    }
   ],
   "source": [
    "model_id = \"CompVis/stable-diffusion-v1-4\"\n",
    "pipe = StableDiffusionPipeline.from_pretrained(model_id, torch_dtype=torch.float16, revision=\"fp16\", use_auth_token=True).to(\"cuda\")  # if private model\n",
    "\n",
    "print(\"Model Loaded Successfully!\")"
   ]
  },
  {
   "cell_type": "code",
   "execution_count": 27,
   "id": "ce033c1a-e010-49fd-8587-fa7744d9e706",
   "metadata": {},
   "outputs": [],
   "source": [
    "from peft import get_peft_model, LoraConfig #, TaskType\n",
    "from peft.utils.peft_types import TaskType"
   ]
  },
  {
   "cell_type": "code",
   "execution_count": null,
   "id": "50ae3ba6-2b9b-4a7a-976b-e632088db917",
   "metadata": {},
   "outputs": [],
   "source": [
    "lora_config = LoraConfig(\n",
    "    r=4,\n",
    "    lora_alpha=32,\n",
    "    target_modules=[\"to_k\", \"to_q\", \"to_v\", \"to_out\"],\n",
    "    lora_dropout=0.1,\n",
    "    bias=\"none\",\n",
    "    task_type=TaskType.\n",
    ")\n"
   ]
  },
  {
   "cell_type": "code",
   "execution_count": null,
   "id": "19946f8a-c4e2-4909-903d-5db4c29c6dfd",
   "metadata": {},
   "outputs": [],
   "source": []
  },
  {
   "cell_type": "code",
   "execution_count": null,
   "id": "5c913c73-bc9e-4e17-bdf6-67bb8902f6ce",
   "metadata": {},
   "outputs": [],
   "source": []
  },
  {
   "cell_type": "code",
   "execution_count": null,
   "id": "a9ccb8b1-f345-46b7-ac0b-7f17104e0d01",
   "metadata": {},
   "outputs": [],
   "source": []
  },
  {
   "cell_type": "code",
   "execution_count": null,
   "id": "8740c926-4934-4766-a62c-f68f627b5f1a",
   "metadata": {},
   "outputs": [],
   "source": []
  },
  {
   "cell_type": "code",
   "execution_count": null,
   "id": "0d8811c7-0de4-47d0-8a34-7f03ed51bed3",
   "metadata": {},
   "outputs": [],
   "source": []
  },
  {
   "cell_type": "code",
   "execution_count": null,
   "id": "04e08a69-26d4-42c3-9a6e-d5d60af15d4d",
   "metadata": {},
   "outputs": [],
   "source": []
  }
 ],
 "metadata": {
  "kernelspec": {
   "display_name": "Python 3 (ipykernel)",
   "language": "python",
   "name": "python3"
  },
  "language_info": {
   "codemirror_mode": {
    "name": "ipython",
    "version": 3
   },
   "file_extension": ".py",
   "mimetype": "text/x-python",
   "name": "python",
   "nbconvert_exporter": "python",
   "pygments_lexer": "ipython3",
   "version": "3.10.7"
  },
  "widgets": {
   "application/vnd.jupyter.widget-state+json": {
    "state": {
     "00f59306a2d842f6a9e2b804cdc5a955": {
      "model_module": "@jupyter-widgets/base",
      "model_module_version": "2.0.0",
      "model_name": "LayoutModel",
      "state": {}
     },
     "0152e1381ad1427285bda7603ac2f3c9": {
      "model_module": "@jupyter-widgets/controls",
      "model_module_version": "2.0.0",
      "model_name": "FloatProgressModel",
      "state": {
       "bar_style": "success",
       "layout": "IPY_MODEL_63de1d45354a475f814d81eebf70d8de",
       "max": 543,
       "style": "IPY_MODEL_772e7ca415264211b76bb8ca817dd988",
       "value": 543
      }
     },
     "0155e3762b4c4575981783b1eefc364e": {
      "model_module": "@jupyter-widgets/base",
      "model_module_version": "2.0.0",
      "model_name": "LayoutModel",
      "state": {}
     },
     "04221ac25be04daa91dc0b6f62b97781": {
      "model_module": "@jupyter-widgets/base",
      "model_module_version": "2.0.0",
      "model_name": "LayoutModel",
      "state": {}
     },
     "070c656ed0424542a83cacb1ee2e1121": {
      "model_module": "@jupyter-widgets/controls",
      "model_module_version": "2.0.0",
      "model_name": "HTMLStyleModel",
      "state": {
       "description_width": "",
       "font_size": null,
       "text_color": null
      }
     },
     "07a6242b4a5d42859634c8cef46ea350": {
      "model_module": "@jupyter-widgets/controls",
      "model_module_version": "2.0.0",
      "model_name": "HBoxModel",
      "state": {
       "children": [
        "IPY_MODEL_fe02145eb32a4d49953ebd28996827f8",
        "IPY_MODEL_b6705972ffda4c3e8aeb5b73e58e35de",
        "IPY_MODEL_383c234949374aa5bf7690552bffd56d"
       ],
       "layout": "IPY_MODEL_2fa1173b21b24f4bb9d31b78edbde86f"
      }
     },
     "088fe29e0cab4e118991cc5ab6b59c76": {
      "model_module": "@jupyter-widgets/controls",
      "model_module_version": "2.0.0",
      "model_name": "HTMLModel",
      "state": {
       "layout": "IPY_MODEL_7a8dd74a412a4769b1475d6f21b8f8e9",
       "style": "IPY_MODEL_a411a4884bb24700a1f8defc71526dde",
       "value": "config.json: 100%"
      }
     },
     "08c6f267ee0045ea8fcefa8a575ab1e1": {
      "model_module": "@jupyter-widgets/controls",
      "model_module_version": "2.0.0",
      "model_name": "ProgressStyleModel",
      "state": {
       "description_width": ""
      }
     },
     "0984df7c881e4cc68943faf88d27f0b9": {
      "model_module": "@jupyter-widgets/controls",
      "model_module_version": "2.0.0",
      "model_name": "ProgressStyleModel",
      "state": {
       "description_width": ""
      }
     },
     "0b1d4631fded4312b8cab42c3849aaa1": {
      "model_module": "@jupyter-widgets/base",
      "model_module_version": "2.0.0",
      "model_name": "LayoutModel",
      "state": {}
     },
     "0c3f1e43104d405cb769d9627a9223c2": {
      "model_module": "@jupyter-widgets/base",
      "model_module_version": "2.0.0",
      "model_name": "LayoutModel",
      "state": {}
     },
     "0e00374c5fe242719efdd8c7787e21d4": {
      "model_module": "@jupyter-widgets/base",
      "model_module_version": "2.0.0",
      "model_name": "LayoutModel",
      "state": {}
     },
     "0e37f244b2024ce69cfa3c647d61c672": {
      "model_module": "@jupyter-widgets/controls",
      "model_module_version": "2.0.0",
      "model_name": "ProgressStyleModel",
      "state": {
       "description_width": ""
      }
     },
     "104044dd22e847ef9baf653543c9bb45": {
      "model_module": "@jupyter-widgets/controls",
      "model_module_version": "2.0.0",
      "model_name": "HTMLStyleModel",
      "state": {
       "description_width": "",
       "font_size": null,
       "text_color": null
      }
     },
     "1049952902144b5f9e571e39ba09b4da": {
      "model_module": "@jupyter-widgets/base",
      "model_module_version": "2.0.0",
      "model_name": "LayoutModel",
      "state": {}
     },
     "116cabf1bdb2434d80b4dac9b0b7d282": {
      "model_module": "@jupyter-widgets/controls",
      "model_module_version": "2.0.0",
      "model_name": "HBoxModel",
      "state": {
       "children": [
        "IPY_MODEL_3724c1f9da994a33b7ecdf1da91d7763",
        "IPY_MODEL_5e9b9a095bf04071b81cfd01c5525403",
        "IPY_MODEL_d519abd4af40493c88e4280113f30aa3"
       ],
       "layout": "IPY_MODEL_78b13534b741495f841c015505244a5c"
      }
     },
     "11fe0599db214ff39902c51fee44a714": {
      "model_module": "@jupyter-widgets/controls",
      "model_module_version": "2.0.0",
      "model_name": "FloatProgressModel",
      "state": {
       "bar_style": "success",
       "layout": "IPY_MODEL_3e3b0ce371904b4788f7f46a51a9fddc",
       "max": 7,
       "style": "IPY_MODEL_f707bb49ff0d450bba05756571ae9e0c",
       "value": 7
      }
     },
     "124b162fcf4e40b887941bad378b18f5": {
      "model_module": "@jupyter-widgets/controls",
      "model_module_version": "2.0.0",
      "model_name": "HTMLModel",
      "state": {
       "layout": "IPY_MODEL_fa388a7edb6d4c51adb845321b349587",
       "style": "IPY_MODEL_853266dd4297454aa27812e627cd5a1f",
       "value": " 7/7 [00:01&lt;00:00,  6.65it/s]"
      }
     },
     "13d4576f437a46a6ada5eddb0a8ecf23": {
      "model_module": "@jupyter-widgets/controls",
      "model_module_version": "2.0.0",
      "model_name": "HTMLStyleModel",
      "state": {
       "description_width": "",
       "font_size": null,
       "text_color": null
      }
     },
     "14acbf1728214f518295cf16dcd720ae": {
      "model_module": "@jupyter-widgets/controls",
      "model_module_version": "2.0.0",
      "model_name": "HTMLModel",
      "state": {
       "layout": "IPY_MODEL_6bf1ee9bb5084b1dae7ca4f672cbabd5",
       "style": "IPY_MODEL_fbea1efc49ae4fbcbcc17b7e35858318",
       "value": "vocab.json: 100%"
      }
     },
     "150f6c7a0a74446c92557d3d55d4dd12": {
      "model_module": "@jupyter-widgets/base",
      "model_module_version": "2.0.0",
      "model_name": "LayoutModel",
      "state": {}
     },
     "15483e65320e4394be54e26a0ae2ddd6": {
      "model_module": "@jupyter-widgets/controls",
      "model_module_version": "2.0.0",
      "model_name": "HBoxModel",
      "state": {
       "children": [
        "IPY_MODEL_620443246ff942c1bc3cc8274459b4b3",
        "IPY_MODEL_9a1164a1e8df402f848ad308a54e9f4c",
        "IPY_MODEL_727b960d8ec94c3bb54d3fe8f57eaa85"
       ],
       "layout": "IPY_MODEL_155eb69a053b492584d93a870655a204"
      }
     },
     "155eb69a053b492584d93a870655a204": {
      "model_module": "@jupyter-widgets/base",
      "model_module_version": "2.0.0",
      "model_name": "LayoutModel",
      "state": {}
     },
     "16c9c43137ff4206b628dbd7ae1cd0c2": {
      "model_module": "@jupyter-widgets/controls",
      "model_module_version": "2.0.0",
      "model_name": "HTMLStyleModel",
      "state": {
       "description_width": "",
       "font_size": null,
       "text_color": null
      }
     },
     "17e49357af8b42f6b817a141fb363f36": {
      "model_module": "@jupyter-widgets/controls",
      "model_module_version": "2.0.0",
      "model_name": "HTMLStyleModel",
      "state": {
       "description_width": "",
       "font_size": null,
       "text_color": null
      }
     },
     "183ac629609640d4be0674c74ca779dc": {
      "model_module": "@jupyter-widgets/controls",
      "model_module_version": "2.0.0",
      "model_name": "HBoxModel",
      "state": {
       "children": [
        "IPY_MODEL_7f5ac4e6452a4519a1ee95c871fd9bc4",
        "IPY_MODEL_11fe0599db214ff39902c51fee44a714",
        "IPY_MODEL_124b162fcf4e40b887941bad378b18f5"
       ],
       "layout": "IPY_MODEL_21d7f8ac119d48109d061e3f08cc6ea6"
      }
     },
     "1a8716b9abed4745bdb168eec82c7270": {
      "model_module": "@jupyter-widgets/base",
      "model_module_version": "2.0.0",
      "model_name": "LayoutModel",
      "state": {}
     },
     "1c4d34bd67e94df0a3b343cea45521de": {
      "model_module": "@jupyter-widgets/controls",
      "model_module_version": "2.0.0",
      "model_name": "HTMLModel",
      "state": {
       "layout": "IPY_MODEL_a8f9c07b2d31438f854cd08cf1419043",
       "style": "IPY_MODEL_d5b89cc021d34880acc830c56ae9e57f",
       "value": " 209/209 [00:00&lt;00:00, 8.63kB/s]"
      }
     },
     "1f8ab2a06bae4b16830e2fad5fc72a66": {
      "model_module": "@jupyter-widgets/controls",
      "model_module_version": "2.0.0",
      "model_name": "HTMLModel",
      "state": {
       "layout": "IPY_MODEL_c38fc50c838d4e88a03d25a22bab5b85",
       "style": "IPY_MODEL_97e3468316c748d2b06a635c3ef4fdb1",
       "value": "config.json: 100%"
      }
     },
     "20b077341c6440b484c943029978aaea": {
      "model_module": "@jupyter-widgets/controls",
      "model_module_version": "2.0.0",
      "model_name": "HTMLModel",
      "state": {
       "layout": "IPY_MODEL_8f097971fc6b4313976cc87e64dbbeb8",
       "style": "IPY_MODEL_a706985e27e642709678d2d4a245cf7c",
       "value": "scheduler_config.json: 100%"
      }
     },
     "21d7f8ac119d48109d061e3f08cc6ea6": {
      "model_module": "@jupyter-widgets/base",
      "model_module_version": "2.0.0",
      "model_name": "LayoutModel",
      "state": {}
     },
     "242eedddf4e542d98e3caf3707441dd2": {
      "model_module": "@jupyter-widgets/base",
      "model_module_version": "2.0.0",
      "model_name": "LayoutModel",
      "state": {}
     },
     "24a0505b59134435a27e1c159b40b82f": {
      "model_module": "@jupyter-widgets/controls",
      "model_module_version": "2.0.0",
      "model_name": "HTMLModel",
      "state": {
       "layout": "IPY_MODEL_81aea221fc0c45249b6e638390eba1ba",
       "style": "IPY_MODEL_c5f584073e10469b9951ac9975c455b9",
       "value": " 16/16 [01:51&lt;00:00,  7.51s/it]"
      }
     },
     "254397aa0c2c4e9fb2c696b2f3f51c6c": {
      "model_module": "@jupyter-widgets/base",
      "model_module_version": "2.0.0",
      "model_name": "LayoutModel",
      "state": {}
     },
     "27eb808588c94c2180e94102e9a30d36": {
      "model_module": "@jupyter-widgets/controls",
      "model_module_version": "2.0.0",
      "model_name": "ProgressStyleModel",
      "state": {
       "description_width": ""
      }
     },
     "2bf7360eb947435e958966b04c91a05e": {
      "model_module": "@jupyter-widgets/controls",
      "model_module_version": "2.0.0",
      "model_name": "HTMLStyleModel",
      "state": {
       "description_width": "",
       "font_size": null,
       "text_color": null
      }
     },
     "2ced000e6ecb4f71a21a53ad439c9bd9": {
      "model_module": "@jupyter-widgets/controls",
      "model_module_version": "2.0.0",
      "model_name": "HTMLStyleModel",
      "state": {
       "description_width": "",
       "font_size": null,
       "text_color": null
      }
     },
     "2d620976204c4e4fb38f259d471b6b2c": {
      "model_module": "@jupyter-widgets/base",
      "model_module_version": "2.0.0",
      "model_name": "LayoutModel",
      "state": {}
     },
     "2d8a39ef0aec45daa71cc71dd4bea54f": {
      "model_module": "@jupyter-widgets/controls",
      "model_module_version": "2.0.0",
      "model_name": "FloatProgressModel",
      "state": {
       "bar_style": "success",
       "layout": "IPY_MODEL_70b0573940dc4faea4ca4d6405810b87",
       "max": 572,
       "style": "IPY_MODEL_384ba8e47cd44bda96bccd433138c799",
       "value": 572
      }
     },
     "2db09031c16a475aa42b3acc34942083": {
      "model_module": "@jupyter-widgets/base",
      "model_module_version": "2.0.0",
      "model_name": "LayoutModel",
      "state": {}
     },
     "2f9cc5708f534715829b7c504aba9e67": {
      "model_module": "@jupyter-widgets/controls",
      "model_module_version": "2.0.0",
      "model_name": "FloatProgressModel",
      "state": {
       "bar_style": "success",
       "layout": "IPY_MODEL_5c60f48e8bf34ef48a592207a3260167",
       "max": 524619,
       "style": "IPY_MODEL_0e37f244b2024ce69cfa3c647d61c672",
       "value": 524619
      }
     },
     "2fa1173b21b24f4bb9d31b78edbde86f": {
      "model_module": "@jupyter-widgets/base",
      "model_module_version": "2.0.0",
      "model_name": "LayoutModel",
      "state": {}
     },
     "30e5fdc3af5b46fd94734b00c17e77ae": {
      "model_module": "@jupyter-widgets/controls",
      "model_module_version": "2.0.0",
      "model_name": "HTMLStyleModel",
      "state": {
       "description_width": "",
       "font_size": null,
       "text_color": null
      }
     },
     "323b0da8136a46368cee75f5c06e375d": {
      "model_module": "@jupyter-widgets/base",
      "model_module_version": "2.0.0",
      "model_name": "LayoutModel",
      "state": {}
     },
     "32dad2ed380d4c30bf8e46fbce266aca": {
      "model_module": "@jupyter-widgets/base",
      "model_module_version": "2.0.0",
      "model_name": "LayoutModel",
      "state": {}
     },
     "344bb7e31b2c42d18d98fa900445e4f6": {
      "model_module": "@jupyter-widgets/controls",
      "model_module_version": "2.0.0",
      "model_name": "HBoxModel",
      "state": {
       "children": [
        "IPY_MODEL_ea68e5e1d3f241dba57d130c5c1c6012",
        "IPY_MODEL_771aa6ca405e4054a82bd877c35ea3ce",
        "IPY_MODEL_b6af1c8120c246c09e0e59569dfeaf48"
       ],
       "layout": "IPY_MODEL_ed8ad8f185924f2c9328605643eafaeb"
      }
     },
     "34da5baeddb8424087b516ffe9c88169": {
      "model_module": "@jupyter-widgets/controls",
      "model_module_version": "2.0.0",
      "model_name": "HBoxModel",
      "state": {
       "children": [
        "IPY_MODEL_91263540f4864d1baad0c5a4acaf3618",
        "IPY_MODEL_47097467c70e4e01b427758808acda58",
        "IPY_MODEL_f5fe91bc0c7d4ce18a916c221a02ac56"
       ],
       "layout": "IPY_MODEL_0155e3762b4c4575981783b1eefc364e"
      }
     },
     "36332856351e4a968371747158638223": {
      "model_module": "@jupyter-widgets/controls",
      "model_module_version": "2.0.0",
      "model_name": "HTMLStyleModel",
      "state": {
       "description_width": "",
       "font_size": null,
       "text_color": null
      }
     },
     "370340db8f3b459c9549c2eeac16101c": {
      "model_module": "@jupyter-widgets/controls",
      "model_module_version": "2.0.0",
      "model_name": "HTMLStyleModel",
      "state": {
       "description_width": "",
       "font_size": null,
       "text_color": null
      }
     },
     "3724c1f9da994a33b7ecdf1da91d7763": {
      "model_module": "@jupyter-widgets/controls",
      "model_module_version": "2.0.0",
      "model_name": "HTMLModel",
      "state": {
       "layout": "IPY_MODEL_acfab39f3b89462ca6866733f4962a2e",
       "style": "IPY_MODEL_370340db8f3b459c9549c2eeac16101c",
       "value": "tokenizer_config.json: 100%"
      }
     },
     "383c234949374aa5bf7690552bffd56d": {
      "model_module": "@jupyter-widgets/controls",
      "model_module_version": "2.0.0",
      "model_name": "HTMLModel",
      "state": {
       "layout": "IPY_MODEL_cf1a18203dec44b982cec90eaafec268",
       "style": "IPY_MODEL_9f05c873e5f341b2bed8e9792bbc12cb",
       "value": " 167M/167M [00:41&lt;00:00, 5.98MB/s]"
      }
     },
     "384ba8e47cd44bda96bccd433138c799": {
      "model_module": "@jupyter-widgets/controls",
      "model_module_version": "2.0.0",
      "model_name": "ProgressStyleModel",
      "state": {
       "description_width": ""
      }
     },
     "398bc60358b04c6da0fe48bcdd68b316": {
      "model_module": "@jupyter-widgets/base",
      "model_module_version": "2.0.0",
      "model_name": "LayoutModel",
      "state": {}
     },
     "3d30a4c44d174bdcaa76922d15407810": {
      "model_module": "@jupyter-widgets/base",
      "model_module_version": "2.0.0",
      "model_name": "LayoutModel",
      "state": {}
     },
     "3d8409092aff4f4cbe716e02afe0603f": {
      "model_module": "@jupyter-widgets/base",
      "model_module_version": "2.0.0",
      "model_name": "LayoutModel",
      "state": {}
     },
     "3e3b0ce371904b4788f7f46a51a9fddc": {
      "model_module": "@jupyter-widgets/base",
      "model_module_version": "2.0.0",
      "model_name": "LayoutModel",
      "state": {}
     },
     "3efa11a6960d4a5ab0d352921de7fee5": {
      "model_module": "@jupyter-widgets/controls",
      "model_module_version": "2.0.0",
      "model_name": "HTMLModel",
      "state": {
       "layout": "IPY_MODEL_1049952902144b5f9e571e39ba09b4da",
       "style": "IPY_MODEL_4b6c931b5b63431fbe39b0259d580e7d",
       "value": " 572/572 [00:00&lt;00:00, 56.6kB/s]"
      }
     },
     "4107877f7470449db503f5fbb4ce609f": {
      "model_module": "@jupyter-widgets/base",
      "model_module_version": "2.0.0",
      "model_name": "LayoutModel",
      "state": {}
     },
     "43b2a50da3e845e0b78f6d8e9ac4f95f": {
      "model_module": "@jupyter-widgets/base",
      "model_module_version": "2.0.0",
      "model_name": "LayoutModel",
      "state": {}
     },
     "44057ae465754c1398c12d99bf57f8c5": {
      "model_module": "@jupyter-widgets/controls",
      "model_module_version": "2.0.0",
      "model_name": "HTMLStyleModel",
      "state": {
       "description_width": "",
       "font_size": null,
       "text_color": null
      }
     },
     "459e4d7f5f7b42cda213d7d8d0ace83e": {
      "model_module": "@jupyter-widgets/controls",
      "model_module_version": "2.0.0",
      "model_name": "HBoxModel",
      "state": {
       "children": [
        "IPY_MODEL_4f17734e6f24407ca686f4b94c73d2b0",
        "IPY_MODEL_0152e1381ad1427285bda7603ac2f3c9",
        "IPY_MODEL_69c1acb8525046d192760773f1b8f8f3"
       ],
       "layout": "IPY_MODEL_e6f47e7475fe49189a586be189118f0f"
      }
     },
     "47097467c70e4e01b427758808acda58": {
      "model_module": "@jupyter-widgets/controls",
      "model_module_version": "2.0.0",
      "model_name": "FloatProgressModel",
      "state": {
       "bar_style": "success",
       "layout": "IPY_MODEL_0b1d4631fded4312b8cab42c3849aaa1",
       "max": 472,
       "style": "IPY_MODEL_87841d795e7441e388635cd6b7ebaffe",
       "value": 472
      }
     },
     "478a92047e0443bb8988c785d46e3052": {
      "model_module": "@jupyter-widgets/base",
      "model_module_version": "2.0.0",
      "model_name": "LayoutModel",
      "state": {}
     },
     "4b6c931b5b63431fbe39b0259d580e7d": {
      "model_module": "@jupyter-widgets/controls",
      "model_module_version": "2.0.0",
      "model_name": "HTMLStyleModel",
      "state": {
       "description_width": "",
       "font_size": null,
       "text_color": null
      }
     },
     "4e26d53d4eb44739a8a0d276def935da": {
      "model_module": "@jupyter-widgets/controls",
      "model_module_version": "2.0.0",
      "model_name": "ProgressStyleModel",
      "state": {
       "description_width": ""
      }
     },
     "4e9e8611167b4036a344d63f3a5215c5": {
      "model_module": "@jupyter-widgets/controls",
      "model_module_version": "2.0.0",
      "model_name": "HTMLStyleModel",
      "state": {
       "description_width": "",
       "font_size": null,
       "text_color": null
      }
     },
     "4f17734e6f24407ca686f4b94c73d2b0": {
      "model_module": "@jupyter-widgets/controls",
      "model_module_version": "2.0.0",
      "model_name": "HTMLModel",
      "state": {
       "layout": "IPY_MODEL_db398c8aeb67407e8400652ff6b115b7",
       "style": "IPY_MODEL_868da4b1af5a41b7be3ee94e2a807797",
       "value": "model_index.json: 100%"
      }
     },
     "51399fc5d73642c799ce62eb59477ee0": {
      "model_module": "@jupyter-widgets/controls",
      "model_module_version": "2.0.0",
      "model_name": "HBoxModel",
      "state": {
       "children": [
        "IPY_MODEL_5ad5307b8d974c368697e03c480bf310",
        "IPY_MODEL_7de61f29062d4028a60d5e0fa67da5fa",
        "IPY_MODEL_b48401da959e45a093f8141dc6bdd6ad"
       ],
       "layout": "IPY_MODEL_323b0da8136a46368cee75f5c06e375d"
      }
     },
     "52a80d67e08149ad9eed985ad7973b1e": {
      "model_module": "@jupyter-widgets/controls",
      "model_module_version": "2.0.0",
      "model_name": "HTMLModel",
      "state": {
       "layout": "IPY_MODEL_254397aa0c2c4e9fb2c696b2f3f51c6c",
       "style": "IPY_MODEL_16c9c43137ff4206b628dbd7ae1cd0c2",
       "value": " 525k/525k [00:00&lt;00:00, 781kB/s]"
      }
     },
     "52be997f331141a182f31ec9499884e5": {
      "model_module": "@jupyter-widgets/base",
      "model_module_version": "2.0.0",
      "model_name": "LayoutModel",
      "state": {}
     },
     "545000937dcd410ea4a7ec8820f56123": {
      "model_module": "@jupyter-widgets/controls",
      "model_module_version": "2.0.0",
      "model_name": "ProgressStyleModel",
      "state": {
       "description_width": ""
      }
     },
     "57ae1263e005419dae3913be3a06e2c4": {
      "model_module": "@jupyter-widgets/base",
      "model_module_version": "2.0.0",
      "model_name": "LayoutModel",
      "state": {}
     },
     "581cfa28a5a44b38b542c8cb8a4b9743": {
      "model_module": "@jupyter-widgets/controls",
      "model_module_version": "2.0.0",
      "model_name": "HTMLModel",
      "state": {
       "layout": "IPY_MODEL_cb060f0bc4ef443fb1103423e7459f7a",
       "style": "IPY_MODEL_707c8458f75046109c354dd7ffb0afc1",
       "value": "Fetching 16 files: 100%"
      }
     },
     "58a3e3cf033f4929a9ad18db22c1d5dd": {
      "model_module": "@jupyter-widgets/controls",
      "model_module_version": "2.0.0",
      "model_name": "FloatProgressModel",
      "state": {
       "bar_style": "success",
       "layout": "IPY_MODEL_1a8716b9abed4745bdb168eec82c7270",
       "max": 307,
       "style": "IPY_MODEL_6a41ce5593df413abb64db2d7fffc32c",
       "value": 307
      }
     },
     "595149795cf0440c88ea3e48689a1025": {
      "model_module": "@jupyter-widgets/controls",
      "model_module_version": "2.0.0",
      "model_name": "HBoxModel",
      "state": {
       "children": [
        "IPY_MODEL_14acbf1728214f518295cf16dcd720ae",
        "IPY_MODEL_a91d6adbdd26497a93fd6f223d8246d3",
        "IPY_MODEL_e8ca1b80b04e492fb0b7f14461ff21fe"
       ],
       "layout": "IPY_MODEL_72f62bf671b242978f294bbd6a52079e"
      }
     },
     "5ad5307b8d974c368697e03c480bf310": {
      "model_module": "@jupyter-widgets/controls",
      "model_module_version": "2.0.0",
      "model_name": "HTMLModel",
      "state": {
       "layout": "IPY_MODEL_9d0d51da8541484aa424ed879e589ab8",
       "style": "IPY_MODEL_4e9e8611167b4036a344d63f3a5215c5",
       "value": "pytorch_model.bin: 100%"
      }
     },
     "5ae139b74e0e47818d08ef59f8ea821c": {
      "model_module": "@jupyter-widgets/controls",
      "model_module_version": "2.0.0",
      "model_name": "HTMLStyleModel",
      "state": {
       "description_width": "",
       "font_size": null,
       "text_color": null
      }
     },
     "5bbd27dceb114302a9a8a765d78b4298": {
      "model_module": "@jupyter-widgets/controls",
      "model_module_version": "2.0.0",
      "model_name": "HBoxModel",
      "state": {
       "children": [
        "IPY_MODEL_764d796885384b88a729972d08d34b6c",
        "IPY_MODEL_d7009241b8d944768a392f20d6541db5",
        "IPY_MODEL_fd34a3f3c46340d78c03245e172ab591"
       ],
       "layout": "IPY_MODEL_c9e05c6e9f5242baa573e4e85c995cbb"
      }
     },
     "5bde4947a5dc484fbf68a672b17c4b0b": {
      "model_module": "@jupyter-widgets/base",
      "model_module_version": "2.0.0",
      "model_name": "LayoutModel",
      "state": {}
     },
     "5c60f48e8bf34ef48a592207a3260167": {
      "model_module": "@jupyter-widgets/base",
      "model_module_version": "2.0.0",
      "model_name": "LayoutModel",
      "state": {}
     },
     "5e9b9a095bf04071b81cfd01c5525403": {
      "model_module": "@jupyter-widgets/controls",
      "model_module_version": "2.0.0",
      "model_name": "FloatProgressModel",
      "state": {
       "bar_style": "success",
       "layout": "IPY_MODEL_d0ee1fe6060c453c9201fc33b0c8e6ad",
       "max": 788,
       "style": "IPY_MODEL_6d2924b70c814f00b80b9ae9ef447e28",
       "value": 788
      }
     },
     "620443246ff942c1bc3cc8274459b4b3": {
      "model_module": "@jupyter-widgets/controls",
      "model_module_version": "2.0.0",
      "model_name": "HTMLModel",
      "state": {
       "layout": "IPY_MODEL_a0413675e55147a19c559116229dbafc",
       "style": "IPY_MODEL_f270c5a7d5d04692b3b2025e9e426b22",
       "value": "preprocessor_config.json: 100%"
      }
     },
     "634aded854324186b1ecf7d6cf986431": {
      "model_module": "@jupyter-widgets/base",
      "model_module_version": "2.0.0",
      "model_name": "LayoutModel",
      "state": {}
     },
     "63de1d45354a475f814d81eebf70d8de": {
      "model_module": "@jupyter-widgets/base",
      "model_module_version": "2.0.0",
      "model_name": "LayoutModel",
      "state": {}
     },
     "643bb993d76040c799fb7279766c3072": {
      "model_module": "@jupyter-widgets/base",
      "model_module_version": "2.0.0",
      "model_name": "LayoutModel",
      "state": {}
     },
     "688b7740aa8648ef918932f985003fe9": {
      "model_module": "@jupyter-widgets/controls",
      "model_module_version": "2.0.0",
      "model_name": "HTMLStyleModel",
      "state": {
       "description_width": "",
       "font_size": null,
       "text_color": null
      }
     },
     "69bccc734fc645a18eda3c22d2ae8446": {
      "model_module": "@jupyter-widgets/controls",
      "model_module_version": "2.0.0",
      "model_name": "HTMLModel",
      "state": {
       "layout": "IPY_MODEL_3d30a4c44d174bdcaa76922d15407810",
       "style": "IPY_MODEL_c2e5bd2129284280aa1fdec380fddfaa",
       "value": "diffusion_pytorch_model.bin: 100%"
      }
     },
     "69c1acb8525046d192760773f1b8f8f3": {
      "model_module": "@jupyter-widgets/controls",
      "model_module_version": "2.0.0",
      "model_name": "HTMLModel",
      "state": {
       "layout": "IPY_MODEL_a2e813a1d58945218f78ffe7dce28974",
       "style": "IPY_MODEL_44057ae465754c1398c12d99bf57f8c5",
       "value": " 543/543 [00:00&lt;00:00, 17.0kB/s]"
      }
     },
     "69fc0730387e420392efc12d6d341e3b": {
      "model_module": "@jupyter-widgets/controls",
      "model_module_version": "2.0.0",
      "model_name": "HTMLStyleModel",
      "state": {
       "description_width": "",
       "font_size": null,
       "text_color": null
      }
     },
     "6a41ce5593df413abb64db2d7fffc32c": {
      "model_module": "@jupyter-widgets/controls",
      "model_module_version": "2.0.0",
      "model_name": "ProgressStyleModel",
      "state": {
       "description_width": ""
      }
     },
     "6ab776594bb9463eab6dea8142c0e3d9": {
      "model_module": "@jupyter-widgets/controls",
      "model_module_version": "2.0.0",
      "model_name": "HTMLStyleModel",
      "state": {
       "description_width": "",
       "font_size": null,
       "text_color": null
      }
     },
     "6bf1ee9bb5084b1dae7ca4f672cbabd5": {
      "model_module": "@jupyter-widgets/base",
      "model_module_version": "2.0.0",
      "model_name": "LayoutModel",
      "state": {}
     },
     "6d2924b70c814f00b80b9ae9ef447e28": {
      "model_module": "@jupyter-widgets/controls",
      "model_module_version": "2.0.0",
      "model_name": "ProgressStyleModel",
      "state": {
       "description_width": ""
      }
     },
     "6e85d81a929b46ee8f2ff6aa70f2c373": {
      "model_module": "@jupyter-widgets/controls",
      "model_module_version": "2.0.0",
      "model_name": "HTMLModel",
      "state": {
       "layout": "IPY_MODEL_78a4fca89f424ff6b9ab8a425d6fe8c2",
       "style": "IPY_MODEL_5ae139b74e0e47818d08ef59f8ea821c",
       "value": "scheduler_config-checkpoint.json: 100%"
      }
     },
     "707c8458f75046109c354dd7ffb0afc1": {
      "model_module": "@jupyter-widgets/controls",
      "model_module_version": "2.0.0",
      "model_name": "HTMLStyleModel",
      "state": {
       "description_width": "",
       "font_size": null,
       "text_color": null
      }
     },
     "70b0573940dc4faea4ca4d6405810b87": {
      "model_module": "@jupyter-widgets/base",
      "model_module_version": "2.0.0",
      "model_name": "LayoutModel",
      "state": {}
     },
     "727b960d8ec94c3bb54d3fe8f57eaa85": {
      "model_module": "@jupyter-widgets/controls",
      "model_module_version": "2.0.0",
      "model_name": "HTMLModel",
      "state": {
       "layout": "IPY_MODEL_643bb993d76040c799fb7279766c3072",
       "style": "IPY_MODEL_faffe55463fd424b97fe07dbb6af4f17",
       "value": " 342/342 [00:00&lt;00:00, 4.40kB/s]"
      }
     },
     "72f62bf671b242978f294bbd6a52079e": {
      "model_module": "@jupyter-widgets/base",
      "model_module_version": "2.0.0",
      "model_name": "LayoutModel",
      "state": {}
     },
     "74c7852d926d4c9eb47ab63866ea9f39": {
      "model_module": "@jupyter-widgets/controls",
      "model_module_version": "2.0.0",
      "model_name": "ProgressStyleModel",
      "state": {
       "description_width": ""
      }
     },
     "75161308731d47a4b8b16d18e0e963df": {
      "model_module": "@jupyter-widgets/base",
      "model_module_version": "2.0.0",
      "model_name": "LayoutModel",
      "state": {}
     },
     "757d2e81fb84471faf56a2dda346ead9": {
      "model_module": "@jupyter-widgets/base",
      "model_module_version": "2.0.0",
      "model_name": "LayoutModel",
      "state": {}
     },
     "764d796885384b88a729972d08d34b6c": {
      "model_module": "@jupyter-widgets/controls",
      "model_module_version": "2.0.0",
      "model_name": "HTMLModel",
      "state": {
       "layout": "IPY_MODEL_ebb7cd5c3b5c40b6a529dcd085683b1a",
       "style": "IPY_MODEL_2bf7360eb947435e958966b04c91a05e",
       "value": "config.json: 100%"
      }
     },
     "771aa6ca405e4054a82bd877c35ea3ce": {
      "model_module": "@jupyter-widgets/controls",
      "model_module_version": "2.0.0",
      "model_name": "FloatProgressModel",
      "state": {
       "bar_style": "success",
       "layout": "IPY_MODEL_478a92047e0443bb8988c785d46e3052",
       "max": 246184375,
       "style": "IPY_MODEL_545000937dcd410ea4a7ec8820f56123",
       "value": 246184375
      }
     },
     "772e7ca415264211b76bb8ca817dd988": {
      "model_module": "@jupyter-widgets/controls",
      "model_module_version": "2.0.0",
      "model_name": "ProgressStyleModel",
      "state": {
       "description_width": ""
      }
     },
     "78a4fca89f424ff6b9ab8a425d6fe8c2": {
      "model_module": "@jupyter-widgets/base",
      "model_module_version": "2.0.0",
      "model_name": "LayoutModel",
      "state": {}
     },
     "78b13534b741495f841c015505244a5c": {
      "model_module": "@jupyter-widgets/base",
      "model_module_version": "2.0.0",
      "model_name": "LayoutModel",
      "state": {}
     },
     "7a8dd74a412a4769b1475d6f21b8f8e9": {
      "model_module": "@jupyter-widgets/base",
      "model_module_version": "2.0.0",
      "model_name": "LayoutModel",
      "state": {}
     },
     "7de61f29062d4028a60d5e0fa67da5fa": {
      "model_module": "@jupyter-widgets/controls",
      "model_module_version": "2.0.0",
      "model_name": "FloatProgressModel",
      "state": {
       "bar_style": "success",
       "layout": "IPY_MODEL_a0e408cf51f74b4b9eb3fee4a9e21b18",
       "max": 608098599,
       "style": "IPY_MODEL_f181e02841f74874ad8ebbd76e0e2e3e",
       "value": 608098599
      }
     },
     "7f5ac4e6452a4519a1ee95c871fd9bc4": {
      "model_module": "@jupyter-widgets/controls",
      "model_module_version": "2.0.0",
      "model_name": "HTMLModel",
      "state": {
       "layout": "IPY_MODEL_00f59306a2d842f6a9e2b804cdc5a955",
       "style": "IPY_MODEL_2ced000e6ecb4f71a21a53ad439c9bd9",
       "value": "Loading pipeline components...: 100%"
      }
     },
     "81aea221fc0c45249b6e638390eba1ba": {
      "model_module": "@jupyter-widgets/base",
      "model_module_version": "2.0.0",
      "model_name": "LayoutModel",
      "state": {}
     },
     "822924cbbf3642c8a4e80d5e77b3804a": {
      "model_module": "@jupyter-widgets/controls",
      "model_module_version": "2.0.0",
      "model_name": "FloatProgressModel",
      "state": {
       "bar_style": "success",
       "layout": "IPY_MODEL_757d2e81fb84471faf56a2dda346ead9",
       "max": 1719312805,
       "style": "IPY_MODEL_c32a2e0a849040d58a2293927a326e21",
       "value": 1719312805
      }
     },
     "8309d79c40794d549bc996dd1a81de86": {
      "model_module": "@jupyter-widgets/controls",
      "model_module_version": "2.0.0",
      "model_name": "HTMLStyleModel",
      "state": {
       "description_width": "",
       "font_size": null,
       "text_color": null
      }
     },
     "853266dd4297454aa27812e627cd5a1f": {
      "model_module": "@jupyter-widgets/controls",
      "model_module_version": "2.0.0",
      "model_name": "HTMLStyleModel",
      "state": {
       "description_width": "",
       "font_size": null,
       "text_color": null
      }
     },
     "85f29fefa88a47e5975c7cb95cadbdc2": {
      "model_module": "@jupyter-widgets/base",
      "model_module_version": "2.0.0",
      "model_name": "LayoutModel",
      "state": {}
     },
     "868da4b1af5a41b7be3ee94e2a807797": {
      "model_module": "@jupyter-widgets/controls",
      "model_module_version": "2.0.0",
      "model_name": "HTMLStyleModel",
      "state": {
       "description_width": "",
       "font_size": null,
       "text_color": null
      }
     },
     "87841d795e7441e388635cd6b7ebaffe": {
      "model_module": "@jupyter-widgets/controls",
      "model_module_version": "2.0.0",
      "model_name": "ProgressStyleModel",
      "state": {
       "description_width": ""
      }
     },
     "8cf6f515c95f4901b508872d4bd2791f": {
      "model_module": "@jupyter-widgets/controls",
      "model_module_version": "2.0.0",
      "model_name": "HTMLStyleModel",
      "state": {
       "description_width": "",
       "font_size": null,
       "text_color": null
      }
     },
     "8f097971fc6b4313976cc87e64dbbeb8": {
      "model_module": "@jupyter-widgets/base",
      "model_module_version": "2.0.0",
      "model_name": "LayoutModel",
      "state": {}
     },
     "91263540f4864d1baad0c5a4acaf3618": {
      "model_module": "@jupyter-widgets/controls",
      "model_module_version": "2.0.0",
      "model_name": "HTMLModel",
      "state": {
       "layout": "IPY_MODEL_32dad2ed380d4c30bf8e46fbce266aca",
       "style": "IPY_MODEL_6ab776594bb9463eab6dea8142c0e3d9",
       "value": "special_tokens_map.json: 100%"
      }
     },
     "941eadc057c74c10afc2e35ae889d722": {
      "model_module": "@jupyter-widgets/controls",
      "model_module_version": "2.0.0",
      "model_name": "HBoxModel",
      "state": {
       "children": [
        "IPY_MODEL_69bccc734fc645a18eda3c22d2ae8446",
        "IPY_MODEL_822924cbbf3642c8a4e80d5e77b3804a",
        "IPY_MODEL_dc1c823168d742b580af6d0671383d81"
       ],
       "layout": "IPY_MODEL_52be997f331141a182f31ec9499884e5"
      }
     },
     "97e3468316c748d2b06a635c3ef4fdb1": {
      "model_module": "@jupyter-widgets/controls",
      "model_module_version": "2.0.0",
      "model_name": "HTMLStyleModel",
      "state": {
       "description_width": "",
       "font_size": null,
       "text_color": null
      }
     },
     "9892549abf354958b33470cb5bd7e803": {
      "model_module": "@jupyter-widgets/controls",
      "model_module_version": "2.0.0",
      "model_name": "HTMLModel",
      "state": {
       "layout": "IPY_MODEL_0c3f1e43104d405cb769d9627a9223c2",
       "style": "IPY_MODEL_36332856351e4a968371747158638223",
       "value": " 772/772 [00:00&lt;00:00, 130kB/s]"
      }
     },
     "9959eb3089a246f99e6c1f4239edae6f": {
      "model_module": "@jupyter-widgets/controls",
      "model_module_version": "2.0.0",
      "model_name": "HTMLStyleModel",
      "state": {
       "description_width": "",
       "font_size": null,
       "text_color": null
      }
     },
     "9a1164a1e8df402f848ad308a54e9f4c": {
      "model_module": "@jupyter-widgets/controls",
      "model_module_version": "2.0.0",
      "model_name": "FloatProgressModel",
      "state": {
       "bar_style": "success",
       "layout": "IPY_MODEL_634aded854324186b1ecf7d6cf986431",
       "max": 342,
       "style": "IPY_MODEL_27eb808588c94c2180e94102e9a30d36",
       "value": 342
      }
     },
     "9d0d51da8541484aa424ed879e589ab8": {
      "model_module": "@jupyter-widgets/base",
      "model_module_version": "2.0.0",
      "model_name": "LayoutModel",
      "state": {}
     },
     "9e047ba9850d4d5cbf51d0b238dd44b9": {
      "model_module": "@jupyter-widgets/controls",
      "model_module_version": "2.0.0",
      "model_name": "ProgressStyleModel",
      "state": {
       "description_width": ""
      }
     },
     "9f05c873e5f341b2bed8e9792bbc12cb": {
      "model_module": "@jupyter-widgets/controls",
      "model_module_version": "2.0.0",
      "model_name": "HTMLStyleModel",
      "state": {
       "description_width": "",
       "font_size": null,
       "text_color": null
      }
     },
     "a0413675e55147a19c559116229dbafc": {
      "model_module": "@jupyter-widgets/base",
      "model_module_version": "2.0.0",
      "model_name": "LayoutModel",
      "state": {}
     },
     "a0e408cf51f74b4b9eb3fee4a9e21b18": {
      "model_module": "@jupyter-widgets/base",
      "model_module_version": "2.0.0",
      "model_name": "LayoutModel",
      "state": {}
     },
     "a2e813a1d58945218f78ffe7dce28974": {
      "model_module": "@jupyter-widgets/base",
      "model_module_version": "2.0.0",
      "model_name": "LayoutModel",
      "state": {}
     },
     "a411a4884bb24700a1f8defc71526dde": {
      "model_module": "@jupyter-widgets/controls",
      "model_module_version": "2.0.0",
      "model_name": "HTMLStyleModel",
      "state": {
       "description_width": "",
       "font_size": null,
       "text_color": null
      }
     },
     "a435aa0b2e9e407b83f4778ddd34c872": {
      "model_module": "@jupyter-widgets/controls",
      "model_module_version": "2.0.0",
      "model_name": "HTMLModel",
      "state": {
       "layout": "IPY_MODEL_0e00374c5fe242719efdd8c7787e21d4",
       "style": "IPY_MODEL_69fc0730387e420392efc12d6d341e3b",
       "value": " 307/307 [00:00&lt;00:00, 6.10kB/s]"
      }
     },
     "a706985e27e642709678d2d4a245cf7c": {
      "model_module": "@jupyter-widgets/controls",
      "model_module_version": "2.0.0",
      "model_name": "HTMLStyleModel",
      "state": {
       "description_width": "",
       "font_size": null,
       "text_color": null
      }
     },
     "a8f9c07b2d31438f854cd08cf1419043": {
      "model_module": "@jupyter-widgets/base",
      "model_module_version": "2.0.0",
      "model_name": "LayoutModel",
      "state": {}
     },
     "a9189c08355843eba824381822db8713": {
      "model_module": "@jupyter-widgets/controls",
      "model_module_version": "2.0.0",
      "model_name": "HBoxModel",
      "state": {
       "children": [
        "IPY_MODEL_e7b7e09c9a3541679c7ea714d5b5022e",
        "IPY_MODEL_2f9cc5708f534715829b7c504aba9e67",
        "IPY_MODEL_52a80d67e08149ad9eed985ad7973b1e"
       ],
       "layout": "IPY_MODEL_b0a90b7df06d48bca47e5f34e3b4a338"
      }
     },
     "a91d6adbdd26497a93fd6f223d8246d3": {
      "model_module": "@jupyter-widgets/controls",
      "model_module_version": "2.0.0",
      "model_name": "FloatProgressModel",
      "state": {
       "bar_style": "success",
       "layout": "IPY_MODEL_5bde4947a5dc484fbf68a672b17c4b0b",
       "max": 1059962,
       "style": "IPY_MODEL_08c6f267ee0045ea8fcefa8a575ab1e1",
       "value": 1059962
      }
     },
     "acfab39f3b89462ca6866733f4962a2e": {
      "model_module": "@jupyter-widgets/base",
      "model_module_version": "2.0.0",
      "model_name": "LayoutModel",
      "state": {}
     },
     "ad616df955df448e9f195b7e3b244652": {
      "model_module": "@jupyter-widgets/base",
      "model_module_version": "2.0.0",
      "model_name": "LayoutModel",
      "state": {}
     },
     "afbbd9b2b2984e81ae9ad5b0baf21dfa": {
      "model_module": "@jupyter-widgets/controls",
      "model_module_version": "2.0.0",
      "model_name": "FloatProgressModel",
      "state": {
       "bar_style": "success",
       "layout": "IPY_MODEL_43b2a50da3e845e0b78f6d8e9ac4f95f",
       "max": 16,
       "style": "IPY_MODEL_e859c78c20244b268b69386bc67986ae",
       "value": 16
      }
     },
     "afbf06b06a0a45acbbdcab39c3df518b": {
      "model_module": "@jupyter-widgets/base",
      "model_module_version": "2.0.0",
      "model_name": "LayoutModel",
      "state": {}
     },
     "b0a90b7df06d48bca47e5f34e3b4a338": {
      "model_module": "@jupyter-widgets/base",
      "model_module_version": "2.0.0",
      "model_name": "LayoutModel",
      "state": {}
     },
     "b0cb75ffd7644d689ad3c791e52b0b88": {
      "model_module": "@jupyter-widgets/controls",
      "model_module_version": "2.0.0",
      "model_name": "FloatProgressModel",
      "state": {
       "bar_style": "success",
       "layout": "IPY_MODEL_398bc60358b04c6da0fe48bcdd68b316",
       "max": 209,
       "style": "IPY_MODEL_c8d4102e3b964cd396b1017a102a22c2",
       "value": 209
      }
     },
     "b0de72a9bf4c4c80a233a8635fe6134b": {
      "model_module": "@jupyter-widgets/base",
      "model_module_version": "2.0.0",
      "model_name": "LayoutModel",
      "state": {}
     },
     "b1dcd5911c274193bddb92d1a8ce15cc": {
      "model_module": "@jupyter-widgets/controls",
      "model_module_version": "2.0.0",
      "model_name": "HTMLStyleModel",
      "state": {
       "description_width": "",
       "font_size": null,
       "text_color": null
      }
     },
     "b48401da959e45a093f8141dc6bdd6ad": {
      "model_module": "@jupyter-widgets/controls",
      "model_module_version": "2.0.0",
      "model_name": "HTMLModel",
      "state": {
       "layout": "IPY_MODEL_afbf06b06a0a45acbbdcab39c3df518b",
       "style": "IPY_MODEL_688b7740aa8648ef918932f985003fe9",
       "value": " 608M/608M [00:57&lt;00:00, 14.4MB/s]"
      }
     },
     "b6705972ffda4c3e8aeb5b73e58e35de": {
      "model_module": "@jupyter-widgets/controls",
      "model_module_version": "2.0.0",
      "model_name": "FloatProgressModel",
      "state": {
       "bar_style": "success",
       "layout": "IPY_MODEL_e86beb5f562143b689030ff5584662dd",
       "max": 167399505,
       "style": "IPY_MODEL_74c7852d926d4c9eb47ab63866ea9f39",
       "value": 167399505
      }
     },
     "b6af1c8120c246c09e0e59569dfeaf48": {
      "model_module": "@jupyter-widgets/controls",
      "model_module_version": "2.0.0",
      "model_name": "HTMLModel",
      "state": {
       "layout": "IPY_MODEL_150f6c7a0a74446c92557d3d55d4dd12",
       "style": "IPY_MODEL_104044dd22e847ef9baf653543c9bb45",
       "value": " 246M/246M [00:26&lt;00:00, 7.78MB/s]"
      }
     },
     "bc18752bebae40d4a26084850b62745b": {
      "model_module": "@jupyter-widgets/base",
      "model_module_version": "2.0.0",
      "model_name": "LayoutModel",
      "state": {}
     },
     "bca360a2c71d47d7990d158499c169b6": {
      "model_module": "@jupyter-widgets/controls",
      "model_module_version": "2.0.0",
      "model_name": "HTMLModel",
      "state": {
       "layout": "IPY_MODEL_ff06563ea931428a83f799904a7765eb",
       "style": "IPY_MODEL_8309d79c40794d549bc996dd1a81de86",
       "value": " 4.63k/4.63k [00:00&lt;00:00, 113kB/s]"
      }
     },
     "be5aa77edccf46ccbe6683017af0c2e2": {
      "model_module": "@jupyter-widgets/base",
      "model_module_version": "2.0.0",
      "model_name": "LayoutModel",
      "state": {}
     },
     "be62aa12c30142e48036f0080b5175bf": {
      "model_module": "@jupyter-widgets/controls",
      "model_module_version": "2.0.0",
      "model_name": "FloatProgressModel",
      "state": {
       "bar_style": "success",
       "layout": "IPY_MODEL_242eedddf4e542d98e3caf3707441dd2",
       "max": 772,
       "style": "IPY_MODEL_0984df7c881e4cc68943faf88d27f0b9",
       "value": 772
      }
     },
     "c01194903e3540098b328656c785af09": {
      "model_module": "@jupyter-widgets/base",
      "model_module_version": "2.0.0",
      "model_name": "LayoutModel",
      "state": {}
     },
     "c2e5bd2129284280aa1fdec380fddfaa": {
      "model_module": "@jupyter-widgets/controls",
      "model_module_version": "2.0.0",
      "model_name": "HTMLStyleModel",
      "state": {
       "description_width": "",
       "font_size": null,
       "text_color": null
      }
     },
     "c32a2e0a849040d58a2293927a326e21": {
      "model_module": "@jupyter-widgets/controls",
      "model_module_version": "2.0.0",
      "model_name": "ProgressStyleModel",
      "state": {
       "description_width": ""
      }
     },
     "c38fc50c838d4e88a03d25a22bab5b85": {
      "model_module": "@jupyter-widgets/base",
      "model_module_version": "2.0.0",
      "model_name": "LayoutModel",
      "state": {}
     },
     "c5f584073e10469b9951ac9975c455b9": {
      "model_module": "@jupyter-widgets/controls",
      "model_module_version": "2.0.0",
      "model_name": "HTMLStyleModel",
      "state": {
       "description_width": "",
       "font_size": null,
       "text_color": null
      }
     },
     "c8d4102e3b964cd396b1017a102a22c2": {
      "model_module": "@jupyter-widgets/controls",
      "model_module_version": "2.0.0",
      "model_name": "ProgressStyleModel",
      "state": {
       "description_width": ""
      }
     },
     "c9e05c6e9f5242baa573e4e85c995cbb": {
      "model_module": "@jupyter-widgets/base",
      "model_module_version": "2.0.0",
      "model_name": "LayoutModel",
      "state": {}
     },
     "cb060f0bc4ef443fb1103423e7459f7a": {
      "model_module": "@jupyter-widgets/base",
      "model_module_version": "2.0.0",
      "model_name": "LayoutModel",
      "state": {}
     },
     "ce3be22d82df49fea65697e924aa3b9f": {
      "model_module": "@jupyter-widgets/controls",
      "model_module_version": "2.0.0",
      "model_name": "HTMLModel",
      "state": {
       "layout": "IPY_MODEL_ffaf7b5cc4de400f8bae00ddffdeeeb4",
       "style": "IPY_MODEL_cfb1833c988d460ab7f23d01bf1f9c9d",
       "value": "config.json: 100%"
      }
     },
     "cf1a18203dec44b982cec90eaafec268": {
      "model_module": "@jupyter-widgets/base",
      "model_module_version": "2.0.0",
      "model_name": "LayoutModel",
      "state": {}
     },
     "cfb1833c988d460ab7f23d01bf1f9c9d": {
      "model_module": "@jupyter-widgets/controls",
      "model_module_version": "2.0.0",
      "model_name": "HTMLStyleModel",
      "state": {
       "description_width": "",
       "font_size": null,
       "text_color": null
      }
     },
     "d0ee1fe6060c453c9201fc33b0c8e6ad": {
      "model_module": "@jupyter-widgets/base",
      "model_module_version": "2.0.0",
      "model_name": "LayoutModel",
      "state": {}
     },
     "d3e7357404174b94b908a86f8ca47bd7": {
      "model_module": "@jupyter-widgets/controls",
      "model_module_version": "2.0.0",
      "model_name": "HBoxModel",
      "state": {
       "children": [
        "IPY_MODEL_ce3be22d82df49fea65697e924aa3b9f",
        "IPY_MODEL_be62aa12c30142e48036f0080b5175bf",
        "IPY_MODEL_9892549abf354958b33470cb5bd7e803"
       ],
       "layout": "IPY_MODEL_57ae1263e005419dae3913be3a06e2c4"
      }
     },
     "d42b603cf4f5405e890f062391227a33": {
      "model_module": "@jupyter-widgets/controls",
      "model_module_version": "2.0.0",
      "model_name": "HBoxModel",
      "state": {
       "children": [
        "IPY_MODEL_088fe29e0cab4e118991cc5ab6b59c76",
        "IPY_MODEL_eb5a8e253530439aaca276af1fecee17",
        "IPY_MODEL_bca360a2c71d47d7990d158499c169b6"
       ],
       "layout": "IPY_MODEL_3d8409092aff4f4cbe716e02afe0603f"
      }
     },
     "d519abd4af40493c88e4280113f30aa3": {
      "model_module": "@jupyter-widgets/controls",
      "model_module_version": "2.0.0",
      "model_name": "HTMLModel",
      "state": {
       "layout": "IPY_MODEL_c01194903e3540098b328656c785af09",
       "style": "IPY_MODEL_13d4576f437a46a6ada5eddb0a8ecf23",
       "value": " 788/788 [00:00&lt;00:00, 79.8kB/s]"
      }
     },
     "d5b89cc021d34880acc830c56ae9e57f": {
      "model_module": "@jupyter-widgets/controls",
      "model_module_version": "2.0.0",
      "model_name": "HTMLStyleModel",
      "state": {
       "description_width": "",
       "font_size": null,
       "text_color": null
      }
     },
     "d67e8c017959475abb97ffcde683acde": {
      "model_module": "@jupyter-widgets/controls",
      "model_module_version": "2.0.0",
      "model_name": "HBoxModel",
      "state": {
       "children": [
        "IPY_MODEL_20b077341c6440b484c943029978aaea",
        "IPY_MODEL_58a3e3cf033f4929a9ad18db22c1d5dd",
        "IPY_MODEL_a435aa0b2e9e407b83f4778ddd34c872"
       ],
       "layout": "IPY_MODEL_be5aa77edccf46ccbe6683017af0c2e2"
      }
     },
     "d7009241b8d944768a392f20d6541db5": {
      "model_module": "@jupyter-widgets/controls",
      "model_module_version": "2.0.0",
      "model_name": "FloatProgressModel",
      "state": {
       "bar_style": "success",
       "layout": "IPY_MODEL_2db09031c16a475aa42b3acc34942083",
       "max": 550,
       "style": "IPY_MODEL_4e26d53d4eb44739a8a0d276def935da",
       "value": 550
      }
     },
     "da9f478dad5d4c41abdd918514d0b404": {
      "model_module": "@jupyter-widgets/controls",
      "model_module_version": "2.0.0",
      "model_name": "HBoxModel",
      "state": {
       "children": [
        "IPY_MODEL_581cfa28a5a44b38b542c8cb8a4b9743",
        "IPY_MODEL_afbbd9b2b2984e81ae9ad5b0baf21dfa",
        "IPY_MODEL_24a0505b59134435a27e1c159b40b82f"
       ],
       "layout": "IPY_MODEL_75161308731d47a4b8b16d18e0e963df"
      }
     },
     "dacc7edf47294391b5a33134484bb7ae": {
      "model_module": "@jupyter-widgets/controls",
      "model_module_version": "2.0.0",
      "model_name": "HBoxModel",
      "state": {
       "children": [
        "IPY_MODEL_1f8ab2a06bae4b16830e2fad5fc72a66",
        "IPY_MODEL_2d8a39ef0aec45daa71cc71dd4bea54f",
        "IPY_MODEL_3efa11a6960d4a5ab0d352921de7fee5"
       ],
       "layout": "IPY_MODEL_e52e59d5bd074f5cb387926ec248741c"
      }
     },
     "db398c8aeb67407e8400652ff6b115b7": {
      "model_module": "@jupyter-widgets/base",
      "model_module_version": "2.0.0",
      "model_name": "LayoutModel",
      "state": {}
     },
     "dc1c823168d742b580af6d0671383d81": {
      "model_module": "@jupyter-widgets/controls",
      "model_module_version": "2.0.0",
      "model_name": "HTMLModel",
      "state": {
       "layout": "IPY_MODEL_4107877f7470449db503f5fbb4ce609f",
       "style": "IPY_MODEL_17e49357af8b42f6b817a141fb363f36",
       "value": " 1.72G/1.72G [01:50&lt;00:00, 25.2MB/s]"
      }
     },
     "dc51b9de69ed471d8580f4ffab3cad7e": {
      "model_module": "@jupyter-widgets/controls",
      "model_module_version": "2.0.0",
      "model_name": "HTMLStyleModel",
      "state": {
       "description_width": "",
       "font_size": null,
       "text_color": null
      }
     },
     "e361a1ce86864a32aae70d7fa0ce0a0d": {
      "model_module": "@jupyter-widgets/base",
      "model_module_version": "2.0.0",
      "model_name": "LayoutModel",
      "state": {}
     },
     "e52e59d5bd074f5cb387926ec248741c": {
      "model_module": "@jupyter-widgets/base",
      "model_module_version": "2.0.0",
      "model_name": "LayoutModel",
      "state": {}
     },
     "e6f47e7475fe49189a586be189118f0f": {
      "model_module": "@jupyter-widgets/base",
      "model_module_version": "2.0.0",
      "model_name": "LayoutModel",
      "state": {}
     },
     "e7b7e09c9a3541679c7ea714d5b5022e": {
      "model_module": "@jupyter-widgets/controls",
      "model_module_version": "2.0.0",
      "model_name": "HTMLModel",
      "state": {
       "layout": "IPY_MODEL_e361a1ce86864a32aae70d7fa0ce0a0d",
       "style": "IPY_MODEL_30e5fdc3af5b46fd94734b00c17e77ae",
       "value": "merges.txt: 100%"
      }
     },
     "e859c78c20244b268b69386bc67986ae": {
      "model_module": "@jupyter-widgets/controls",
      "model_module_version": "2.0.0",
      "model_name": "ProgressStyleModel",
      "state": {
       "description_width": ""
      }
     },
     "e86beb5f562143b689030ff5584662dd": {
      "model_module": "@jupyter-widgets/base",
      "model_module_version": "2.0.0",
      "model_name": "LayoutModel",
      "state": {}
     },
     "e8ca1b80b04e492fb0b7f14461ff21fe": {
      "model_module": "@jupyter-widgets/controls",
      "model_module_version": "2.0.0",
      "model_name": "HTMLModel",
      "state": {
       "layout": "IPY_MODEL_2d620976204c4e4fb38f259d471b6b2c",
       "style": "IPY_MODEL_b1dcd5911c274193bddb92d1a8ce15cc",
       "value": " 1.06M/1.06M [00:03&lt;00:00, 307kB/s]"
      }
     },
     "ea68e5e1d3f241dba57d130c5c1c6012": {
      "model_module": "@jupyter-widgets/controls",
      "model_module_version": "2.0.0",
      "model_name": "HTMLModel",
      "state": {
       "layout": "IPY_MODEL_b0de72a9bf4c4c80a233a8635fe6134b",
       "style": "IPY_MODEL_070c656ed0424542a83cacb1ee2e1121",
       "value": "pytorch_model.bin: 100%"
      }
     },
     "eb5a8e253530439aaca276af1fecee17": {
      "model_module": "@jupyter-widgets/controls",
      "model_module_version": "2.0.0",
      "model_name": "FloatProgressModel",
      "state": {
       "bar_style": "success",
       "layout": "IPY_MODEL_ad616df955df448e9f195b7e3b244652",
       "max": 4628,
       "style": "IPY_MODEL_9e047ba9850d4d5cbf51d0b238dd44b9",
       "value": 4628
      }
     },
     "ebb7cd5c3b5c40b6a529dcd085683b1a": {
      "model_module": "@jupyter-widgets/base",
      "model_module_version": "2.0.0",
      "model_name": "LayoutModel",
      "state": {}
     },
     "ed8ad8f185924f2c9328605643eafaeb": {
      "model_module": "@jupyter-widgets/base",
      "model_module_version": "2.0.0",
      "model_name": "LayoutModel",
      "state": {}
     },
     "f181e02841f74874ad8ebbd76e0e2e3e": {
      "model_module": "@jupyter-widgets/controls",
      "model_module_version": "2.0.0",
      "model_name": "ProgressStyleModel",
      "state": {
       "description_width": ""
      }
     },
     "f270c5a7d5d04692b3b2025e9e426b22": {
      "model_module": "@jupyter-widgets/controls",
      "model_module_version": "2.0.0",
      "model_name": "HTMLStyleModel",
      "state": {
       "description_width": "",
       "font_size": null,
       "text_color": null
      }
     },
     "f5fe91bc0c7d4ce18a916c221a02ac56": {
      "model_module": "@jupyter-widgets/controls",
      "model_module_version": "2.0.0",
      "model_name": "HTMLModel",
      "state": {
       "layout": "IPY_MODEL_85f29fefa88a47e5975c7cb95cadbdc2",
       "style": "IPY_MODEL_dc51b9de69ed471d8580f4ffab3cad7e",
       "value": " 472/472 [00:00&lt;00:00, 74.5kB/s]"
      }
     },
     "f707bb49ff0d450bba05756571ae9e0c": {
      "model_module": "@jupyter-widgets/controls",
      "model_module_version": "2.0.0",
      "model_name": "ProgressStyleModel",
      "state": {
       "description_width": ""
      }
     },
     "f78533bfa8cd433bb739cbbbb31d21a0": {
      "model_module": "@jupyter-widgets/controls",
      "model_module_version": "2.0.0",
      "model_name": "HBoxModel",
      "state": {
       "children": [
        "IPY_MODEL_6e85d81a929b46ee8f2ff6aa70f2c373",
        "IPY_MODEL_b0cb75ffd7644d689ad3c791e52b0b88",
        "IPY_MODEL_1c4d34bd67e94df0a3b343cea45521de"
       ],
       "layout": "IPY_MODEL_04221ac25be04daa91dc0b6f62b97781"
      }
     },
     "fa388a7edb6d4c51adb845321b349587": {
      "model_module": "@jupyter-widgets/base",
      "model_module_version": "2.0.0",
      "model_name": "LayoutModel",
      "state": {}
     },
     "faffe55463fd424b97fe07dbb6af4f17": {
      "model_module": "@jupyter-widgets/controls",
      "model_module_version": "2.0.0",
      "model_name": "HTMLStyleModel",
      "state": {
       "description_width": "",
       "font_size": null,
       "text_color": null
      }
     },
     "fbea1efc49ae4fbcbcc17b7e35858318": {
      "model_module": "@jupyter-widgets/controls",
      "model_module_version": "2.0.0",
      "model_name": "HTMLStyleModel",
      "state": {
       "description_width": "",
       "font_size": null,
       "text_color": null
      }
     },
     "fd34a3f3c46340d78c03245e172ab591": {
      "model_module": "@jupyter-widgets/controls",
      "model_module_version": "2.0.0",
      "model_name": "HTMLModel",
      "state": {
       "layout": "IPY_MODEL_ffe389bb927142b09ed9f78ad0c66e5e",
       "style": "IPY_MODEL_9959eb3089a246f99e6c1f4239edae6f",
       "value": " 550/550 [00:00&lt;?, ?B/s]"
      }
     },
     "fe02145eb32a4d49953ebd28996827f8": {
      "model_module": "@jupyter-widgets/controls",
      "model_module_version": "2.0.0",
      "model_name": "HTMLModel",
      "state": {
       "layout": "IPY_MODEL_bc18752bebae40d4a26084850b62745b",
       "style": "IPY_MODEL_8cf6f515c95f4901b508872d4bd2791f",
       "value": "diffusion_pytorch_model.bin: 100%"
      }
     },
     "ff06563ea931428a83f799904a7765eb": {
      "model_module": "@jupyter-widgets/base",
      "model_module_version": "2.0.0",
      "model_name": "LayoutModel",
      "state": {}
     },
     "ffaf7b5cc4de400f8bae00ddffdeeeb4": {
      "model_module": "@jupyter-widgets/base",
      "model_module_version": "2.0.0",
      "model_name": "LayoutModel",
      "state": {}
     },
     "ffe389bb927142b09ed9f78ad0c66e5e": {
      "model_module": "@jupyter-widgets/base",
      "model_module_version": "2.0.0",
      "model_name": "LayoutModel",
      "state": {}
     }
    },
    "version_major": 2,
    "version_minor": 0
   }
  }
 },
 "nbformat": 4,
 "nbformat_minor": 5
}
