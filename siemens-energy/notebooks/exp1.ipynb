{
 "cells": [
  {
   "cell_type": "code",
   "execution_count": 27,
   "id": "b11693a7-dfd9-43b9-923b-b5d9823172f3",
   "metadata": {},
   "outputs": [],
   "source": [
    "import os\n",
    "import h5py\n",
    "import pandas as pd"
   ]
  },
  {
   "cell_type": "code",
   "execution_count": 28,
   "id": "5cffc376-6a22-48c3-8251-e933136e3525",
   "metadata": {},
   "outputs": [
    {
     "data": {
      "text/plain": [
       "['graph_module_short_I=1500_T=15.hdf5',\n",
       " 'graph_module_short_I=2000_T=30.hdf5',\n",
       " 'graph_module_short_I=2500_T=45.hdf5',\n",
       " 'graph_module_short_I=3150_T=20.hdf5',\n",
       " 'graph_module_short_I=3150_T=28.7.hdf5',\n",
       " 'graph_module_short_I=3500_T=05.hdf5',\n",
       " 'graph_module_short_I=4000_T=30.hdf5',\n",
       " 'graph_module_short_I=4000_T=50.hdf5',\n",
       " 'graph_module_short_I=4500_T=40.hdf5',\n",
       " 'graph_module_short_I=5000_T=20.hdf5']"
      ]
     },
     "execution_count": 28,
     "metadata": {},
     "output_type": "execute_result"
    }
   ],
   "source": [
    "os.listdir(\"../data/GIS-data/\")"
   ]
  },
  {
   "cell_type": "code",
   "execution_count": 29,
   "id": "82fa19ec-1346-42e8-b540-2aea2c10db03",
   "metadata": {},
   "outputs": [],
   "source": [
    "file_name = \"../data/GIS-data/graph_module_short_I=2000_T=30.hdf5\"\n",
    "mode = \"r\"\n",
    "f = h5py.File(file_name, mode)"
   ]
  },
  {
   "cell_type": "code",
   "execution_count": 30,
   "id": "74add65c-2be3-445a-afbc-3a4c658a47e4",
   "metadata": {},
   "outputs": [
    {
     "name": "stdout",
     "output_type": "stream",
     "text": [
      "<HDF5 dataset \"Ac\": shape (61,), type \"<f8\">\n",
      "<HDF5 dataset \"Q\": shape (61,), type \"<f8\">\n",
      "<HDF5 dataset \"S\": shape (61,), type \"<f8\">\n",
      "<HDF5 dataset \"T_avg\": shape (601, 61, 1), type \"<f8\">\n",
      "<HDF5 dataset \"dh\": shape (61,), type \"<f8\">\n",
      "<HDF5 dataset \"eF\": shape (149, 2), type \"<f8\">\n",
      "<HDF5 dataset \"edge_dst\": shape (149,), type \"<i4\">\n",
      "<HDF5 dataset \"edge_src\": shape (149,), type \"<i4\">\n",
      "<HDF5 dataset \"k\": shape (149,), type \"<f8\">\n",
      "<HDF5 dataset \"node_groups\": shape (61,), type \"|S9\">\n",
      "<HDF5 dataset \"node_names\": shape (61,), type \"|S31\">\n",
      "<HDF5 dataset \"node_pos\": shape (61, 3), type \"<f8\">\n",
      "<HDF5 dataset \"node_types\": shape (61,), type \"<i4\">\n"
     ]
    }
   ],
   "source": [
    "for k in f.keys():\n",
    "    print(f[k])"
   ]
  },
  {
   "cell_type": "code",
   "execution_count": 31,
   "id": "a6c7ae22-7928-4c51-9dc3-bb41271cebf6",
   "metadata": {},
   "outputs": [
    {
     "data": {
      "text/plain": [
       "<KeysViewHDF5 ['Ac', 'Q', 'S', 'T_avg', 'dh', 'eF', 'edge_dst', 'edge_src', 'k', 'node_groups', 'node_names', 'node_pos', 'node_types']>"
      ]
     },
     "execution_count": 31,
     "metadata": {},
     "output_type": "execute_result"
    }
   ],
   "source": [
    "f.keys()"
   ]
  },
  {
   "cell_type": "code",
   "execution_count": 32,
   "id": "f11dfe96-73d8-4c75-94d4-6ba060b02ece",
   "metadata": {},
   "outputs": [
    {
     "name": "stdout",
     "output_type": "stream",
     "text": [
      "(0.0, 0.024)\n",
      "(0.0, 0.024)\n",
      "(0.0, 0.024)\n",
      "(0.0, 195.0)\n",
      "(0.0, 0.024)\n",
      "(0.0, 195.0)\n",
      "(0.0, 0.024)\n",
      "(0.0, 195.0)\n",
      "(0.0, 0.024)\n",
      "(0.0, 195.0)\n",
      "(0.0, 0.024)\n",
      "(0.0, 251.90375000443197)\n",
      "(0.0, 0.024)\n",
      "(0.0, 119.79393287268273)\n",
      "(0.0, 0.024)\n",
      "(0.0, 194.99999999999997)\n",
      "(0.0, 0.024)\n",
      "(21.358049816962918, 251.9128410575842)\n",
      "(1.0423736939006378, 0.024)\n",
      "(0.24832409057412924, 120.36642505901304)\n",
      "(0.24832441841528438, 0.024)\n",
      "(1.120115749674357, 195.0)\n",
      "(0.07575672343860917, 0.024)\n",
      "(0.05626555272304534, 251.89650604288298)\n",
      "(0.17606363459035546, 0.024)\n",
      "(0.07575191156307344, 120.42777080301548)\n",
      "(0.055171507013769, 0.024)\n",
      "(0.1775985280752103, 195.0)\n",
      "(0.07575673415693689, 0.024)\n",
      "(0.05517124568281314, 1.1)\n",
      "(0.1775978060911054, 0.024)\n",
      "(0.24202879561266652, 1.1)\n",
      "(0.242046659187218, 195.0)\n",
      "(0.062204738658541224, 195.0)\n",
      "(0.06301638983117008, 195.0)\n",
      "(0.023664586168281473, 195.0)\n",
      "(0.02366037010415383, 195.0)\n",
      "(0.07302305801340335, 1.1)\n",
      "(0.07221102582363423, 195.0)\n",
      "(0.0076536686473017675, 1.1)\n",
      "(0.013725627895726034, 195.0)\n",
      "(0.0076536686473019505, 1.1)\n",
      "(0.013573748761043534, 195.0)\n",
      "(0.00765366864730177, 1.1)\n",
      "(0.013723400213768508, 251.90375000443197)\n",
      "(0.007653343561797012, 119.79393287268273)\n",
      "(0.007653668647302416, 251.90375000443197)\n",
      "(0.013573748761043534, 1.1)\n",
      "(0.0076536686473017675, 119.79393287268273)\n",
      "(0.013725632147161434, 194.99999999999997)\n",
      "(0.013573748761043542, 194.99999999999997)\n",
      "(0.09330456066008568, 1.1)\n",
      "(0.09330456066008568, 251.9128410575842)\n",
      "(0.010376745636843288, 120.36642505901304)\n",
      "(0.010380937550340976, 251.9128410575842)\n",
      "(0.010376745636843286, 1.1)\n",
      "(0.010380937550340974, 120.36642505901304)\n",
      "(0.010376745636843297, 195.0)\n",
      "(0.010380937550340976, 195.0)\n",
      "(0.2657192941898636, 120.42777080301548)\n",
      "(0.2657067184493706, 195.0)\n"
     ]
    }
   ],
   "source": [
    "for i, j in zip(f[\"Ac\"], f[\"k\"]):\n",
    "    print((i, j))"
   ]
  },
  {
   "cell_type": "code",
   "execution_count": 44,
   "id": "9630fdb8-8d9f-449d-a393-c840ca9b294f",
   "metadata": {},
   "outputs": [
    {
     "name": "stdout",
     "output_type": "stream",
     "text": [
      "61 <HDF5 dataset \"Ac\": shape (61,), type \"<f8\">\n",
      "61 <HDF5 dataset \"Q\": shape (61,), type \"<f8\">\n",
      "61 <HDF5 dataset \"S\": shape (61,), type \"<f8\">\n",
      "601 <HDF5 dataset \"T_avg\": shape (601, 61, 1), type \"<f8\">\n",
      "61 <HDF5 dataset \"dh\": shape (61,), type \"<f8\">\n",
      "149 <HDF5 dataset \"eF\": shape (149, 2), type \"<f8\">\n",
      "149 <HDF5 dataset \"edge_dst\": shape (149,), type \"<i4\">\n",
      "149 <HDF5 dataset \"edge_src\": shape (149,), type \"<i4\">\n",
      "149 <HDF5 dataset \"k\": shape (149,), type \"<f8\">\n",
      "61 <HDF5 dataset \"node_groups\": shape (61,), type \"|S9\">\n",
      "61 <HDF5 dataset \"node_names\": shape (61,), type \"|S31\">\n",
      "61 <HDF5 dataset \"node_pos\": shape (61, 3), type \"<f8\">\n",
      "61 <HDF5 dataset \"node_types\": shape (61,), type \"<i4\">\n"
     ]
    }
   ],
   "source": [
    "# for i in f[\"T_avg\"]:\n",
    "#     print(i)\n",
    "for i in f.keys():\n",
    "    print(len(f[i]), f[i])\n"
   ]
  },
  {
   "cell_type": "code",
   "execution_count": null,
   "id": "53c7494d-3992-4d7e-b912-c5ddee07db69",
   "metadata": {},
   "outputs": [],
   "source": []
  }
 ],
 "metadata": {
  "kernelspec": {
   "display_name": "Python 3 (ipykernel)",
   "language": "python",
   "name": "python3"
  },
  "language_info": {
   "codemirror_mode": {
    "name": "ipython",
    "version": 3
   },
   "file_extension": ".py",
   "mimetype": "text/x-python",
   "name": "python",
   "nbconvert_exporter": "python",
   "pygments_lexer": "ipython3",
   "version": "3.10.7"
  },
  "widgets": {
   "application/vnd.jupyter.widget-state+json": {
    "state": {},
    "version_major": 2,
    "version_minor": 0
   }
  }
 },
 "nbformat": 4,
 "nbformat_minor": 5
}
