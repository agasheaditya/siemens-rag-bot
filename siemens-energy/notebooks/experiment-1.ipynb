{
 "cells": [
  {
   "cell_type": "code",
   "execution_count": 4,
   "id": "ca7b3435-18e0-4a35-8c6c-bc4aebe4248e",
   "metadata": {},
   "outputs": [],
   "source": [
    "import os \n",
    "import torch\n",
    "from datasets import load_dataset\n",
    "from collections import defaultdict\n",
    "from diffusers import StableDiffusionPipeline\n",
    "from huggingface_hub import hf_hub_download"
   ]
  },
  {
   "cell_type": "code",
   "execution_count": null,
   "id": "f54cc055-0195-48c7-8d39-e2ad1ba728c5",
   "metadata": {},
   "outputs": [],
   "source": [
    "## Format\n",
    "## git clone https://<your_username>:<your_access_token>@huggingface.co/<user_or_organization>/<repository_name>.git"
   ]
  }
 ],
 "metadata": {
  "kernelspec": {
   "display_name": "Python 3 (ipykernel)",
   "language": "python",
   "name": "python3"
  },
  "language_info": {
   "codemirror_mode": {
    "name": "ipython",
    "version": 3
   },
   "file_extension": ".py",
   "mimetype": "text/x-python",
   "name": "python",
   "nbconvert_exporter": "python",
   "pygments_lexer": "ipython3",
   "version": "3.10.7"
  },
  "widgets": {
   "application/vnd.jupyter.widget-state+json": {
    "state": {},
    "version_major": 2,
    "version_minor": 0
   }
  }
 },
 "nbformat": 4,
 "nbformat_minor": 5
}
